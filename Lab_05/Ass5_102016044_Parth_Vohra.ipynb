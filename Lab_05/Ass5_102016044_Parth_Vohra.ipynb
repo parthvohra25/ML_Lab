{
  "cells": [
    {
      "cell_type": "markdown",
      "metadata": {
        "id": "9ZISBFOustfU"
      },
      "source": [
        "# Name :  **Parth Vohra**\n",
        "## Roll No. : 102016044\n",
        "### Batch : 3CS10\n",
        "\n",
        "\n",
        "\n",
        "\n"
      ]
    },
    {
      "cell_type": "code",
      "execution_count": 1,
      "metadata": {
        "id": "BN2yXmiVe8le"
      },
      "outputs": [],
      "source": [
        "import pandas as pd\n",
        "import numpy as np\n",
        "import seaborn as sns\n",
        "import matplotlib.pyplot as plt\n",
        "from sklearn.datasets import load_iris"
      ]
    },
    {
      "cell_type": "markdown",
      "metadata": {
        "id": "fJRl6pGCEz5C"
      },
      "source": [
        "## Question 1"
      ]
    },
    {
      "cell_type": "code",
      "execution_count": 2,
      "metadata": {
        "colab": {
          "base_uri": "https://localhost:8080/",
          "height": 206
        },
        "id": "x7YdYNxi4uqP",
        "outputId": "e5dc7952-d4c4-4a94-d86f-d0f5ca2a05b1"
      },
      "outputs": [
        {
          "data": {
            "text/html": [
              "\n",
              "  <div id=\"df-4a2678dd-af8b-42c2-b2eb-8905d0b29d2d\">\n",
              "    <div class=\"colab-df-container\">\n",
              "      <div>\n",
              "<style scoped>\n",
              "    .dataframe tbody tr th:only-of-type {\n",
              "        vertical-align: middle;\n",
              "    }\n",
              "\n",
              "    .dataframe tbody tr th {\n",
              "        vertical-align: top;\n",
              "    }\n",
              "\n",
              "    .dataframe thead th {\n",
              "        text-align: right;\n",
              "    }\n",
              "</style>\n",
              "<table border=\"1\" class=\"dataframe\">\n",
              "  <thead>\n",
              "    <tr style=\"text-align: right;\">\n",
              "      <th></th>\n",
              "      <th>sepal length (cm)</th>\n",
              "      <th>sepal width (cm)</th>\n",
              "      <th>petal length (cm)</th>\n",
              "      <th>petal width (cm)</th>\n",
              "      <th>target</th>\n",
              "    </tr>\n",
              "  </thead>\n",
              "  <tbody>\n",
              "    <tr>\n",
              "      <th>0</th>\n",
              "      <td>5.1</td>\n",
              "      <td>3.5</td>\n",
              "      <td>1.4</td>\n",
              "      <td>0.2</td>\n",
              "      <td>0.0</td>\n",
              "    </tr>\n",
              "    <tr>\n",
              "      <th>1</th>\n",
              "      <td>4.9</td>\n",
              "      <td>3.0</td>\n",
              "      <td>1.4</td>\n",
              "      <td>0.2</td>\n",
              "      <td>0.0</td>\n",
              "    </tr>\n",
              "    <tr>\n",
              "      <th>2</th>\n",
              "      <td>4.7</td>\n",
              "      <td>3.2</td>\n",
              "      <td>1.3</td>\n",
              "      <td>0.2</td>\n",
              "      <td>0.0</td>\n",
              "    </tr>\n",
              "    <tr>\n",
              "      <th>3</th>\n",
              "      <td>4.6</td>\n",
              "      <td>3.1</td>\n",
              "      <td>1.5</td>\n",
              "      <td>0.2</td>\n",
              "      <td>0.0</td>\n",
              "    </tr>\n",
              "    <tr>\n",
              "      <th>4</th>\n",
              "      <td>5.0</td>\n",
              "      <td>3.6</td>\n",
              "      <td>1.4</td>\n",
              "      <td>0.2</td>\n",
              "      <td>0.0</td>\n",
              "    </tr>\n",
              "  </tbody>\n",
              "</table>\n",
              "</div>\n",
              "      <button class=\"colab-df-convert\" onclick=\"convertToInteractive('df-4a2678dd-af8b-42c2-b2eb-8905d0b29d2d')\"\n",
              "              title=\"Convert this dataframe to an interactive table.\"\n",
              "              style=\"display:none;\">\n",
              "        \n",
              "  <svg xmlns=\"http://www.w3.org/2000/svg\" height=\"24px\"viewBox=\"0 0 24 24\"\n",
              "       width=\"24px\">\n",
              "    <path d=\"M0 0h24v24H0V0z\" fill=\"none\"/>\n",
              "    <path d=\"M18.56 5.44l.94 2.06.94-2.06 2.06-.94-2.06-.94-.94-2.06-.94 2.06-2.06.94zm-11 1L8.5 8.5l.94-2.06 2.06-.94-2.06-.94L8.5 2.5l-.94 2.06-2.06.94zm10 10l.94 2.06.94-2.06 2.06-.94-2.06-.94-.94-2.06-.94 2.06-2.06.94z\"/><path d=\"M17.41 7.96l-1.37-1.37c-.4-.4-.92-.59-1.43-.59-.52 0-1.04.2-1.43.59L10.3 9.45l-7.72 7.72c-.78.78-.78 2.05 0 2.83L4 21.41c.39.39.9.59 1.41.59.51 0 1.02-.2 1.41-.59l7.78-7.78 2.81-2.81c.8-.78.8-2.07 0-2.86zM5.41 20L4 18.59l7.72-7.72 1.47 1.35L5.41 20z\"/>\n",
              "  </svg>\n",
              "      </button>\n",
              "      \n",
              "  <style>\n",
              "    .colab-df-container {\n",
              "      display:flex;\n",
              "      flex-wrap:wrap;\n",
              "      gap: 12px;\n",
              "    }\n",
              "\n",
              "    .colab-df-convert {\n",
              "      background-color: #E8F0FE;\n",
              "      border: none;\n",
              "      border-radius: 50%;\n",
              "      cursor: pointer;\n",
              "      display: none;\n",
              "      fill: #1967D2;\n",
              "      height: 32px;\n",
              "      padding: 0 0 0 0;\n",
              "      width: 32px;\n",
              "    }\n",
              "\n",
              "    .colab-df-convert:hover {\n",
              "      background-color: #E2EBFA;\n",
              "      box-shadow: 0px 1px 2px rgba(60, 64, 67, 0.3), 0px 1px 3px 1px rgba(60, 64, 67, 0.15);\n",
              "      fill: #174EA6;\n",
              "    }\n",
              "\n",
              "    [theme=dark] .colab-df-convert {\n",
              "      background-color: #3B4455;\n",
              "      fill: #D2E3FC;\n",
              "    }\n",
              "\n",
              "    [theme=dark] .colab-df-convert:hover {\n",
              "      background-color: #434B5C;\n",
              "      box-shadow: 0px 1px 3px 1px rgba(0, 0, 0, 0.15);\n",
              "      filter: drop-shadow(0px 1px 2px rgba(0, 0, 0, 0.3));\n",
              "      fill: #FFFFFF;\n",
              "    }\n",
              "  </style>\n",
              "\n",
              "      <script>\n",
              "        const buttonEl =\n",
              "          document.querySelector('#df-4a2678dd-af8b-42c2-b2eb-8905d0b29d2d button.colab-df-convert');\n",
              "        buttonEl.style.display =\n",
              "          google.colab.kernel.accessAllowed ? 'block' : 'none';\n",
              "\n",
              "        async function convertToInteractive(key) {\n",
              "          const element = document.querySelector('#df-4a2678dd-af8b-42c2-b2eb-8905d0b29d2d');\n",
              "          const dataTable =\n",
              "            await google.colab.kernel.invokeFunction('convertToInteractive',\n",
              "                                                     [key], {});\n",
              "          if (!dataTable) return;\n",
              "\n",
              "          const docLinkHtml = 'Like what you see? Visit the ' +\n",
              "            '<a target=\"_blank\" href=https://colab.research.google.com/notebooks/data_table.ipynb>data table notebook</a>'\n",
              "            + ' to learn more about interactive tables.';\n",
              "          element.innerHTML = '';\n",
              "          dataTable['output_type'] = 'display_data';\n",
              "          await google.colab.output.renderOutput(dataTable, element);\n",
              "          const docLink = document.createElement('div');\n",
              "          docLink.innerHTML = docLinkHtml;\n",
              "          element.appendChild(docLink);\n",
              "        }\n",
              "      </script>\n",
              "    </div>\n",
              "  </div>\n",
              "  "
            ],
            "text/plain": [
              "   sepal length (cm)  sepal width (cm)  petal length (cm)  petal width (cm)  \\\n",
              "0                5.1               3.5                1.4               0.2   \n",
              "1                4.9               3.0                1.4               0.2   \n",
              "2                4.7               3.2                1.3               0.2   \n",
              "3                4.6               3.1                1.5               0.2   \n",
              "4                5.0               3.6                1.4               0.2   \n",
              "\n",
              "   target  \n",
              "0     0.0  \n",
              "1     0.0  \n",
              "2     0.0  \n",
              "3     0.0  \n",
              "4     0.0  "
            ]
          },
          "execution_count": 2,
          "metadata": {},
          "output_type": "execute_result"
        }
      ],
      "source": [
        "iris_data = load_iris()\n",
        "iris_df = pd.DataFrame(data=np.c_[iris_data['data'], iris_data['target']], columns=iris_data['feature_names']+['target'])\n",
        "iris_df.head()"
      ]
    },
    {
      "cell_type": "code",
      "execution_count": 3,
      "metadata": {
        "id": "7P5xzUNQ-K0X"
      },
      "outputs": [],
      "source": [
        "iris_df.loc[(iris_df[\"target\"])>0] = 1"
      ]
    },
    {
      "cell_type": "code",
      "execution_count": 4,
      "metadata": {
        "colab": {
          "base_uri": "https://localhost:8080/"
        },
        "id": "wy7N6W4kQQcu",
        "outputId": "20c7c35e-a973-4cf8-ea7f-3e1f579e3e88"
      },
      "outputs": [
        {
          "data": {
            "text/plain": [
              "array([0., 1.])"
            ]
          },
          "execution_count": 4,
          "metadata": {},
          "output_type": "execute_result"
        }
      ],
      "source": [
        "iris_df[\"target\"].unique()"
      ]
    },
    {
      "cell_type": "code",
      "execution_count": 5,
      "metadata": {
        "colab": {
          "base_uri": "https://localhost:8080/"
        },
        "id": "CDnugQlmQVl9",
        "outputId": "4c3ed8f1-37e2-4e94-9ada-e0945579d40e"
      },
      "outputs": [
        {
          "data": {
            "text/plain": [
              "sepal length (cm)    0\n",
              "sepal width (cm)     0\n",
              "petal length (cm)    0\n",
              "petal width (cm)     0\n",
              "target               0\n",
              "dtype: int64"
            ]
          },
          "execution_count": 5,
          "metadata": {},
          "output_type": "execute_result"
        }
      ],
      "source": [
        "iris_df.isna().sum()"
      ]
    },
    {
      "cell_type": "code",
      "execution_count": 6,
      "metadata": {
        "colab": {
          "base_uri": "https://localhost:8080/",
          "height": 296
        },
        "id": "558tRh3LS0Oq",
        "outputId": "f31c8676-e341-4e04-8300-6318691f8958"
      },
      "outputs": [
        {
          "data": {
            "text/plain": [
              "<matplotlib.axes._subplots.AxesSubplot at 0x7f61e7546bd0>"
            ]
          },
          "execution_count": 6,
          "metadata": {},
          "output_type": "execute_result"
        },
        {
          "data": {
            "image/png": "[encoded data removed]",
            "text/plain": [
              "<Figure size 432x288 with 1 Axes>"
            ]
          },
          "metadata": {
            "needs_background": "light"
          },
          "output_type": "display_data"
        }
      ],
      "source": [
        "sns.countplot(y=iris_df.iloc[:,4], data=iris_df)"
      ]
    },
    {
      "cell_type": "code",
      "execution_count": 7,
      "metadata": {
        "colab": {
          "base_uri": "https://localhost:8080/",
          "height": 364
        },
        "id": "jqgxVjJK2px-",
        "outputId": "4541a2b2-30fb-4bcc-894b-7f25610605a7"
      },
      "outputs": [
        {
          "data": {
            "text/plain": [
              "<matplotlib.axes._subplots.AxesSubplot at 0x7f61e6fdb610>"
            ]
          },
          "execution_count": 7,
          "metadata": {},
          "output_type": "execute_result"
        },
        {
          "data": {
            "image/png": "[encoded data removed]",
            "text/plain": [
              "<Figure size 432x288 with 2 Axes>"
            ]
          },
          "metadata": {
            "needs_background": "light"
          },
          "output_type": "display_data"
        }
      ],
      "source": [
        "sns.heatmap(iris_df.corr(), annot=True)"
      ]
    },
    {
      "cell_type": "code",
      "execution_count": 8,
      "metadata": {
        "id": "iRpLNa0YCBpz"
      },
      "outputs": [],
      "source": [
        "X = iris_df.drop(\"target\", axis=1)\n",
        "Y = iris_df.iloc[:,4]"
      ]
    },
    {
      "cell_type": "code",
      "execution_count": 9,
      "metadata": {
        "id": "yFaQUXAUBQ5p"
      },
      "outputs": [],
      "source": [
        "from sklearn.preprocessing import StandardScaler\n",
        "ss = StandardScaler()\n",
        "X_scaled = ss.fit_transform(X)\n",
        "X_scaled=np.insert(X_scaled,0,values=1,axis=1)"
      ]
    },
    {
      "cell_type": "code",
      "execution_count": 10,
      "metadata": {
        "colab": {
          "base_uri": "https://localhost:8080/"
        },
        "id": "_7muUrttCgc6",
        "outputId": "baa67231-792f-4e45-dca9-ecd2f8aa612c"
      },
      "outputs": [
        {
          "name": "stdout",
          "output_type": "stream",
          "text": [
            "x_train.shape =  (105, 5)\n",
            "x_test.shape =  (45, 5)\n",
            "y_train.shape =  (105,)\n",
            "y_test.shape =  (45,)\n"
          ]
        }
      ],
      "source": [
        "from sklearn.model_selection import train_test_split\n",
        "x_train, x_test, y_train, y_test = train_test_split(X_scaled, Y, test_size=0.3, random_state=42)\n",
        "print(\"x_train.shape = \", x_train.shape)\n",
        "print(\"x_test.shape = \", x_test.shape)\n",
        "print(\"y_train.shape = \", y_train.shape)\n",
        "print(\"y_test.shape = \", y_test.shape)"
      ]
    },
    {
      "cell_type": "code",
      "execution_count": 11,
      "metadata": {
        "colab": {
          "base_uri": "https://localhost:8080/"
        },
        "id": "D9__ca8oDLCV",
        "outputId": "b5054fbd-4225-4284-b7fb-3973ba4bd65d"
      },
      "outputs": [
        {
          "name": "stdout",
          "output_type": "stream",
          "text": [
            "[ 0.64222568 -0.92443656 -0.89968101 -0.8190506   0.93144237]\n"
          ]
        }
      ],
      "source": [
        "n = 1000\n",
        "alpha = 0.01\n",
        "m,k = x_train.shape\n",
        "beta = np.zeros(k)\n",
        "for i in range(n):\n",
        "    cost_gradient = np.zeros(k)\n",
        "    z = x_train.dot(beta)\n",
        "    predicted = 1/(1+np.exp(-z))\n",
        "    difference = predicted - y_train\n",
        "    for j in range(k):\n",
        "        cost_gradient[j] = np.sum(difference.dot(x_train[:,j]))\n",
        "    for j in range(k):\n",
        "        beta[j] = beta[j] - (alpha/m)*cost_gradient[j]\n",
        "print(beta)"
      ]
    },
    {
      "cell_type": "code",
      "execution_count": 12,
      "metadata": {
        "id": "ldtCTBWFEeMh"
      },
      "outputs": [],
      "source": [
        "y_pred = 1/(1+np.exp(-(x_test.dot(beta))))\n",
        "y_label = np.zeros(len(y_pred))\n",
        "for i in range(len(y_pred)):\n",
        "    if(y_pred[i]>=0.5):\n",
        "        y_label[i]=1"
      ]
    },
    {
      "cell_type": "code",
      "execution_count": 13,
      "metadata": {
        "colab": {
          "base_uri": "https://localhost:8080/"
        },
        "id": "2xBUB9MOE2xd",
        "outputId": "7d0fd155-358a-4298-dc68-27df03045f79"
      },
      "outputs": [
        {
          "name": "stdout",
          "output_type": "stream",
          "text": [
            "True Positive =  26\n",
            "True Negative =  19\n",
            "False Positive =  0\n",
            "False Negative =  0\n"
          ]
        }
      ],
      "source": [
        "tp = 0\n",
        "tn = 0\n",
        "fp = 0\n",
        "fn = 0\n",
        "y_test = np.array(y_test).reshape(-1,1)\n",
        "for i in range(len(y_label)):\n",
        "    if(y_test[i]==1 and y_label[i]==1):\n",
        "        tp+=1\n",
        "    if(y_test[i]==1 and y_label[i]==0):\n",
        "        fn+=1\n",
        "    if(y_test[i]==0 and y_label[i]==0):\n",
        "        tn+=1\n",
        "    if(y_test[i]==0 and y_label[i]==1):\n",
        "        fp+=1\n",
        "\n",
        "print(\"True Positive = \", tp)\n",
        "print(\"True Negative = \", tn)\n",
        "print(\"False Positive = \", fp)\n",
        "print(\"False Negative = \", fn)\n"
      ]
    },
    {
      "cell_type": "code",
      "execution_count": 14,
      "metadata": {
        "colab": {
          "base_uri": "https://localhost:8080/"
        },
        "id": "VtzX5DxoFiHX",
        "outputId": "562a1a12-55cb-462b-d2fd-79e62b741567"
      },
      "outputs": [
        {
          "name": "stdout",
          "output_type": "stream",
          "text": [
            "Accuracy =  1.0\n",
            "Precision Positive =  1.0\n",
            "Recall Positive =  1.0\n",
            "F1_Score Positive =  1.0\n",
            "Precision Negative =  1.0\n",
            "Recall Negative =  1.0\n",
            "F1_Score Negative =  1.0\n"
          ]
        }
      ],
      "source": [
        "accuracy=(tp+tn)/(tp+tn+fp+fn)\n",
        "print(\"Accuracy = \", accuracy)\n",
        "\n",
        "precision_pos = tp/(tp+fp)\n",
        "recall_pos = tp/(tp+fn)\n",
        "f1_score_pos = 2*precision_pos*recall_pos/(precision_pos+recall_pos)\n",
        "print(\"Precision Positive = \", precision_pos)\n",
        "print(\"Recall Positive = \", recall_pos)\n",
        "print(\"F1_Score Positive = \", f1_score_pos)\n",
        "\n",
        "\n",
        "precision_neg = tn/(tn+fn)\n",
        "recall_neg = tn/(tn+fp)\n",
        "f1_score_neg = 2*precision_neg*recall_neg/(precision_neg+recall_neg)\n",
        "print(\"Precision Negative = \", precision_neg)\n",
        "print(\"Recall Negative = \", recall_neg)\n",
        "print(\"F1_Score Negative = \", f1_score_pos)"
      ]
    },
    {
      "cell_type": "code",
      "execution_count": 15,
      "metadata": {
        "colab": {
          "base_uri": "https://localhost:8080/"
        },
        "id": "LKnacZd4ILmk",
        "outputId": "9ff740f8-77b5-4e80-d445-89987a85eaa3"
      },
      "outputs": [
        {
          "name": "stdout",
          "output_type": "stream",
          "text": [
            "Macro Precision =  1.0\n",
            "Macro Recall =  1.0\n",
            "Macro F1_Score =  1.0\n"
          ]
        }
      ],
      "source": [
        "\n",
        "\n",
        "macro_precision = (precision_pos + precision_neg)/2\n",
        "macro_recall = (recall_pos + recall_neg)/2\n",
        "macro_f1_score = (f1_score_pos + f1_score_neg)/2\n",
        "print(\"Macro Precision = \", macro_precision)\n",
        "print(\"Macro Recall = \", macro_recall)\n",
        "print(\"Macro F1_Score = \", macro_f1_score)"
      ]
    },
    {
      "cell_type": "code",
      "execution_count": 16,
      "metadata": {
        "colab": {
          "base_uri": "https://localhost:8080/"
        },
        "id": "OSAe69H4J93C",
        "outputId": "d596fc49-fd14-48c1-b126-b7de3ec77653"
      },
      "outputs": [
        {
          "name": "stdout",
          "output_type": "stream",
          "text": [
            "Weighted Precision =  1.0\n",
            "Weighted Recall =  1.0\n",
            "Weighted F1_Score =  1.0\n"
          ]
        }
      ],
      "source": [
        "l1 = len(y_test[y_test==0])\n",
        "l2 = len(y_test[y_test==1])\n",
        "weighted_precision = (l1*precision_neg + l2*precision_pos)/(l1+l2)\n",
        "weighted_recall = (l1*recall_neg + l2*recall_pos)/(l1+l2)\n",
        "weighted_f1_score = (l1*f1_score_neg + l2*f1_score_pos)/(l1+l2)\n",
        "print(\"Weighted Precision = \", weighted_precision)\n",
        "print(\"Weighted Recall = \", weighted_recall)\n",
        "print(\"Weighted F1_Score = \", weighted_f1_score)"
      ]
    },
    {
      "cell_type": "markdown",
      "metadata": {
        "id": "2HVS6Vj4KhQI"
      },
      "source": [
        "## Question 2"
      ]
    },
    {
      "cell_type": "code",
      "execution_count": 19,
      "metadata": {
        "colab": {
          "base_uri": "https://localhost:8080/"
        },
        "id": "ixyUmVufsKXM",
        "outputId": "c25a2997-bfca-491d-feb4-36184e2e53fd"
      },
      "outputs": [
        {
          "name": "stdout",
          "output_type": "stream",
          "text": [
            "Mounted at /content/drive\n"
          ]
        }
      ],
      "source": [
        "from google.colab import drive\n",
        "drive.mount('/content/drive')"
      ]
    },
    {
      "cell_type": "code",
      "execution_count": 17,
      "metadata": {
        "id": "8-RbfrZ12au2"
      },
      "outputs": [],
      "source": [
        "headers = [\"col1\", \"col2\", \"target\"]"
      ]
    },
    {
      "cell_type": "code",
      "execution_count": 20,
      "metadata": {
        "colab": {
          "base_uri": "https://localhost:8080/",
          "height": 206
        },
        "id": "kme4smLoKkD_",
        "outputId": "bccde88c-2259-4d73-8644-aa01bb2512af"
      },
      "outputs": [
        {
          "data": {
            "text/html": [
              "\n",
              "  <div id=\"df-8cfe44f9-be17-41d3-b179-6b9dbce56fcd\">\n",
              "    <div class=\"colab-df-container\">\n",
              "      <div>\n",
              "<style scoped>\n",
              "    .dataframe tbody tr th:only-of-type {\n",
              "        vertical-align: middle;\n",
              "    }\n",
              "\n",
              "    .dataframe tbody tr th {\n",
              "        vertical-align: top;\n",
              "    }\n",
              "\n",
              "    .dataframe thead th {\n",
              "        text-align: right;\n",
              "    }\n",
              "</style>\n",
              "<table border=\"1\" class=\"dataframe\">\n",
              "  <thead>\n",
              "    <tr style=\"text-align: right;\">\n",
              "      <th></th>\n",
              "      <th>col1</th>\n",
              "      <th>col2</th>\n",
              "      <th>target</th>\n",
              "    </tr>\n",
              "  </thead>\n",
              "  <tbody>\n",
              "    <tr>\n",
              "      <th>0</th>\n",
              "      <td>0.051267</td>\n",
              "      <td>0.69956</td>\n",
              "      <td>1</td>\n",
              "    </tr>\n",
              "    <tr>\n",
              "      <th>1</th>\n",
              "      <td>-0.092742</td>\n",
              "      <td>0.68494</td>\n",
              "      <td>1</td>\n",
              "    </tr>\n",
              "    <tr>\n",
              "      <th>2</th>\n",
              "      <td>-0.213710</td>\n",
              "      <td>0.69225</td>\n",
              "      <td>1</td>\n",
              "    </tr>\n",
              "    <tr>\n",
              "      <th>3</th>\n",
              "      <td>-0.375000</td>\n",
              "      <td>0.50219</td>\n",
              "      <td>1</td>\n",
              "    </tr>\n",
              "    <tr>\n",
              "      <th>4</th>\n",
              "      <td>-0.513250</td>\n",
              "      <td>0.46564</td>\n",
              "      <td>1</td>\n",
              "    </tr>\n",
              "  </tbody>\n",
              "</table>\n",
              "</div>\n",
              "      <button class=\"colab-df-convert\" onclick=\"convertToInteractive('df-8cfe44f9-be17-41d3-b179-6b9dbce56fcd')\"\n",
              "              title=\"Convert this dataframe to an interactive table.\"\n",
              "              style=\"display:none;\">\n",
              "        \n",
              "  <svg xmlns=\"http://www.w3.org/2000/svg\" height=\"24px\"viewBox=\"0 0 24 24\"\n",
              "       width=\"24px\">\n",
              "    <path d=\"M0 0h24v24H0V0z\" fill=\"none\"/>\n",
              "    <path d=\"M18.56 5.44l.94 2.06.94-2.06 2.06-.94-2.06-.94-.94-2.06-.94 2.06-2.06.94zm-11 1L8.5 8.5l.94-2.06 2.06-.94-2.06-.94L8.5 2.5l-.94 2.06-2.06.94zm10 10l.94 2.06.94-2.06 2.06-.94-2.06-.94-.94-2.06-.94 2.06-2.06.94z\"/><path d=\"M17.41 7.96l-1.37-1.37c-.4-.4-.92-.59-1.43-.59-.52 0-1.04.2-1.43.59L10.3 9.45l-7.72 7.72c-.78.78-.78 2.05 0 2.83L4 21.41c.39.39.9.59 1.41.59.51 0 1.02-.2 1.41-.59l7.78-7.78 2.81-2.81c.8-.78.8-2.07 0-2.86zM5.41 20L4 18.59l7.72-7.72 1.47 1.35L5.41 20z\"/>\n",
              "  </svg>\n",
              "      </button>\n",
              "      \n",
              "  <style>\n",
              "    .colab-df-container {\n",
              "      display:flex;\n",
              "      flex-wrap:wrap;\n",
              "      gap: 12px;\n",
              "    }\n",
              "\n",
              "    .colab-df-convert {\n",
              "      background-color: #E8F0FE;\n",
              "      border: none;\n",
              "      border-radius: 50%;\n",
              "      cursor: pointer;\n",
              "      display: none;\n",
              "      fill: #1967D2;\n",
              "      height: 32px;\n",
              "      padding: 0 0 0 0;\n",
              "      width: 32px;\n",
              "    }\n",
              "\n",
              "    .colab-df-convert:hover {\n",
              "      background-color: #E2EBFA;\n",
              "      box-shadow: 0px 1px 2px rgba(60, 64, 67, 0.3), 0px 1px 3px 1px rgba(60, 64, 67, 0.15);\n",
              "      fill: #174EA6;\n",
              "    }\n",
              "\n",
              "    [theme=dark] .colab-df-convert {\n",
              "      background-color: #3B4455;\n",
              "      fill: #D2E3FC;\n",
              "    }\n",
              "\n",
              "    [theme=dark] .colab-df-convert:hover {\n",
              "      background-color: #434B5C;\n",
              "      box-shadow: 0px 1px 3px 1px rgba(0, 0, 0, 0.15);\n",
              "      filter: drop-shadow(0px 1px 2px rgba(0, 0, 0, 0.3));\n",
              "      fill: #FFFFFF;\n",
              "    }\n",
              "  </style>\n",
              "\n",
              "      <script>\n",
              "        const buttonEl =\n",
              "          document.querySelector('#df-8cfe44f9-be17-41d3-b179-6b9dbce56fcd button.colab-df-convert');\n",
              "        buttonEl.style.display =\n",
              "          google.colab.kernel.accessAllowed ? 'block' : 'none';\n",
              "\n",
              "        async function convertToInteractive(key) {\n",
              "          const element = document.querySelector('#df-8cfe44f9-be17-41d3-b179-6b9dbce56fcd');\n",
              "          const dataTable =\n",
              "            await google.colab.kernel.invokeFunction('convertToInteractive',\n",
              "                                                     [key], {});\n",
              "          if (!dataTable) return;\n",
              "\n",
              "          const docLinkHtml = 'Like what you see? Visit the ' +\n",
              "            '<a target=\"_blank\" href=https://colab.research.google.com/notebooks/data_table.ipynb>data table notebook</a>'\n",
              "            + ' to learn more about interactive tables.';\n",
              "          element.innerHTML = '';\n",
              "          dataTable['output_type'] = 'display_data';\n",
              "          await google.colab.output.renderOutput(dataTable, element);\n",
              "          const docLink = document.createElement('div');\n",
              "          docLink.innerHTML = docLinkHtml;\n",
              "          element.appendChild(docLink);\n",
              "        }\n",
              "      </script>\n",
              "    </div>\n",
              "  </div>\n",
              "  "
            ],
            "text/plain": [
              "       col1     col2  target\n",
              "0  0.051267  0.69956       1\n",
              "1 -0.092742  0.68494       1\n",
              "2 -0.213710  0.69225       1\n",
              "3 -0.375000  0.50219       1\n",
              "4 -0.513250  0.46564       1"
            ]
          },
          "execution_count": 20,
          "metadata": {},
          "output_type": "execute_result"
        }
      ],
      "source": [
        "exam_df = pd.read_table(\"/content/drive/MyDrive/ML Lab/Lab_05/exam6.txt\", sep=\",\", names=headers)\n",
        "exam_df.head()"
      ]
    },
    {
      "cell_type": "code",
      "execution_count": null,
      "metadata": {
        "id": "wHFBli6M3O91"
      },
      "outputs": [],
      "source": [
        "exam_df.isna().sum()"
      ]
    },
    {
      "cell_type": "code",
      "execution_count": null,
      "metadata": {
        "id": "PUX10GO83LqV"
      },
      "outputs": [],
      "source": [
        "exam_df.describe()"
      ]
    },
    {
      "cell_type": "code",
      "execution_count": null,
      "metadata": {
        "id": "vA56fmEV5E2e"
      },
      "outputs": [],
      "source": [
        "sns.scatterplot(data=exam_df, x=\"col1\", y=\"col2\", hue=\"target\")"
      ]
    },
    {
      "cell_type": "code",
      "execution_count": null,
      "metadata": {
        "id": "IJwM7dJz5lIJ"
      },
      "outputs": [],
      "source": [
        "X = exam_df.drop(\"target\", axis=1)\n",
        "Y = exam_df.iloc[:,-1]"
      ]
    },
    {
      "cell_type": "code",
      "execution_count": null,
      "metadata": {
        "id": "jNQF5cRF64oM"
      },
      "outputs": [],
      "source": [
        "ss = StandardScaler()\n",
        "X_scaled = ss.fit_transform(X)\n",
        "X_scaled=np.insert(X_scaled,0,values=1,axis=1)"
      ]
    },
    {
      "cell_type": "code",
      "execution_count": null,
      "metadata": {
        "id": "cPNajXNu7Bm0"
      },
      "outputs": [],
      "source": [
        "from sklearn.model_selection import train_test_split\n",
        "x_train, x_test, y_train, y_test = train_test_split(X_scaled, Y, test_size=0.3, random_state=42)"
      ]
    },
    {
      "cell_type": "code",
      "execution_count": null,
      "metadata": {
        "id": "iwhK8nPerEeM"
      },
      "outputs": [],
      "source": [
        "from sklearn.preprocessing import PolynomialFeatures\n",
        "poly = PolynomialFeatures(degree = 6, interaction_only=False, include_bias=False)\n",
        "x_train = poly.fit_transform(x_train)\n",
        "x_test = poly.fit_transform(x_test)"
      ]
    },
    {
      "cell_type": "code",
      "execution_count": null,
      "metadata": {
        "id": "x1PyatDKrI0e"
      },
      "outputs": [],
      "source": [
        "print(\"x_train.shape = \", x_train.shape)\n",
        "print(\"x_test.shape = \", x_test.shape)\n",
        "print(\"y_train.shape = \", y_train.shape)\n",
        "print(\"y_test.shape = \", y_test.shape)"
      ]
    },
    {
      "cell_type": "markdown",
      "metadata": {
        "id": "rd4myKFEB7oa"
      },
      "source": [
        "### Question 2 Part 1"
      ]
    },
    {
      "cell_type": "code",
      "execution_count": null,
      "metadata": {
        "id": "_n_1eMMG-o-r"
      },
      "outputs": [],
      "source": [
        "n = 1000\n",
        "alpha = 10\n",
        "m,k = x_train.shape\n",
        "beta = np.zeros(k)\n",
        "for i in range(n):\n",
        "    cost_gradient = np.zeros(k)\n",
        "    z = x_train.dot(beta)\n",
        "    predicted = 1/(1+np.exp(-z))\n",
        "    difference = predicted - y_train\n",
        "    for j in range(k):\n",
        "        cost_gradient[j] = np.sum(difference.dot(x_train[:,j]))\n",
        "    for j in range(k):\n",
        "        beta[j] = beta[j] - (alpha/m)*cost_gradient[j]\n",
        "print(beta)"
      ]
    },
    {
      "cell_type": "code",
      "execution_count": null,
      "metadata": {
        "id": "qs05XwEq-sr1"
      },
      "outputs": [],
      "source": [
        "y_pred = 1/(1+np.exp(-(x_test.dot(beta))))\n",
        "y_label = np.zeros(len(y_pred))\n",
        "for i in range(len(y_pred)):\n",
        "    if(y_pred[i]>=0.5):\n",
        "        y_label[i]=1"
      ]
    },
    {
      "cell_type": "code",
      "execution_count": null,
      "metadata": {
        "id": "u-Agn_lX7EIt"
      },
      "outputs": [],
      "source": [
        "tp = 0\n",
        "tn = 0\n",
        "fp = 0\n",
        "fn = 0\n",
        "y_test = np.array(y_test).reshape(-1,1)\n",
        "for i in range(len(y_label)):\n",
        "    if(y_test[i]==1 and y_label[i]==1):\n",
        "        tp+=1\n",
        "    if(y_test[i]==1 and y_label[i]==0):\n",
        "        fn+=1\n",
        "    if(y_test[i]==0 and y_label[i]==0):\n",
        "        tn+=1\n",
        "    if(y_test[i]==0 and y_label[i]==1):\n",
        "        fp+=1\n",
        "\n",
        "print(\"True Positive = \", tp)\n",
        "print(\"True Negative = \", tn)\n",
        "print(\"False Positive = \", fp)\n",
        "print(\"False Negative = \", fn)"
      ]
    },
    {
      "cell_type": "code",
      "execution_count": null,
      "metadata": {
        "id": "rNylgXo4BnCJ"
      },
      "outputs": [],
      "source": [
        "accuracy=(tp+tn)/(tp+tn+fp+fn)\n",
        "print(\"Accuracy = \", accuracy)"
      ]
    },
    {
      "cell_type": "code",
      "execution_count": null,
      "metadata": {
        "id": "rd8KfJGuBp0L"
      },
      "outputs": [],
      "source": [
        "precision_pos = tp/(tp+fp)\n",
        "recall_pos = tp/(tp+fn)\n",
        "f1_score_pos = 2*precision_pos*recall_pos/(precision_pos+recall_pos)\n",
        "print(\"Precision Positive = \", precision_pos)\n",
        "print(\"Recall Positive = \", recall_pos)\n",
        "print(\"F1_Score Positive = \", f1_score_pos)\n",
        "\n",
        "\n",
        "precision_neg = tn/(tn+fn)\n",
        "recall_neg = tn/(tn+fp)\n",
        "f1_score_neg = 2*precision_neg*recall_neg/(precision_neg+recall_neg)\n",
        "print(\"Precision Negative = \", precision_neg)\n",
        "print(\"Recall Negative = \", recall_neg)\n",
        "print(\"F1_Score Negative = \", f1_score_pos)"
      ]
    },
    {
      "cell_type": "code",
      "execution_count": null,
      "metadata": {
        "id": "efFNEKJKBsgE"
      },
      "outputs": [],
      "source": [
        "macro_precision = (precision_pos + precision_neg)/2\n",
        "macro_recall = (recall_pos + recall_neg)/2\n",
        "macro_f1_score = (f1_score_pos + f1_score_neg)/2\n",
        "print(\"Macro Precision = \", macro_precision)\n",
        "print(\"Macro Recall = \", macro_recall)\n",
        "print(\"Macro F1_Score = \", macro_f1_score)"
      ]
    },
    {
      "cell_type": "markdown",
      "metadata": {
        "id": "7b3Yk9AcCDgI"
      },
      "source": [
        "### Question 2 Part 2\n"
      ]
    },
    {
      "cell_type": "code",
      "execution_count": null,
      "metadata": {
        "id": "BMehTmKH26Tz"
      },
      "outputs": [],
      "source": [
        "lambda_val = 0.2\n",
        "A = x_train.T.dot(x_train)\n",
        "I = np.identity(A.shape[0])\n",
        "B = A + lambda_val * I\n",
        "C = np.linalg.inv(B)\n",
        "D = C.dot(x_train.T)\n",
        "beta = D.dot(y_train)"
      ]
    },
    {
      "cell_type": "code",
      "execution_count": null,
      "metadata": {
        "id": "1DLYIsY7CGaH"
      },
      "outputs": [],
      "source": [
        "n = 1000\n",
        "alpha = 10\n",
        "m,k = x_train.shape\n",
        "# beta = np.zeros(k)\n",
        "for i in range(n):\n",
        "    cost_gradient = np.zeros(k)\n",
        "    z = x_train.dot(beta)\n",
        "    predicted = 1/(1+np.exp(-z))\n",
        "    difference = predicted - y_train\n",
        "    for j in range(k):\n",
        "        cost_gradient[j] = np.sum(difference.dot(x_train[:,j]))\n",
        "    for j in range(k):\n",
        "        beta[j] = beta[j] - (alpha/m)*cost_gradient[j]\n",
        "print(beta)"
      ]
    },
    {
      "cell_type": "code",
      "execution_count": null,
      "metadata": {
        "id": "TUAU6uUr3RUu"
      },
      "outputs": [],
      "source": [
        "y_pred = 1/(1+np.exp(-(x_test.dot(beta))))\n",
        "y_label = np.zeros(len(y_pred))\n",
        "for i in range(len(y_pred)):\n",
        "    if(y_pred[i]>=0.5):\n",
        "        y_label[i]=1"
      ]
    },
    {
      "cell_type": "code",
      "execution_count": null,
      "metadata": {
        "id": "K7HqOG8frxMx"
      },
      "outputs": [],
      "source": [
        "tp = 0\n",
        "tn = 0\n",
        "fp = 0\n",
        "fn = 0\n",
        "y_test = np.array(y_test).reshape(-1,1)\n",
        "for i in range(len(y_label)):\n",
        "    if(y_test[i]==1 and y_label[i]==1):\n",
        "        tp+=1\n",
        "    if(y_test[i]==1 and y_label[i]==0):\n",
        "        fn+=1\n",
        "    if(y_test[i]==0 and y_label[i]==0):\n",
        "        tn+=1\n",
        "    if(y_test[i]==0 and y_label[i]==1):\n",
        "        fp+=1\n",
        "\n",
        "print(\"True Positive = \", tp)\n",
        "print(\"True Negative = \", tn)\n",
        "print(\"False Positive = \", fp)\n",
        "print(\"False Negative = \", fn)"
      ]
    },
    {
      "cell_type": "code",
      "execution_count": null,
      "metadata": {
        "id": "-BEvKFqO3WVe"
      },
      "outputs": [],
      "source": [
        "accuracy=(tp+tn)/(tp+tn+fp+fn)\n",
        "print(\"Accuracy = \", accuracy)"
      ]
    },
    {
      "cell_type": "code",
      "execution_count": null,
      "metadata": {
        "id": "D0_EZlep3ZzK"
      },
      "outputs": [],
      "source": [
        "precision_pos = tp/(tp+fp)\n",
        "recall_pos = tp/(tp+fn)\n",
        "f1_score_pos = 2*precision_pos*recall_pos/(precision_pos+recall_pos)\n",
        "print(\"Precision Positive = \", precision_pos)\n",
        "print(\"Recall Positive = \", recall_pos)\n",
        "print(\"F1_Score Positive = \", f1_score_pos)\n",
        "\n",
        "\n",
        "precision_neg = tn/(tn+fn)\n",
        "recall_neg = tn/(tn+fp)\n",
        "f1_score_neg = 2*precision_neg*recall_neg/(precision_neg+recall_neg)\n",
        "print(\"Precision Negative = \", precision_neg)\n",
        "print(\"Recall Negative = \", recall_neg)\n",
        "print(\"F1_Score Negative = \", f1_score_pos)"
      ]
    },
    {
      "cell_type": "code",
      "execution_count": null,
      "metadata": {
        "id": "XuzA8Vt83e6B"
      },
      "outputs": [],
      "source": [
        "macro_precision = (precision_pos + precision_neg)/2\n",
        "macro_recall = (recall_pos + recall_neg)/2\n",
        "macro_f1_score = (f1_score_pos + f1_score_neg)/2\n",
        "print(\"Macro Precision = \", macro_precision)\n",
        "print(\"Macro Recall = \", macro_recall)\n",
        "print(\"Macro F1_Score = \", macro_f1_score)"
      ]
    }
  ],
  "metadata": {
    "colab": {
      "collapsed_sections": [
        "fJRl6pGCEz5C",
        "2HVS6Vj4KhQI"
      ],
      "provenance": []
    },
    "kernelspec": {
      "display_name": "Python 3.10.0 64-bit",
      "language": "python",
      "name": "python3"
    },
    "language_info": {
      "codemirror_mode": {
        "name": "ipython",
        "version": 3
      },
      "file_extension": ".py",
      "mimetype": "text/x-python",
      "name": "python",
      "nbconvert_exporter": "python",
      "pygments_lexer": "ipython3",
      "version": "3.10.0"
    },
    "vscode": {
      "interpreter": {
        "hash": "369f2c481f4da34e4445cda3fffd2e751bd1c4d706f27375911949ba6bb62e1c"
      }
    }
  },
  "nbformat": 4,
  "nbformat_minor": 0
}
