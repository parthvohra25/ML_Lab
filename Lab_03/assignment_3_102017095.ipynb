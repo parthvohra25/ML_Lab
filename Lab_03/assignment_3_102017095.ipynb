{
 "cells": [
  {
   "cell_type": "code",
   "execution_count": null,
   "id": "7723ffa4",
   "metadata": {},
   "outputs": [],
   "source": [
    "Assignment 3 \n",
    "Name - Anjali Rana\n",
    "Group - 3CS5 \n",
    "Roll no - 102017095"
   ]
  },
  {
   "cell_type": "code",
   "execution_count": 1,
   "id": "1432211a",
   "metadata": {
    "_cell_guid": "b1076dfc-b9ad-4769-8c92-a6c4dae69d19",
    "_uuid": "8f2839f25d086af736a60e9eeb907d3b93b6e0e5",
    "execution": {
     "iopub.execute_input": "2022-09-06T06:46:40.904923Z",
     "iopub.status.busy": "2022-09-06T06:46:40.904481Z",
     "iopub.status.idle": "2022-09-06T06:46:42.215756Z",
     "shell.execute_reply": "2022-09-06T06:46:42.214280Z"
    },
    "papermill": {
     "duration": 1.32651,
     "end_time": "2022-09-06T06:46:42.218486",
     "exception": false,
     "start_time": "2022-09-06T06:46:40.891976",
     "status": "completed"
    },
    "tags": []
   },
   "outputs": [],
   "source": [
    "import pandas as pd\n",
    "import numpy as np\n",
    "from sklearn.decomposition import PCA\n",
    "from sklearn.preprocessing import StandardScaler,OneHotEncoder,LabelEncoder\n",
    "from sklearn.model_selection import train_test_split\n",
    "from sklearn.linear_model import LinearRegression\n",
    "from sklearn.metrics import r2_score\n",
    "import matplotlib.pyplot as plt "
   ]
  },
  {
   "cell_type": "markdown",
   "id": "133a2f80",
   "metadata": {
    "papermill": {
     "duration": 0.010356,
     "end_time": "2022-09-06T06:46:42.238300",
     "exception": false,
     "start_time": "2022-09-06T06:46:42.227944",
     "status": "completed"
    },
    "tags": []
   },
   "source": [
    "## **1. K fold cross validadation**"
   ]
  },
  {
   "cell_type": "code",
   "execution_count": 2,
   "id": "a5d9d66d",
   "metadata": {
    "execution": {
     "iopub.execute_input": "2022-09-06T06:46:42.260144Z",
     "iopub.status.busy": "2022-09-06T06:46:42.259535Z",
     "iopub.status.idle": "2022-09-06T06:46:42.307503Z",
     "shell.execute_reply": "2022-09-06T06:46:42.306122Z"
    },
    "papermill": {
     "duration": 0.061578,
     "end_time": "2022-09-06T06:46:42.310354",
     "exception": false,
     "start_time": "2022-09-06T06:46:42.248776",
     "status": "completed"
    },
    "tags": []
   },
   "outputs": [
    {
     "data": {
      "text/html": [
       "<div>\n",
       "<style scoped>\n",
       "    .dataframe tbody tr th:only-of-type {\n",
       "        vertical-align: middle;\n",
       "    }\n",
       "\n",
       "    .dataframe tbody tr th {\n",
       "        vertical-align: top;\n",
       "    }\n",
       "\n",
       "    .dataframe thead th {\n",
       "        text-align: right;\n",
       "    }\n",
       "</style>\n",
       "<table border=\"1\" class=\"dataframe\">\n",
       "  <thead>\n",
       "    <tr style=\"text-align: right;\">\n",
       "      <th></th>\n",
       "      <th>Avg. Area Income</th>\n",
       "      <th>Avg. Area House Age</th>\n",
       "      <th>Avg. Area Number of Rooms</th>\n",
       "      <th>Avg. Area Number of Bedrooms</th>\n",
       "      <th>Area Population</th>\n",
       "      <th>Price</th>\n",
       "    </tr>\n",
       "  </thead>\n",
       "  <tbody>\n",
       "    <tr>\n",
       "      <th>0</th>\n",
       "      <td>79545.45857</td>\n",
       "      <td>5.682861</td>\n",
       "      <td>7.009188</td>\n",
       "      <td>4.09</td>\n",
       "      <td>23086.80050</td>\n",
       "      <td>1.059034e+06</td>\n",
       "    </tr>\n",
       "    <tr>\n",
       "      <th>1</th>\n",
       "      <td>79248.64245</td>\n",
       "      <td>6.002900</td>\n",
       "      <td>6.730821</td>\n",
       "      <td>3.09</td>\n",
       "      <td>40173.07217</td>\n",
       "      <td>1.505891e+06</td>\n",
       "    </tr>\n",
       "    <tr>\n",
       "      <th>2</th>\n",
       "      <td>61287.06718</td>\n",
       "      <td>5.865890</td>\n",
       "      <td>8.512727</td>\n",
       "      <td>5.13</td>\n",
       "      <td>36882.15940</td>\n",
       "      <td>1.058988e+06</td>\n",
       "    </tr>\n",
       "    <tr>\n",
       "      <th>3</th>\n",
       "      <td>63345.24005</td>\n",
       "      <td>7.188236</td>\n",
       "      <td>5.586729</td>\n",
       "      <td>3.26</td>\n",
       "      <td>34310.24283</td>\n",
       "      <td>1.260617e+06</td>\n",
       "    </tr>\n",
       "    <tr>\n",
       "      <th>4</th>\n",
       "      <td>59982.19723</td>\n",
       "      <td>5.040555</td>\n",
       "      <td>7.839388</td>\n",
       "      <td>4.23</td>\n",
       "      <td>26354.10947</td>\n",
       "      <td>6.309435e+05</td>\n",
       "    </tr>\n",
       "  </tbody>\n",
       "</table>\n",
       "</div>"
      ],
      "text/plain": [
       "   Avg. Area Income  Avg. Area House Age  Avg. Area Number of Rooms  \\\n",
       "0       79545.45857             5.682861                   7.009188   \n",
       "1       79248.64245             6.002900                   6.730821   \n",
       "2       61287.06718             5.865890                   8.512727   \n",
       "3       63345.24005             7.188236                   5.586729   \n",
       "4       59982.19723             5.040555                   7.839388   \n",
       "\n",
       "   Avg. Area Number of Bedrooms  Area Population         Price  \n",
       "0                          4.09      23086.80050  1.059034e+06  \n",
       "1                          3.09      40173.07217  1.505891e+06  \n",
       "2                          5.13      36882.15940  1.058988e+06  \n",
       "3                          3.26      34310.24283  1.260617e+06  \n",
       "4                          4.23      26354.10947  6.309435e+05  "
      ]
     },
     "execution_count": 2,
     "metadata": {},
     "output_type": "execute_result"
    }
   ],
   "source": [
    "df = pd.read_csv('../input/us-housing/USA_Housing.csv')\n",
    "df.head()"
   ]
  },
  {
   "cell_type": "markdown",
   "id": "bef6f2b6",
   "metadata": {
    "papermill": {
     "duration": 0.009431,
     "end_time": "2022-09-06T06:46:42.332508",
     "exception": false,
     "start_time": "2022-09-06T06:46:42.323077",
     "status": "completed"
    },
    "tags": []
   },
   "source": [
    "### **a) Divide the dataset into input features (all columns except price) and output variable (price)** "
   ]
  },
  {
   "cell_type": "code",
   "execution_count": 3,
   "id": "dabb15df",
   "metadata": {
    "execution": {
     "iopub.execute_input": "2022-09-06T06:46:42.354477Z",
     "iopub.status.busy": "2022-09-06T06:46:42.353299Z",
     "iopub.status.idle": "2022-09-06T06:46:42.372675Z",
     "shell.execute_reply": "2022-09-06T06:46:42.371132Z"
    },
    "papermill": {
     "duration": 0.033404,
     "end_time": "2022-09-06T06:46:42.375920",
     "exception": false,
     "start_time": "2022-09-06T06:46:42.342516",
     "status": "completed"
    },
    "tags": []
   },
   "outputs": [],
   "source": [
    "x = df.drop(['Price'],axis = 1)\n",
    "y = df['Price']\n",
    "cols = x.columns"
   ]
  },
  {
   "cell_type": "markdown",
   "id": "213142bf",
   "metadata": {
    "papermill": {
     "duration": 0.009024,
     "end_time": "2022-09-06T06:46:42.395006",
     "exception": false,
     "start_time": "2022-09-06T06:46:42.385982",
     "status": "completed"
    },
    "tags": []
   },
   "source": [
    "### **b) Scale the values of input features**"
   ]
  },
  {
   "cell_type": "code",
   "execution_count": 4,
   "id": "68abf656",
   "metadata": {
    "execution": {
     "iopub.execute_input": "2022-09-06T06:46:42.415753Z",
     "iopub.status.busy": "2022-09-06T06:46:42.414689Z",
     "iopub.status.idle": "2022-09-06T06:46:42.428385Z",
     "shell.execute_reply": "2022-09-06T06:46:42.427425Z"
    },
    "papermill": {
     "duration": 0.02585,
     "end_time": "2022-09-06T06:46:42.430010",
     "exception": false,
     "start_time": "2022-09-06T06:46:42.404160",
     "status": "completed"
    },
    "tags": []
   },
   "outputs": [
    {
     "data": {
      "text/html": [
       "<div>\n",
       "<style scoped>\n",
       "    .dataframe tbody tr th:only-of-type {\n",
       "        vertical-align: middle;\n",
       "    }\n",
       "\n",
       "    .dataframe tbody tr th {\n",
       "        vertical-align: top;\n",
       "    }\n",
       "\n",
       "    .dataframe thead th {\n",
       "        text-align: right;\n",
       "    }\n",
       "</style>\n",
       "<table border=\"1\" class=\"dataframe\">\n",
       "  <thead>\n",
       "    <tr style=\"text-align: right;\">\n",
       "      <th></th>\n",
       "      <th>Avg. Area Income</th>\n",
       "      <th>Avg. Area House Age</th>\n",
       "      <th>Avg. Area Number of Rooms</th>\n",
       "      <th>Avg. Area Number of Bedrooms</th>\n",
       "      <th>Area Population</th>\n",
       "    </tr>\n",
       "  </thead>\n",
       "  <tbody>\n",
       "    <tr>\n",
       "      <th>0</th>\n",
       "      <td>1.028660</td>\n",
       "      <td>-0.296927</td>\n",
       "      <td>0.021274</td>\n",
       "      <td>0.088062</td>\n",
       "      <td>-1.317599</td>\n",
       "    </tr>\n",
       "    <tr>\n",
       "      <th>1</th>\n",
       "      <td>1.000808</td>\n",
       "      <td>0.025902</td>\n",
       "      <td>-0.255506</td>\n",
       "      <td>-0.722301</td>\n",
       "      <td>0.403999</td>\n",
       "    </tr>\n",
       "    <tr>\n",
       "      <th>2</th>\n",
       "      <td>-0.684629</td>\n",
       "      <td>-0.112303</td>\n",
       "      <td>1.516243</td>\n",
       "      <td>0.930840</td>\n",
       "      <td>0.072410</td>\n",
       "    </tr>\n",
       "    <tr>\n",
       "      <th>3</th>\n",
       "      <td>-0.491499</td>\n",
       "      <td>1.221572</td>\n",
       "      <td>-1.393077</td>\n",
       "      <td>-0.584540</td>\n",
       "      <td>-0.186734</td>\n",
       "    </tr>\n",
       "    <tr>\n",
       "      <th>4</th>\n",
       "      <td>-0.807073</td>\n",
       "      <td>-0.944834</td>\n",
       "      <td>0.846742</td>\n",
       "      <td>0.201513</td>\n",
       "      <td>-0.988387</td>\n",
       "    </tr>\n",
       "  </tbody>\n",
       "</table>\n",
       "</div>"
      ],
      "text/plain": [
       "   Avg. Area Income  Avg. Area House Age  Avg. Area Number of Rooms  \\\n",
       "0          1.028660            -0.296927                   0.021274   \n",
       "1          1.000808             0.025902                  -0.255506   \n",
       "2         -0.684629            -0.112303                   1.516243   \n",
       "3         -0.491499             1.221572                  -1.393077   \n",
       "4         -0.807073            -0.944834                   0.846742   \n",
       "\n",
       "   Avg. Area Number of Bedrooms  Area Population  \n",
       "0                      0.088062        -1.317599  \n",
       "1                     -0.722301         0.403999  \n",
       "2                      0.930840         0.072410  \n",
       "3                     -0.584540        -0.186734  \n",
       "4                      0.201513        -0.988387  "
      ]
     },
     "execution_count": 4,
     "metadata": {},
     "output_type": "execute_result"
    }
   ],
   "source": [
    "scaler = StandardScaler()\n",
    "x = pd.DataFrame(scaler.fit_transform(x))\n",
    "x.columns = cols\n",
    "x.head()"
   ]
  },
  {
   "cell_type": "code",
   "execution_count": 5,
   "id": "b0080020",
   "metadata": {
    "execution": {
     "iopub.execute_input": "2022-09-06T06:46:42.452122Z",
     "iopub.status.busy": "2022-09-06T06:46:42.451621Z",
     "iopub.status.idle": "2022-09-06T06:46:42.693349Z",
     "shell.execute_reply": "2022-09-06T06:46:42.691519Z"
    },
    "papermill": {
     "duration": 0.256606,
     "end_time": "2022-09-06T06:46:42.697114",
     "exception": false,
     "start_time": "2022-09-06T06:46:42.440508",
     "status": "completed"
    },
    "tags": []
   },
   "outputs": [
    {
     "data": {
      "image/png": "[encoded data removed]",
      "text/plain": [
       "<Figure size 432x288 with 1 Axes>"
      ]
     },
     "metadata": {
      "needs_background": "light"
     },
     "output_type": "display_data"
    }
   ],
   "source": [
    "plt.hist(x)\n",
    "plt.show()"
   ]
  },
  {
   "cell_type": "markdown",
   "id": "26937eda",
   "metadata": {
    "papermill": {
     "duration": 0.009795,
     "end_time": "2022-09-06T06:46:42.717193",
     "exception": false,
     "start_time": "2022-09-06T06:46:42.707398",
     "status": "completed"
    },
    "tags": []
   },
   "source": [
    "### **c) Divide input and output features into five folds**"
   ]
  },
  {
   "cell_type": "code",
   "execution_count": 6,
   "id": "69f8bc41",
   "metadata": {
    "execution": {
     "iopub.execute_input": "2022-09-06T06:46:42.739273Z",
     "iopub.status.busy": "2022-09-06T06:46:42.738879Z",
     "iopub.status.idle": "2022-09-06T06:46:42.746050Z",
     "shell.execute_reply": "2022-09-06T06:46:42.744707Z"
    },
    "papermill": {
     "duration": 0.02187,
     "end_time": "2022-09-06T06:46:42.749160",
     "exception": false,
     "start_time": "2022-09-06T06:46:42.727290",
     "status": "completed"
    },
    "tags": []
   },
   "outputs": [
    {
     "name": "stdout",
     "output_type": "stream",
     "text": [
      "1000\n",
      "1000\n",
      "1000\n",
      "1000\n",
      "1000\n",
      "Index values : [0, 1000, 2000, 3000, 4000, 5000]\n"
     ]
    }
   ],
   "source": [
    "index = []\n",
    "for i in range(6):\n",
    "    index.append(1000*i)\n",
    "\n",
    "for i in range(len(index)-1):\n",
    "    print(len(x.loc[index[i]:index[i+1]-1]))\n",
    "print(f\"Index values : {index}\")"
   ]
  },
  {
   "cell_type": "markdown",
   "id": "214339ef",
   "metadata": {
    "papermill": {
     "duration": 0.009809,
     "end_time": "2022-09-06T06:46:42.770546",
     "exception": false,
     "start_time": "2022-09-06T06:46:42.760737",
     "status": "completed"
    },
    "tags": []
   },
   "source": [
    "### **d) Run five iterations, in each iteration consider one-fold as test set and remaining four sets as training set**"
   ]
  },
  {
   "cell_type": "code",
   "execution_count": 7,
   "id": "1f74cba3",
   "metadata": {
    "execution": {
     "iopub.execute_input": "2022-09-06T06:46:42.793760Z",
     "iopub.status.busy": "2022-09-06T06:46:42.793222Z",
     "iopub.status.idle": "2022-09-06T06:46:42.829909Z",
     "shell.execute_reply": "2022-09-06T06:46:42.828830Z"
    },
    "papermill": {
     "duration": 0.050742,
     "end_time": "2022-09-06T06:46:42.832461",
     "exception": false,
     "start_time": "2022-09-06T06:46:42.781719",
     "status": "completed"
    },
    "tags": []
   },
   "outputs": [
    {
     "name": "stdout",
     "output_type": "stream",
     "text": [
      "0.9114306937969592\n",
      "0.9120746724600814\n",
      "0.9087184386642989\n",
      "0.9130861878013949\n",
      "0.9059402234142091\n"
     ]
    }
   ],
   "source": [
    "best_score = 0\n",
    "for i in range(5):\n",
    "    test_x = x.loc[index[i]:index[i+1]-1]\n",
    "    test_y = y.loc[index[i]:index[i+1]-1]\n",
    "    train_x = x.loc[0:index[i]-1]\n",
    "    train_x = train_x.append(x.loc[index[i+1]:4999])\n",
    "    train_y = y.loc[0:index[i]-1]\n",
    "    train_y = train_y.append(y.loc[index[i+1]:4999])\n",
    "    \n",
    "    # creating X matrix\n",
    "    X = np.insert(train_x.values,0,1,axis=1)\n",
    "    test_X = np.insert(test_x.values,0,1,axis=1)\n",
    "    Y = train_y.values\n",
    "    \n",
    "    #least square error fit\n",
    "    XTX = np.matmul(X.transpose(),X)\n",
    "    inv = np.linalg.inv(XTX)\n",
    "    B = np.matmul(np.matmul(inv,X.transpose()),Y)\n",
    "    \n",
    "    #predicting values\n",
    "    predicted = np.matmul(test_X,B)\n",
    "\n",
    "    #calculating error\n",
    "    error = test_y.values-predicted\n",
    "    mean = test_y.values - np.mean(test_y.values)\n",
    "    rss = 0\n",
    "    tss = 0\n",
    "    for j in range(len(error)):\n",
    "        rss += error[i]**2\n",
    "        tss += mean[i]**2\n",
    "    r2 = 1-rss/tss\n",
    "#     print(r2)\n",
    "    score = r2_score(predicted,test_y.values)\n",
    "    print(score)\n",
    "    \n",
    "    if(score>best_score):\n",
    "        best_score = score\n",
    "        best_B = B\n",
    "    \n",
    "    #storing best value of B matrix"
   ]
  },
  {
   "cell_type": "markdown",
   "id": "4542384e",
   "metadata": {
    "papermill": {
     "duration": 0.01396,
     "end_time": "2022-09-06T06:46:42.861138",
     "exception": false,
     "start_time": "2022-09-06T06:46:42.847178",
     "status": "completed"
    },
    "tags": []
   },
   "source": [
    "### **e) Use the best value of (𝛽) matrix (for which R2_score is maximum)**"
   ]
  },
  {
   "cell_type": "code",
   "execution_count": 8,
   "id": "bce46dc0",
   "metadata": {
    "execution": {
     "iopub.execute_input": "2022-09-06T06:46:42.890471Z",
     "iopub.status.busy": "2022-09-06T06:46:42.890116Z",
     "iopub.status.idle": "2022-09-06T06:46:42.895953Z",
     "shell.execute_reply": "2022-09-06T06:46:42.895238Z"
    },
    "papermill": {
     "duration": 0.022722,
     "end_time": "2022-09-06T06:46:42.897823",
     "exception": false,
     "start_time": "2022-09-06T06:46:42.875101",
     "status": "completed"
    },
    "tags": []
   },
   "outputs": [
    {
     "data": {
      "text/plain": [
       "0.9130861878013949"
      ]
     },
     "execution_count": 8,
     "metadata": {},
     "output_type": "execute_result"
    }
   ],
   "source": [
    "best_score"
   ]
  },
  {
   "cell_type": "code",
   "execution_count": 9,
   "id": "ee8e5c48",
   "metadata": {
    "execution": {
     "iopub.execute_input": "2022-09-06T06:46:42.928614Z",
     "iopub.status.busy": "2022-09-06T06:46:42.928236Z",
     "iopub.status.idle": "2022-09-06T06:46:42.941034Z",
     "shell.execute_reply": "2022-09-06T06:46:42.940109Z"
    },
    "papermill": {
     "duration": 0.031546,
     "end_time": "2022-09-06T06:46:42.944128",
     "exception": false,
     "start_time": "2022-09-06T06:46:42.912582",
     "status": "completed"
    },
    "tags": []
   },
   "outputs": [
    {
     "data": {
      "text/plain": [
       "0.9104766780072718"
      ]
     },
     "execution_count": 9,
     "metadata": {},
     "output_type": "execute_result"
    }
   ],
   "source": [
    "x_train,x_test,y_train,y_test = train_test_split(x,y,test_size=0.3)\n",
    "ones = []\n",
    "for j in range(x_test.shape[0]):\n",
    "    ones.append([1])\n",
    "x_test = np.append(ones,x_test,axis=1)\n",
    "predicted = np.matmul(x_test,B)\n",
    "r2_score(predicted,y_test)"
   ]
  },
  {
   "cell_type": "markdown",
   "id": "3b5183af",
   "metadata": {
    "papermill": {
     "duration": 0.011985,
     "end_time": "2022-09-06T06:46:42.969029",
     "exception": false,
     "start_time": "2022-09-06T06:46:42.957044",
     "status": "completed"
    },
    "tags": []
   },
   "source": [
    "## **2. Gradient Descend optimisation**"
   ]
  },
  {
   "cell_type": "code",
   "execution_count": 10,
   "id": "f4201d09",
   "metadata": {
    "execution": {
     "iopub.execute_input": "2022-09-06T06:46:42.993863Z",
     "iopub.status.busy": "2022-09-06T06:46:42.993310Z",
     "iopub.status.idle": "2022-09-06T06:46:43.000878Z",
     "shell.execute_reply": "2022-09-06T06:46:42.999579Z"
    },
    "papermill": {
     "duration": 0.022465,
     "end_time": "2022-09-06T06:46:43.003509",
     "exception": false,
     "start_time": "2022-09-06T06:46:42.981044",
     "status": "completed"
    },
    "tags": []
   },
   "outputs": [],
   "source": [
    "#splitting the data\n",
    "x_train_val,x_test,y_train_val,y_test = train_test_split(x,y,test_size = 0.30)\n",
    "x_train,x_val,y_train,y_val = train_test_split(x_train_val,y_train_val,test_size = 0.14/0.70)"
   ]
  },
  {
   "cell_type": "code",
   "execution_count": 11,
   "id": "78bd6922",
   "metadata": {
    "execution": {
     "iopub.execute_input": "2022-09-06T06:46:43.028171Z",
     "iopub.status.busy": "2022-09-06T06:46:43.027603Z",
     "iopub.status.idle": "2022-09-06T06:46:43.031694Z",
     "shell.execute_reply": "2022-09-06T06:46:43.030895Z"
    },
    "papermill": {
     "duration": 0.020527,
     "end_time": "2022-09-06T06:46:43.034788",
     "exception": false,
     "start_time": "2022-09-06T06:46:43.014261",
     "status": "completed"
    },
    "tags": []
   },
   "outputs": [],
   "source": [
    "A = [0.001,0.01,0.1,1]"
   ]
  },
  {
   "cell_type": "code",
   "execution_count": 12,
   "id": "b5b35f39",
   "metadata": {
    "execution": {
     "iopub.execute_input": "2022-09-06T06:46:43.058926Z",
     "iopub.status.busy": "2022-09-06T06:46:43.058503Z",
     "iopub.status.idle": "2022-09-06T06:46:43.071362Z",
     "shell.execute_reply": "2022-09-06T06:46:43.070283Z"
    },
    "papermill": {
     "duration": 0.027253,
     "end_time": "2022-09-06T06:46:43.073554",
     "exception": false,
     "start_time": "2022-09-06T06:46:43.046301",
     "status": "completed"
    },
    "tags": []
   },
   "outputs": [],
   "source": [
    "train_ones = []\n",
    "val_ones = []\n",
    "test_ones = []\n",
    "\n",
    "for i in range(x_train.shape[0]):\n",
    "    train_ones.append([1])\n",
    "for i in range(x_val.shape[0]):\n",
    "    val_ones.append([1])\n",
    "for i in range(x_test.shape[0]):\n",
    "    test_ones.append([1])\n",
    "    \n",
    "\n",
    "X_train = np.append(train_ones,x_train,axis=1)\n",
    "X_val = np.append(val_ones,x_val,axis=1)\n",
    "X_test = np.append(test_ones,x_test,axis=1)\n",
    "\n",
    "Y_train = y_train.values\n",
    "Y_val = y_val.values\n",
    "Y_test = y_test.values\n",
    "\n",
    "B = []\n",
    "for i in range(len(A)):\n",
    "    B.append([0,0,0,0,0,0])"
   ]
  },
  {
   "cell_type": "code",
   "execution_count": 13,
   "id": "2d67573f",
   "metadata": {
    "execution": {
     "iopub.execute_input": "2022-09-06T06:46:43.095640Z",
     "iopub.status.busy": "2022-09-06T06:46:43.095087Z",
     "iopub.status.idle": "2022-09-06T06:46:43.099200Z",
     "shell.execute_reply": "2022-09-06T06:46:43.098441Z"
    },
    "papermill": {
     "duration": 0.017426,
     "end_time": "2022-09-06T06:46:43.101216",
     "exception": false,
     "start_time": "2022-09-06T06:46:43.083790",
     "status": "completed"
    },
    "tags": []
   },
   "outputs": [],
   "source": [
    "# n = x_train.shape[0]\n",
    "# print(\"started\")\n",
    "# for p in range(len(A)):\n",
    "#     print(\"in loop p\\n\")\n",
    "#     b = B[p]\n",
    "#     a = A[p]\n",
    "#     for k in range(1000):\n",
    "    \n",
    "#         for j in range(len(b)):\n",
    "#             s = 0\n",
    "            \n",
    "#             for i in range(x_train.shape[0]):\n",
    "#                 X = np.append(1,X_train[i])\n",
    "#                 fx = np.dot(b[j],X)\n",
    "#                 s += (fx-Y_train[i])*(X[j])\n",
    "#             b[j] = b[j] - a*s/n\n",
    "#         B[p] = b"
   ]
  },
  {
   "cell_type": "code",
   "execution_count": 14,
   "id": "6557487e",
   "metadata": {
    "execution": {
     "iopub.execute_input": "2022-09-06T06:46:43.124371Z",
     "iopub.status.busy": "2022-09-06T06:46:43.123761Z",
     "iopub.status.idle": "2022-09-06T06:46:43.302960Z",
     "shell.execute_reply": "2022-09-06T06:46:43.301716Z"
    },
    "papermill": {
     "duration": 0.193531,
     "end_time": "2022-09-06T06:46:43.305739",
     "exception": false,
     "start_time": "2022-09-06T06:46:43.112208",
     "status": "completed"
    },
    "tags": []
   },
   "outputs": [],
   "source": [
    "n = x_train.shape[0]\n",
    "X = X_train\n",
    "Y = Y_train\n",
    "L = []\n",
    "\n",
    "for p in range(X_train.shape[1]):\n",
    "    L.append(X_train[:,p])\n",
    "    \n",
    "for p in range(len(A)):\n",
    "    for k in range(1000):\n",
    "        Q = np.matmul(X,B[p]) - Y\n",
    "        temp = []\n",
    "        for i in range(6):\n",
    "            S = np.dot(L[i],Q)\n",
    "            temp.append(B[p][i] - A[p]*S/n)\n",
    "        B[p] = temp"
   ]
  },
  {
   "cell_type": "code",
   "execution_count": 15,
   "id": "79917f78",
   "metadata": {
    "execution": {
     "iopub.execute_input": "2022-09-06T06:46:43.335685Z",
     "iopub.status.busy": "2022-09-06T06:46:43.335310Z",
     "iopub.status.idle": "2022-09-06T06:46:43.345599Z",
     "shell.execute_reply": "2022-09-06T06:46:43.344722Z"
    },
    "papermill": {
     "duration": 0.028368,
     "end_time": "2022-09-06T06:46:43.348297",
     "exception": false,
     "start_time": "2022-09-06T06:46:43.319929",
     "status": "completed"
    },
    "tags": []
   },
   "outputs": [
    {
     "data": {
      "text/plain": [
       "[[777033.6017971002,\n",
       "  145535.23964308147,\n",
       "  91202.08596391256,\n",
       "  74063.94505128836,\n",
       "  22625.501744704026,\n",
       "  94836.02440995535],\n",
       " [1230096.0283401278,\n",
       "  230059.7476339712,\n",
       "  164431.7811412102,\n",
       "  121194.01820843478,\n",
       "  -58.84514561721913,\n",
       "  150620.6398861292],\n",
       " [1230148.44970495,\n",
       "  230086.81943953934,\n",
       "  164465.43883600098,\n",
       "  121469.89045424676,\n",
       "  -347.8909664242434,\n",
       "  150623.58507743603],\n",
       " [1230148.449704949,\n",
       "  230086.81943953948,\n",
       "  164465.4388360011,\n",
       "  121469.89045424687,\n",
       "  -347.89096642429286,\n",
       "  150623.5850774359]]"
      ]
     },
     "execution_count": 15,
     "metadata": {},
     "output_type": "execute_result"
    }
   ],
   "source": [
    "B"
   ]
  },
  {
   "cell_type": "code",
   "execution_count": 16,
   "id": "70f3a928",
   "metadata": {
    "execution": {
     "iopub.execute_input": "2022-09-06T06:46:43.378155Z",
     "iopub.status.busy": "2022-09-06T06:46:43.377791Z",
     "iopub.status.idle": "2022-09-06T06:46:43.386025Z",
     "shell.execute_reply": "2022-09-06T06:46:43.385105Z"
    },
    "papermill": {
     "duration": 0.02535,
     "end_time": "2022-09-06T06:46:43.387971",
     "exception": false,
     "start_time": "2022-09-06T06:46:43.362621",
     "status": "completed"
    },
    "tags": []
   },
   "outputs": [],
   "source": [
    "r2_val = []\n",
    "r2_test = []\n",
    "for i in range(len(B)):\n",
    "    predict_val = np.matmul(X_val,B[i])\n",
    "    predict_test = np.matmul(X_test,B[i])\n",
    "    r2_val.append(r2_score(predict_val,Y_val))\n",
    "    r2_test.append(r2_score(predict_test,Y_test))\n"
   ]
  },
  {
   "cell_type": "code",
   "execution_count": 17,
   "id": "12e302c3",
   "metadata": {
    "execution": {
     "iopub.execute_input": "2022-09-06T06:46:43.418177Z",
     "iopub.status.busy": "2022-09-06T06:46:43.417001Z",
     "iopub.status.idle": "2022-09-06T06:46:43.423585Z",
     "shell.execute_reply": "2022-09-06T06:46:43.422600Z"
    },
    "papermill": {
     "duration": 0.023917,
     "end_time": "2022-09-06T06:46:43.425906",
     "exception": false,
     "start_time": "2022-09-06T06:46:43.401989",
     "status": "completed"
    },
    "tags": []
   },
   "outputs": [
    {
     "data": {
      "text/plain": [
       "[-4.272496402484942,\n",
       " 0.9144692300063804,\n",
       " 0.9145032044498436,\n",
       " 0.9145032044498436]"
      ]
     },
     "execution_count": 17,
     "metadata": {},
     "output_type": "execute_result"
    }
   ],
   "source": [
    "r2_test"
   ]
  },
  {
   "cell_type": "code",
   "execution_count": 18,
   "id": "9d83bb17",
   "metadata": {
    "execution": {
     "iopub.execute_input": "2022-09-06T06:46:43.449188Z",
     "iopub.status.busy": "2022-09-06T06:46:43.448816Z",
     "iopub.status.idle": "2022-09-06T06:46:43.456807Z",
     "shell.execute_reply": "2022-09-06T06:46:43.455917Z"
    },
    "papermill": {
     "duration": 0.022798,
     "end_time": "2022-09-06T06:46:43.459724",
     "exception": false,
     "start_time": "2022-09-06T06:46:43.436926",
     "status": "completed"
    },
    "tags": []
   },
   "outputs": [
    {
     "name": "stdout",
     "output_type": "stream",
     "text": [
      "0.9145032044498436\n"
     ]
    },
    {
     "data": {
      "text/plain": [
       "[1230148.449704949,\n",
       " 230086.81943953948,\n",
       " 164465.4388360011,\n",
       " 121469.89045424687,\n",
       " -347.89096642429286,\n",
       " 150623.5850774359]"
      ]
     },
     "execution_count": 18,
     "metadata": {},
     "output_type": "execute_result"
    }
   ],
   "source": [
    "r2 = r2_test + r2_val\n",
    "b2 = B + B\n",
    "print(max(r2))\n",
    "\n",
    "for i in range(len(r2)):\n",
    "    if (r2[i]==max(r2)):\n",
    "        optimalB = B[i]\n",
    "optimalB"
   ]
  },
  {
   "cell_type": "markdown",
   "id": "6a4539d3",
   "metadata": {
    "papermill": {
     "duration": 0.010854,
     "end_time": "2022-09-06T06:46:43.481569",
     "exception": false,
     "start_time": "2022-09-06T06:46:43.470715",
     "status": "completed"
    },
    "tags": []
   },
   "source": [
    "This is the best value of regression coefficient"
   ]
  },
  {
   "cell_type": "markdown",
   "id": "3136a1c0",
   "metadata": {
    "papermill": {
     "duration": 0.011089,
     "end_time": "2022-09-06T06:46:43.503522",
     "exception": false,
     "start_time": "2022-09-06T06:46:43.492433",
     "status": "completed"
    },
    "tags": []
   },
   "source": [
    "## **3) Pre-processing and Multiple Linear Regression**"
   ]
  },
  {
   "cell_type": "code",
   "execution_count": 19,
   "id": "768befd2",
   "metadata": {
    "execution": {
     "iopub.execute_input": "2022-09-06T06:46:43.526743Z",
     "iopub.status.busy": "2022-09-06T06:46:43.526432Z",
     "iopub.status.idle": "2022-09-06T06:46:43.541909Z",
     "shell.execute_reply": "2022-09-06T06:46:43.540328Z"
    },
    "papermill": {
     "duration": 0.030239,
     "end_time": "2022-09-06T06:46:43.544563",
     "exception": false,
     "start_time": "2022-09-06T06:46:43.514324",
     "status": "completed"
    },
    "tags": []
   },
   "outputs": [],
   "source": [
    "cols = [\"symboling\", \"normalized_losses\",\n",
    "\"make\", \"fuel_type\", \"aspiration\",\"num_doors\", \"body_style\", \"drive_wheels\",\n",
    "\"engine_location\", \"wheel_base\", \"length\", \"width\", \"height\", \"curb_weight\",\n",
    "\"engine_type\", \"num_cylinders\", \"engine_size\", \"fuel_system\", \"bore\", \"stroke\",\n",
    "\"compression_ratio\", \"horsepower\", \"peak_rpm\", \"city_mpg\", \"highway_mpg\", \"price\"]\n",
    "\n",
    "car = pd.read_csv('../input/ucmachinelearning/imports-85.data')\n",
    "car.columns = cols"
   ]
  },
  {
   "cell_type": "code",
   "execution_count": 20,
   "id": "0a843c63",
   "metadata": {
    "execution": {
     "iopub.execute_input": "2022-09-06T06:46:43.568662Z",
     "iopub.status.busy": "2022-09-06T06:46:43.568282Z",
     "iopub.status.idle": "2022-09-06T06:46:43.600605Z",
     "shell.execute_reply": "2022-09-06T06:46:43.599317Z"
    },
    "papermill": {
     "duration": 0.047725,
     "end_time": "2022-09-06T06:46:43.603002",
     "exception": false,
     "start_time": "2022-09-06T06:46:43.555277",
     "status": "completed"
    },
    "tags": []
   },
   "outputs": [
    {
     "data": {
      "text/html": [
       "<div>\n",
       "<style scoped>\n",
       "    .dataframe tbody tr th:only-of-type {\n",
       "        vertical-align: middle;\n",
       "    }\n",
       "\n",
       "    .dataframe tbody tr th {\n",
       "        vertical-align: top;\n",
       "    }\n",
       "\n",
       "    .dataframe thead th {\n",
       "        text-align: right;\n",
       "    }\n",
       "</style>\n",
       "<table border=\"1\" class=\"dataframe\">\n",
       "  <thead>\n",
       "    <tr style=\"text-align: right;\">\n",
       "      <th></th>\n",
       "      <th>symboling</th>\n",
       "      <th>normalized_losses</th>\n",
       "      <th>make</th>\n",
       "      <th>fuel_type</th>\n",
       "      <th>aspiration</th>\n",
       "      <th>num_doors</th>\n",
       "      <th>body_style</th>\n",
       "      <th>drive_wheels</th>\n",
       "      <th>engine_location</th>\n",
       "      <th>wheel_base</th>\n",
       "      <th>...</th>\n",
       "      <th>engine_size</th>\n",
       "      <th>fuel_system</th>\n",
       "      <th>bore</th>\n",
       "      <th>stroke</th>\n",
       "      <th>compression_ratio</th>\n",
       "      <th>horsepower</th>\n",
       "      <th>peak_rpm</th>\n",
       "      <th>city_mpg</th>\n",
       "      <th>highway_mpg</th>\n",
       "      <th>price</th>\n",
       "    </tr>\n",
       "  </thead>\n",
       "  <tbody>\n",
       "    <tr>\n",
       "      <th>0</th>\n",
       "      <td>3</td>\n",
       "      <td>NaN</td>\n",
       "      <td>alfa-romero</td>\n",
       "      <td>gas</td>\n",
       "      <td>std</td>\n",
       "      <td>two</td>\n",
       "      <td>convertible</td>\n",
       "      <td>rwd</td>\n",
       "      <td>front</td>\n",
       "      <td>88.6</td>\n",
       "      <td>...</td>\n",
       "      <td>130</td>\n",
       "      <td>mpfi</td>\n",
       "      <td>3.47</td>\n",
       "      <td>2.68</td>\n",
       "      <td>9.0</td>\n",
       "      <td>111</td>\n",
       "      <td>5000</td>\n",
       "      <td>21</td>\n",
       "      <td>27</td>\n",
       "      <td>16500</td>\n",
       "    </tr>\n",
       "    <tr>\n",
       "      <th>1</th>\n",
       "      <td>1</td>\n",
       "      <td>NaN</td>\n",
       "      <td>alfa-romero</td>\n",
       "      <td>gas</td>\n",
       "      <td>std</td>\n",
       "      <td>two</td>\n",
       "      <td>hatchback</td>\n",
       "      <td>rwd</td>\n",
       "      <td>front</td>\n",
       "      <td>94.5</td>\n",
       "      <td>...</td>\n",
       "      <td>152</td>\n",
       "      <td>mpfi</td>\n",
       "      <td>2.68</td>\n",
       "      <td>3.47</td>\n",
       "      <td>9.0</td>\n",
       "      <td>154</td>\n",
       "      <td>5000</td>\n",
       "      <td>19</td>\n",
       "      <td>26</td>\n",
       "      <td>16500</td>\n",
       "    </tr>\n",
       "    <tr>\n",
       "      <th>2</th>\n",
       "      <td>2</td>\n",
       "      <td>164</td>\n",
       "      <td>audi</td>\n",
       "      <td>gas</td>\n",
       "      <td>std</td>\n",
       "      <td>four</td>\n",
       "      <td>sedan</td>\n",
       "      <td>fwd</td>\n",
       "      <td>front</td>\n",
       "      <td>99.8</td>\n",
       "      <td>...</td>\n",
       "      <td>109</td>\n",
       "      <td>mpfi</td>\n",
       "      <td>3.19</td>\n",
       "      <td>3.40</td>\n",
       "      <td>10.0</td>\n",
       "      <td>102</td>\n",
       "      <td>5500</td>\n",
       "      <td>24</td>\n",
       "      <td>30</td>\n",
       "      <td>13950</td>\n",
       "    </tr>\n",
       "    <tr>\n",
       "      <th>3</th>\n",
       "      <td>2</td>\n",
       "      <td>164</td>\n",
       "      <td>audi</td>\n",
       "      <td>gas</td>\n",
       "      <td>std</td>\n",
       "      <td>four</td>\n",
       "      <td>sedan</td>\n",
       "      <td>4wd</td>\n",
       "      <td>front</td>\n",
       "      <td>99.4</td>\n",
       "      <td>...</td>\n",
       "      <td>136</td>\n",
       "      <td>mpfi</td>\n",
       "      <td>3.19</td>\n",
       "      <td>3.40</td>\n",
       "      <td>8.0</td>\n",
       "      <td>115</td>\n",
       "      <td>5500</td>\n",
       "      <td>18</td>\n",
       "      <td>22</td>\n",
       "      <td>17450</td>\n",
       "    </tr>\n",
       "    <tr>\n",
       "      <th>4</th>\n",
       "      <td>2</td>\n",
       "      <td>NaN</td>\n",
       "      <td>audi</td>\n",
       "      <td>gas</td>\n",
       "      <td>std</td>\n",
       "      <td>two</td>\n",
       "      <td>sedan</td>\n",
       "      <td>fwd</td>\n",
       "      <td>front</td>\n",
       "      <td>99.8</td>\n",
       "      <td>...</td>\n",
       "      <td>136</td>\n",
       "      <td>mpfi</td>\n",
       "      <td>3.19</td>\n",
       "      <td>3.40</td>\n",
       "      <td>8.5</td>\n",
       "      <td>110</td>\n",
       "      <td>5500</td>\n",
       "      <td>19</td>\n",
       "      <td>25</td>\n",
       "      <td>15250</td>\n",
       "    </tr>\n",
       "    <tr>\n",
       "      <th>...</th>\n",
       "      <td>...</td>\n",
       "      <td>...</td>\n",
       "      <td>...</td>\n",
       "      <td>...</td>\n",
       "      <td>...</td>\n",
       "      <td>...</td>\n",
       "      <td>...</td>\n",
       "      <td>...</td>\n",
       "      <td>...</td>\n",
       "      <td>...</td>\n",
       "      <td>...</td>\n",
       "      <td>...</td>\n",
       "      <td>...</td>\n",
       "      <td>...</td>\n",
       "      <td>...</td>\n",
       "      <td>...</td>\n",
       "      <td>...</td>\n",
       "      <td>...</td>\n",
       "      <td>...</td>\n",
       "      <td>...</td>\n",
       "      <td>...</td>\n",
       "    </tr>\n",
       "    <tr>\n",
       "      <th>199</th>\n",
       "      <td>-1</td>\n",
       "      <td>95</td>\n",
       "      <td>volvo</td>\n",
       "      <td>gas</td>\n",
       "      <td>std</td>\n",
       "      <td>four</td>\n",
       "      <td>sedan</td>\n",
       "      <td>rwd</td>\n",
       "      <td>front</td>\n",
       "      <td>109.1</td>\n",
       "      <td>...</td>\n",
       "      <td>141</td>\n",
       "      <td>mpfi</td>\n",
       "      <td>3.78</td>\n",
       "      <td>3.15</td>\n",
       "      <td>9.5</td>\n",
       "      <td>114</td>\n",
       "      <td>5400</td>\n",
       "      <td>23</td>\n",
       "      <td>28</td>\n",
       "      <td>16845</td>\n",
       "    </tr>\n",
       "    <tr>\n",
       "      <th>200</th>\n",
       "      <td>-1</td>\n",
       "      <td>95</td>\n",
       "      <td>volvo</td>\n",
       "      <td>gas</td>\n",
       "      <td>turbo</td>\n",
       "      <td>four</td>\n",
       "      <td>sedan</td>\n",
       "      <td>rwd</td>\n",
       "      <td>front</td>\n",
       "      <td>109.1</td>\n",
       "      <td>...</td>\n",
       "      <td>141</td>\n",
       "      <td>mpfi</td>\n",
       "      <td>3.78</td>\n",
       "      <td>3.15</td>\n",
       "      <td>8.7</td>\n",
       "      <td>160</td>\n",
       "      <td>5300</td>\n",
       "      <td>19</td>\n",
       "      <td>25</td>\n",
       "      <td>19045</td>\n",
       "    </tr>\n",
       "    <tr>\n",
       "      <th>201</th>\n",
       "      <td>-1</td>\n",
       "      <td>95</td>\n",
       "      <td>volvo</td>\n",
       "      <td>gas</td>\n",
       "      <td>std</td>\n",
       "      <td>four</td>\n",
       "      <td>sedan</td>\n",
       "      <td>rwd</td>\n",
       "      <td>front</td>\n",
       "      <td>109.1</td>\n",
       "      <td>...</td>\n",
       "      <td>173</td>\n",
       "      <td>mpfi</td>\n",
       "      <td>3.58</td>\n",
       "      <td>2.87</td>\n",
       "      <td>8.8</td>\n",
       "      <td>134</td>\n",
       "      <td>5500</td>\n",
       "      <td>18</td>\n",
       "      <td>23</td>\n",
       "      <td>21485</td>\n",
       "    </tr>\n",
       "    <tr>\n",
       "      <th>202</th>\n",
       "      <td>-1</td>\n",
       "      <td>95</td>\n",
       "      <td>volvo</td>\n",
       "      <td>diesel</td>\n",
       "      <td>turbo</td>\n",
       "      <td>four</td>\n",
       "      <td>sedan</td>\n",
       "      <td>rwd</td>\n",
       "      <td>front</td>\n",
       "      <td>109.1</td>\n",
       "      <td>...</td>\n",
       "      <td>145</td>\n",
       "      <td>idi</td>\n",
       "      <td>3.01</td>\n",
       "      <td>3.40</td>\n",
       "      <td>23.0</td>\n",
       "      <td>106</td>\n",
       "      <td>4800</td>\n",
       "      <td>26</td>\n",
       "      <td>27</td>\n",
       "      <td>22470</td>\n",
       "    </tr>\n",
       "    <tr>\n",
       "      <th>203</th>\n",
       "      <td>-1</td>\n",
       "      <td>95</td>\n",
       "      <td>volvo</td>\n",
       "      <td>gas</td>\n",
       "      <td>turbo</td>\n",
       "      <td>four</td>\n",
       "      <td>sedan</td>\n",
       "      <td>rwd</td>\n",
       "      <td>front</td>\n",
       "      <td>109.1</td>\n",
       "      <td>...</td>\n",
       "      <td>141</td>\n",
       "      <td>mpfi</td>\n",
       "      <td>3.78</td>\n",
       "      <td>3.15</td>\n",
       "      <td>9.5</td>\n",
       "      <td>114</td>\n",
       "      <td>5400</td>\n",
       "      <td>19</td>\n",
       "      <td>25</td>\n",
       "      <td>22625</td>\n",
       "    </tr>\n",
       "  </tbody>\n",
       "</table>\n",
       "<p>204 rows × 26 columns</p>\n",
       "</div>"
      ],
      "text/plain": [
       "     symboling normalized_losses         make fuel_type aspiration num_doors  \\\n",
       "0            3               NaN  alfa-romero       gas        std       two   \n",
       "1            1               NaN  alfa-romero       gas        std       two   \n",
       "2            2               164         audi       gas        std      four   \n",
       "3            2               164         audi       gas        std      four   \n",
       "4            2               NaN         audi       gas        std       two   \n",
       "..         ...               ...          ...       ...        ...       ...   \n",
       "199         -1                95        volvo       gas        std      four   \n",
       "200         -1                95        volvo       gas      turbo      four   \n",
       "201         -1                95        volvo       gas        std      four   \n",
       "202         -1                95        volvo    diesel      turbo      four   \n",
       "203         -1                95        volvo       gas      turbo      four   \n",
       "\n",
       "      body_style drive_wheels engine_location  wheel_base  ...  engine_size  \\\n",
       "0    convertible          rwd           front        88.6  ...          130   \n",
       "1      hatchback          rwd           front        94.5  ...          152   \n",
       "2          sedan          fwd           front        99.8  ...          109   \n",
       "3          sedan          4wd           front        99.4  ...          136   \n",
       "4          sedan          fwd           front        99.8  ...          136   \n",
       "..           ...          ...             ...         ...  ...          ...   \n",
       "199        sedan          rwd           front       109.1  ...          141   \n",
       "200        sedan          rwd           front       109.1  ...          141   \n",
       "201        sedan          rwd           front       109.1  ...          173   \n",
       "202        sedan          rwd           front       109.1  ...          145   \n",
       "203        sedan          rwd           front       109.1  ...          141   \n",
       "\n",
       "     fuel_system  bore  stroke compression_ratio horsepower  peak_rpm  \\\n",
       "0           mpfi  3.47    2.68               9.0        111      5000   \n",
       "1           mpfi  2.68    3.47               9.0        154      5000   \n",
       "2           mpfi  3.19    3.40              10.0        102      5500   \n",
       "3           mpfi  3.19    3.40               8.0        115      5500   \n",
       "4           mpfi  3.19    3.40               8.5        110      5500   \n",
       "..           ...   ...     ...               ...        ...       ...   \n",
       "199         mpfi  3.78    3.15               9.5        114      5400   \n",
       "200         mpfi  3.78    3.15               8.7        160      5300   \n",
       "201         mpfi  3.58    2.87               8.8        134      5500   \n",
       "202          idi  3.01    3.40              23.0        106      4800   \n",
       "203         mpfi  3.78    3.15               9.5        114      5400   \n",
       "\n",
       "    city_mpg highway_mpg  price  \n",
       "0         21          27  16500  \n",
       "1         19          26  16500  \n",
       "2         24          30  13950  \n",
       "3         18          22  17450  \n",
       "4         19          25  15250  \n",
       "..       ...         ...    ...  \n",
       "199       23          28  16845  \n",
       "200       19          25  19045  \n",
       "201       18          23  21485  \n",
       "202       26          27  22470  \n",
       "203       19          25  22625  \n",
       "\n",
       "[204 rows x 26 columns]"
      ]
     },
     "execution_count": 20,
     "metadata": {},
     "output_type": "execute_result"
    }
   ],
   "source": [
    "car.replace('?',np.nan,inplace = True)\n",
    "car"
   ]
  },
  {
   "cell_type": "markdown",
   "id": "0b0962fa",
   "metadata": {
    "papermill": {
     "duration": 0.010643,
     "end_time": "2022-09-06T06:46:43.625333",
     "exception": false,
     "start_time": "2022-09-06T06:46:43.614690",
     "status": "completed"
    },
    "tags": []
   },
   "source": [
    "### **Converting non-numeric values to numeric values**"
   ]
  },
  {
   "cell_type": "code",
   "execution_count": 21,
   "id": "f6b2a08b",
   "metadata": {
    "execution": {
     "iopub.execute_input": "2022-09-06T06:46:43.649078Z",
     "iopub.status.busy": "2022-09-06T06:46:43.647681Z",
     "iopub.status.idle": "2022-09-06T06:46:43.655679Z",
     "shell.execute_reply": "2022-09-06T06:46:43.653455Z"
    },
    "papermill": {
     "duration": 0.022482,
     "end_time": "2022-09-06T06:46:43.658364",
     "exception": false,
     "start_time": "2022-09-06T06:46:43.635882",
     "status": "completed"
    },
    "tags": []
   },
   "outputs": [
    {
     "name": "stdout",
     "output_type": "stream",
     "text": [
      "Doors : {nan, 'four', 'two'}\n",
      "Cylinders = {'two', 'eight', 'four', 'six', 'twelve', 'five', 'three'}\n"
     ]
    }
   ],
   "source": [
    "door = set(car['num_doors'].values)\n",
    "cylinders = set(car['num_cylinders'].values)\n",
    "print(f\"Doors : {door}\\nCylinders = {cylinders}\")"
   ]
  },
  {
   "cell_type": "code",
   "execution_count": 22,
   "id": "82c9abee",
   "metadata": {
    "execution": {
     "iopub.execute_input": "2022-09-06T06:46:43.681896Z",
     "iopub.status.busy": "2022-09-06T06:46:43.681308Z",
     "iopub.status.idle": "2022-09-06T06:46:43.689834Z",
     "shell.execute_reply": "2022-09-06T06:46:43.688875Z"
    },
    "papermill": {
     "duration": 0.023188,
     "end_time": "2022-09-06T06:46:43.692501",
     "exception": false,
     "start_time": "2022-09-06T06:46:43.669313",
     "status": "completed"
    },
    "tags": []
   },
   "outputs": [],
   "source": [
    "car['num_doors'].replace(list(door),[np.nan,2,4],inplace=True)\n",
    "car['num_cylinders'].replace(list(cylinders),[4,5,12,8,2,3,6],inplace=True)"
   ]
  },
  {
   "cell_type": "code",
   "execution_count": 23,
   "id": "40caf045",
   "metadata": {
    "execution": {
     "iopub.execute_input": "2022-09-06T06:46:43.716314Z",
     "iopub.status.busy": "2022-09-06T06:46:43.715991Z",
     "iopub.status.idle": "2022-09-06T06:46:43.735426Z",
     "shell.execute_reply": "2022-09-06T06:46:43.734510Z"
    },
    "papermill": {
     "duration": 0.033896,
     "end_time": "2022-09-06T06:46:43.737889",
     "exception": false,
     "start_time": "2022-09-06T06:46:43.703993",
     "status": "completed"
    },
    "tags": []
   },
   "outputs": [],
   "source": [
    "encoder = OneHotEncoder()\n",
    "enc_data = pd.DataFrame(encoder.fit_transform(car[['body_style','drive_wheels']]).toarray())\n",
    "car = car.join(enc_data)\n",
    "car.drop(['body_style','drive_wheels'],axis=1,inplace = True)"
   ]
  },
  {
   "cell_type": "code",
   "execution_count": 24,
   "id": "d5bb6701",
   "metadata": {
    "execution": {
     "iopub.execute_input": "2022-09-06T06:46:43.762914Z",
     "iopub.status.busy": "2022-09-06T06:46:43.761894Z",
     "iopub.status.idle": "2022-09-06T06:46:43.770697Z",
     "shell.execute_reply": "2022-09-06T06:46:43.769210Z"
    },
    "papermill": {
     "duration": 0.023929,
     "end_time": "2022-09-06T06:46:43.773638",
     "exception": false,
     "start_time": "2022-09-06T06:46:43.749709",
     "status": "completed"
    },
    "tags": []
   },
   "outputs": [],
   "source": [
    "encoder = LabelEncoder()\n",
    "cols = ['make', 'aspiration', 'engine_location','fuel_type' ]\n",
    "for i in cols:\n",
    "    car[i] = encoder.fit_transform(car[i])"
   ]
  },
  {
   "cell_type": "code",
   "execution_count": 25,
   "id": "c6149cd6",
   "metadata": {
    "execution": {
     "iopub.execute_input": "2022-09-06T06:46:43.798948Z",
     "iopub.status.busy": "2022-09-06T06:46:43.798588Z",
     "iopub.status.idle": "2022-09-06T06:46:43.806328Z",
     "shell.execute_reply": "2022-09-06T06:46:43.804338Z"
    },
    "papermill": {
     "duration": 0.024563,
     "end_time": "2022-09-06T06:46:43.810221",
     "exception": false,
     "start_time": "2022-09-06T06:46:43.785658",
     "status": "completed"
    },
    "tags": []
   },
   "outputs": [
    {
     "name": "stdout",
     "output_type": "stream",
     "text": [
      "fuel_type : {'mfi', '1bbl', 'idi', 'spdi', '4bbl', 'spfi', '2bbl', 'mpfi'}\n",
      "engine_type : {'l', 'ohc', 'rotor', 'dohc', 'ohcv', 'dohcv', 'ohcf'}\n"
     ]
    }
   ],
   "source": [
    "fuel = set(car['fuel_system'].values)\n",
    "engine = set(car['engine_type'].values)\n",
    "print(f\"fuel_type : {fuel}\\nengine_type : {engine}\")"
   ]
  },
  {
   "cell_type": "code",
   "execution_count": 26,
   "id": "934603d4",
   "metadata": {
    "execution": {
     "iopub.execute_input": "2022-09-06T06:46:43.836361Z",
     "iopub.status.busy": "2022-09-06T06:46:43.835777Z",
     "iopub.status.idle": "2022-09-06T06:46:43.844951Z",
     "shell.execute_reply": "2022-09-06T06:46:43.843833Z"
    },
    "papermill": {
     "duration": 0.024352,
     "end_time": "2022-09-06T06:46:43.847051",
     "exception": false,
     "start_time": "2022-09-06T06:46:43.822699",
     "status": "completed"
    },
    "tags": []
   },
   "outputs": [],
   "source": [
    "car['fuel_system'].replace(list(fuel),[0,0,0,0,0,0,0,1],inplace=True)\n",
    "car['engine_type'].replace(list(engine),[0,0,1,0,0,0,0],inplace=True)"
   ]
  },
  {
   "cell_type": "code",
   "execution_count": 27,
   "id": "88498c33",
   "metadata": {
    "execution": {
     "iopub.execute_input": "2022-09-06T06:46:43.872814Z",
     "iopub.status.busy": "2022-09-06T06:46:43.872325Z",
     "iopub.status.idle": "2022-09-06T06:46:43.902776Z",
     "shell.execute_reply": "2022-09-06T06:46:43.901878Z"
    },
    "papermill": {
     "duration": 0.045853,
     "end_time": "2022-09-06T06:46:43.904604",
     "exception": false,
     "start_time": "2022-09-06T06:46:43.858751",
     "status": "completed"
    },
    "tags": []
   },
   "outputs": [
    {
     "data": {
      "text/html": [
       "<div>\n",
       "<style scoped>\n",
       "    .dataframe tbody tr th:only-of-type {\n",
       "        vertical-align: middle;\n",
       "    }\n",
       "\n",
       "    .dataframe tbody tr th {\n",
       "        vertical-align: top;\n",
       "    }\n",
       "\n",
       "    .dataframe thead th {\n",
       "        text-align: right;\n",
       "    }\n",
       "</style>\n",
       "<table border=\"1\" class=\"dataframe\">\n",
       "  <thead>\n",
       "    <tr style=\"text-align: right;\">\n",
       "      <th></th>\n",
       "      <th>symboling</th>\n",
       "      <th>normalized_losses</th>\n",
       "      <th>make</th>\n",
       "      <th>fuel_type</th>\n",
       "      <th>aspiration</th>\n",
       "      <th>num_doors</th>\n",
       "      <th>engine_location</th>\n",
       "      <th>wheel_base</th>\n",
       "      <th>length</th>\n",
       "      <th>width</th>\n",
       "      <th>...</th>\n",
       "      <th>highway_mpg</th>\n",
       "      <th>price</th>\n",
       "      <th>0</th>\n",
       "      <th>1</th>\n",
       "      <th>2</th>\n",
       "      <th>3</th>\n",
       "      <th>4</th>\n",
       "      <th>5</th>\n",
       "      <th>6</th>\n",
       "      <th>7</th>\n",
       "    </tr>\n",
       "  </thead>\n",
       "  <tbody>\n",
       "    <tr>\n",
       "      <th>0</th>\n",
       "      <td>3</td>\n",
       "      <td>NaN</td>\n",
       "      <td>0</td>\n",
       "      <td>1</td>\n",
       "      <td>0</td>\n",
       "      <td>4.0</td>\n",
       "      <td>0</td>\n",
       "      <td>88.6</td>\n",
       "      <td>168.8</td>\n",
       "      <td>64.1</td>\n",
       "      <td>...</td>\n",
       "      <td>27</td>\n",
       "      <td>16500</td>\n",
       "      <td>1.0</td>\n",
       "      <td>0.0</td>\n",
       "      <td>0.0</td>\n",
       "      <td>0.0</td>\n",
       "      <td>0.0</td>\n",
       "      <td>0.0</td>\n",
       "      <td>0.0</td>\n",
       "      <td>1.0</td>\n",
       "    </tr>\n",
       "    <tr>\n",
       "      <th>1</th>\n",
       "      <td>1</td>\n",
       "      <td>NaN</td>\n",
       "      <td>0</td>\n",
       "      <td>1</td>\n",
       "      <td>0</td>\n",
       "      <td>4.0</td>\n",
       "      <td>0</td>\n",
       "      <td>94.5</td>\n",
       "      <td>171.2</td>\n",
       "      <td>65.5</td>\n",
       "      <td>...</td>\n",
       "      <td>26</td>\n",
       "      <td>16500</td>\n",
       "      <td>0.0</td>\n",
       "      <td>0.0</td>\n",
       "      <td>1.0</td>\n",
       "      <td>0.0</td>\n",
       "      <td>0.0</td>\n",
       "      <td>0.0</td>\n",
       "      <td>0.0</td>\n",
       "      <td>1.0</td>\n",
       "    </tr>\n",
       "    <tr>\n",
       "      <th>2</th>\n",
       "      <td>2</td>\n",
       "      <td>164</td>\n",
       "      <td>1</td>\n",
       "      <td>1</td>\n",
       "      <td>0</td>\n",
       "      <td>2.0</td>\n",
       "      <td>0</td>\n",
       "      <td>99.8</td>\n",
       "      <td>176.6</td>\n",
       "      <td>66.2</td>\n",
       "      <td>...</td>\n",
       "      <td>30</td>\n",
       "      <td>13950</td>\n",
       "      <td>0.0</td>\n",
       "      <td>0.0</td>\n",
       "      <td>0.0</td>\n",
       "      <td>1.0</td>\n",
       "      <td>0.0</td>\n",
       "      <td>0.0</td>\n",
       "      <td>1.0</td>\n",
       "      <td>0.0</td>\n",
       "    </tr>\n",
       "    <tr>\n",
       "      <th>3</th>\n",
       "      <td>2</td>\n",
       "      <td>164</td>\n",
       "      <td>1</td>\n",
       "      <td>1</td>\n",
       "      <td>0</td>\n",
       "      <td>2.0</td>\n",
       "      <td>0</td>\n",
       "      <td>99.4</td>\n",
       "      <td>176.6</td>\n",
       "      <td>66.4</td>\n",
       "      <td>...</td>\n",
       "      <td>22</td>\n",
       "      <td>17450</td>\n",
       "      <td>0.0</td>\n",
       "      <td>0.0</td>\n",
       "      <td>0.0</td>\n",
       "      <td>1.0</td>\n",
       "      <td>0.0</td>\n",
       "      <td>1.0</td>\n",
       "      <td>0.0</td>\n",
       "      <td>0.0</td>\n",
       "    </tr>\n",
       "    <tr>\n",
       "      <th>4</th>\n",
       "      <td>2</td>\n",
       "      <td>NaN</td>\n",
       "      <td>1</td>\n",
       "      <td>1</td>\n",
       "      <td>0</td>\n",
       "      <td>4.0</td>\n",
       "      <td>0</td>\n",
       "      <td>99.8</td>\n",
       "      <td>177.3</td>\n",
       "      <td>66.3</td>\n",
       "      <td>...</td>\n",
       "      <td>25</td>\n",
       "      <td>15250</td>\n",
       "      <td>0.0</td>\n",
       "      <td>0.0</td>\n",
       "      <td>0.0</td>\n",
       "      <td>1.0</td>\n",
       "      <td>0.0</td>\n",
       "      <td>0.0</td>\n",
       "      <td>1.0</td>\n",
       "      <td>0.0</td>\n",
       "    </tr>\n",
       "    <tr>\n",
       "      <th>...</th>\n",
       "      <td>...</td>\n",
       "      <td>...</td>\n",
       "      <td>...</td>\n",
       "      <td>...</td>\n",
       "      <td>...</td>\n",
       "      <td>...</td>\n",
       "      <td>...</td>\n",
       "      <td>...</td>\n",
       "      <td>...</td>\n",
       "      <td>...</td>\n",
       "      <td>...</td>\n",
       "      <td>...</td>\n",
       "      <td>...</td>\n",
       "      <td>...</td>\n",
       "      <td>...</td>\n",
       "      <td>...</td>\n",
       "      <td>...</td>\n",
       "      <td>...</td>\n",
       "      <td>...</td>\n",
       "      <td>...</td>\n",
       "      <td>...</td>\n",
       "    </tr>\n",
       "    <tr>\n",
       "      <th>199</th>\n",
       "      <td>-1</td>\n",
       "      <td>95</td>\n",
       "      <td>21</td>\n",
       "      <td>1</td>\n",
       "      <td>0</td>\n",
       "      <td>2.0</td>\n",
       "      <td>0</td>\n",
       "      <td>109.1</td>\n",
       "      <td>188.8</td>\n",
       "      <td>68.9</td>\n",
       "      <td>...</td>\n",
       "      <td>28</td>\n",
       "      <td>16845</td>\n",
       "      <td>0.0</td>\n",
       "      <td>0.0</td>\n",
       "      <td>0.0</td>\n",
       "      <td>1.0</td>\n",
       "      <td>0.0</td>\n",
       "      <td>0.0</td>\n",
       "      <td>0.0</td>\n",
       "      <td>1.0</td>\n",
       "    </tr>\n",
       "    <tr>\n",
       "      <th>200</th>\n",
       "      <td>-1</td>\n",
       "      <td>95</td>\n",
       "      <td>21</td>\n",
       "      <td>1</td>\n",
       "      <td>1</td>\n",
       "      <td>2.0</td>\n",
       "      <td>0</td>\n",
       "      <td>109.1</td>\n",
       "      <td>188.8</td>\n",
       "      <td>68.8</td>\n",
       "      <td>...</td>\n",
       "      <td>25</td>\n",
       "      <td>19045</td>\n",
       "      <td>0.0</td>\n",
       "      <td>0.0</td>\n",
       "      <td>0.0</td>\n",
       "      <td>1.0</td>\n",
       "      <td>0.0</td>\n",
       "      <td>0.0</td>\n",
       "      <td>0.0</td>\n",
       "      <td>1.0</td>\n",
       "    </tr>\n",
       "    <tr>\n",
       "      <th>201</th>\n",
       "      <td>-1</td>\n",
       "      <td>95</td>\n",
       "      <td>21</td>\n",
       "      <td>1</td>\n",
       "      <td>0</td>\n",
       "      <td>2.0</td>\n",
       "      <td>0</td>\n",
       "      <td>109.1</td>\n",
       "      <td>188.8</td>\n",
       "      <td>68.9</td>\n",
       "      <td>...</td>\n",
       "      <td>23</td>\n",
       "      <td>21485</td>\n",
       "      <td>0.0</td>\n",
       "      <td>0.0</td>\n",
       "      <td>0.0</td>\n",
       "      <td>1.0</td>\n",
       "      <td>0.0</td>\n",
       "      <td>0.0</td>\n",
       "      <td>0.0</td>\n",
       "      <td>1.0</td>\n",
       "    </tr>\n",
       "    <tr>\n",
       "      <th>202</th>\n",
       "      <td>-1</td>\n",
       "      <td>95</td>\n",
       "      <td>21</td>\n",
       "      <td>0</td>\n",
       "      <td>1</td>\n",
       "      <td>2.0</td>\n",
       "      <td>0</td>\n",
       "      <td>109.1</td>\n",
       "      <td>188.8</td>\n",
       "      <td>68.9</td>\n",
       "      <td>...</td>\n",
       "      <td>27</td>\n",
       "      <td>22470</td>\n",
       "      <td>0.0</td>\n",
       "      <td>0.0</td>\n",
       "      <td>0.0</td>\n",
       "      <td>1.0</td>\n",
       "      <td>0.0</td>\n",
       "      <td>0.0</td>\n",
       "      <td>0.0</td>\n",
       "      <td>1.0</td>\n",
       "    </tr>\n",
       "    <tr>\n",
       "      <th>203</th>\n",
       "      <td>-1</td>\n",
       "      <td>95</td>\n",
       "      <td>21</td>\n",
       "      <td>1</td>\n",
       "      <td>1</td>\n",
       "      <td>2.0</td>\n",
       "      <td>0</td>\n",
       "      <td>109.1</td>\n",
       "      <td>188.8</td>\n",
       "      <td>68.9</td>\n",
       "      <td>...</td>\n",
       "      <td>25</td>\n",
       "      <td>22625</td>\n",
       "      <td>0.0</td>\n",
       "      <td>0.0</td>\n",
       "      <td>0.0</td>\n",
       "      <td>1.0</td>\n",
       "      <td>0.0</td>\n",
       "      <td>0.0</td>\n",
       "      <td>0.0</td>\n",
       "      <td>1.0</td>\n",
       "    </tr>\n",
       "  </tbody>\n",
       "</table>\n",
       "<p>204 rows × 32 columns</p>\n",
       "</div>"
      ],
      "text/plain": [
       "     symboling normalized_losses  make  fuel_type  aspiration  num_doors  \\\n",
       "0            3               NaN     0          1           0        4.0   \n",
       "1            1               NaN     0          1           0        4.0   \n",
       "2            2               164     1          1           0        2.0   \n",
       "3            2               164     1          1           0        2.0   \n",
       "4            2               NaN     1          1           0        4.0   \n",
       "..         ...               ...   ...        ...         ...        ...   \n",
       "199         -1                95    21          1           0        2.0   \n",
       "200         -1                95    21          1           1        2.0   \n",
       "201         -1                95    21          1           0        2.0   \n",
       "202         -1                95    21          0           1        2.0   \n",
       "203         -1                95    21          1           1        2.0   \n",
       "\n",
       "     engine_location  wheel_base  length  width  ...  highway_mpg  price    0  \\\n",
       "0                  0        88.6   168.8   64.1  ...           27  16500  1.0   \n",
       "1                  0        94.5   171.2   65.5  ...           26  16500  0.0   \n",
       "2                  0        99.8   176.6   66.2  ...           30  13950  0.0   \n",
       "3                  0        99.4   176.6   66.4  ...           22  17450  0.0   \n",
       "4                  0        99.8   177.3   66.3  ...           25  15250  0.0   \n",
       "..               ...         ...     ...    ...  ...          ...    ...  ...   \n",
       "199                0       109.1   188.8   68.9  ...           28  16845  0.0   \n",
       "200                0       109.1   188.8   68.8  ...           25  19045  0.0   \n",
       "201                0       109.1   188.8   68.9  ...           23  21485  0.0   \n",
       "202                0       109.1   188.8   68.9  ...           27  22470  0.0   \n",
       "203                0       109.1   188.8   68.9  ...           25  22625  0.0   \n",
       "\n",
       "       1    2    3    4    5    6    7  \n",
       "0    0.0  0.0  0.0  0.0  0.0  0.0  1.0  \n",
       "1    0.0  1.0  0.0  0.0  0.0  0.0  1.0  \n",
       "2    0.0  0.0  1.0  0.0  0.0  1.0  0.0  \n",
       "3    0.0  0.0  1.0  0.0  1.0  0.0  0.0  \n",
       "4    0.0  0.0  1.0  0.0  0.0  1.0  0.0  \n",
       "..   ...  ...  ...  ...  ...  ...  ...  \n",
       "199  0.0  0.0  1.0  0.0  0.0  0.0  1.0  \n",
       "200  0.0  0.0  1.0  0.0  0.0  0.0  1.0  \n",
       "201  0.0  0.0  1.0  0.0  0.0  0.0  1.0  \n",
       "202  0.0  0.0  1.0  0.0  0.0  0.0  1.0  \n",
       "203  0.0  0.0  1.0  0.0  0.0  0.0  1.0  \n",
       "\n",
       "[204 rows x 32 columns]"
      ]
     },
     "execution_count": 27,
     "metadata": {},
     "output_type": "execute_result"
    }
   ],
   "source": [
    "car"
   ]
  },
  {
   "cell_type": "markdown",
   "id": "4de34723",
   "metadata": {
    "papermill": {
     "duration": 0.012152,
     "end_time": "2022-09-06T06:46:43.930528",
     "exception": false,
     "start_time": "2022-09-06T06:46:43.918376",
     "status": "completed"
    },
    "tags": []
   },
   "source": [
    "### **Handling missing values**"
   ]
  },
  {
   "cell_type": "code",
   "execution_count": 28,
   "id": "53fa2ec9",
   "metadata": {
    "execution": {
     "iopub.execute_input": "2022-09-06T06:46:43.956511Z",
     "iopub.status.busy": "2022-09-06T06:46:43.956013Z",
     "iopub.status.idle": "2022-09-06T06:46:43.966663Z",
     "shell.execute_reply": "2022-09-06T06:46:43.965677Z"
    },
    "papermill": {
     "duration": 0.026456,
     "end_time": "2022-09-06T06:46:43.968973",
     "exception": false,
     "start_time": "2022-09-06T06:46:43.942517",
     "status": "completed"
    },
    "tags": []
   },
   "outputs": [],
   "source": [
    "for col in car.columns:\n",
    "    car[col] = pd.to_numeric(car[col])"
   ]
  },
  {
   "cell_type": "code",
   "execution_count": 29,
   "id": "ad24abb1",
   "metadata": {
    "execution": {
     "iopub.execute_input": "2022-09-06T06:46:43.994817Z",
     "iopub.status.busy": "2022-09-06T06:46:43.994329Z",
     "iopub.status.idle": "2022-09-06T06:46:44.007247Z",
     "shell.execute_reply": "2022-09-06T06:46:44.006493Z"
    },
    "papermill": {
     "duration": 0.028613,
     "end_time": "2022-09-06T06:46:44.009484",
     "exception": false,
     "start_time": "2022-09-06T06:46:43.980871",
     "status": "completed"
    },
    "tags": []
   },
   "outputs": [],
   "source": [
    "car.dropna(subset = [\"price\"],inplace = True)\n",
    "car.fillna(car.median(),inplace=True)"
   ]
  },
  {
   "cell_type": "code",
   "execution_count": 30,
   "id": "c866e11d",
   "metadata": {
    "execution": {
     "iopub.execute_input": "2022-09-06T06:46:44.034511Z",
     "iopub.status.busy": "2022-09-06T06:46:44.034034Z",
     "iopub.status.idle": "2022-09-06T06:46:44.041850Z",
     "shell.execute_reply": "2022-09-06T06:46:44.040802Z"
    },
    "papermill": {
     "duration": 0.022978,
     "end_time": "2022-09-06T06:46:44.044152",
     "exception": false,
     "start_time": "2022-09-06T06:46:44.021174",
     "status": "completed"
    },
    "tags": []
   },
   "outputs": [
    {
     "data": {
      "text/plain": [
       "symboling            0\n",
       "normalized_losses    0\n",
       "make                 0\n",
       "fuel_type            0\n",
       "aspiration           0\n",
       "num_doors            0\n",
       "engine_location      0\n",
       "wheel_base           0\n",
       "length               0\n",
       "width                0\n",
       "height               0\n",
       "curb_weight          0\n",
       "engine_type          0\n",
       "num_cylinders        0\n",
       "engine_size          0\n",
       "fuel_system          0\n",
       "bore                 0\n",
       "stroke               0\n",
       "compression_ratio    0\n",
       "horsepower           0\n",
       "peak_rpm             0\n",
       "city_mpg             0\n",
       "highway_mpg          0\n",
       "price                0\n",
       "0                    0\n",
       "1                    0\n",
       "2                    0\n",
       "3                    0\n",
       "4                    0\n",
       "5                    0\n",
       "6                    0\n",
       "7                    0\n",
       "dtype: int64"
      ]
     },
     "execution_count": 30,
     "metadata": {},
     "output_type": "execute_result"
    }
   ],
   "source": [
    "car.isna().sum()"
   ]
  },
  {
   "cell_type": "markdown",
   "id": "34068986",
   "metadata": {
    "papermill": {
     "duration": 0.011266,
     "end_time": "2022-09-06T06:46:44.067098",
     "exception": false,
     "start_time": "2022-09-06T06:46:44.055832",
     "status": "completed"
    },
    "tags": []
   },
   "source": [
    "### **Dividing data into input and output features***"
   ]
  },
  {
   "cell_type": "code",
   "execution_count": 31,
   "id": "c0238059",
   "metadata": {
    "execution": {
     "iopub.execute_input": "2022-09-06T06:46:44.092322Z",
     "iopub.status.busy": "2022-09-06T06:46:44.091484Z",
     "iopub.status.idle": "2022-09-06T06:46:44.096281Z",
     "shell.execute_reply": "2022-09-06T06:46:44.095654Z"
    },
    "papermill": {
     "duration": 0.019503,
     "end_time": "2022-09-06T06:46:44.098177",
     "exception": false,
     "start_time": "2022-09-06T06:46:44.078674",
     "status": "completed"
    },
    "tags": []
   },
   "outputs": [],
   "source": [
    "x = car.drop('price',axis=1)\n",
    "y = car['price']\n",
    "cols = x.columns"
   ]
  },
  {
   "cell_type": "code",
   "execution_count": 32,
   "id": "ac8f7554",
   "metadata": {
    "execution": {
     "iopub.execute_input": "2022-09-06T06:46:44.123358Z",
     "iopub.status.busy": "2022-09-06T06:46:44.122811Z",
     "iopub.status.idle": "2022-09-06T06:46:44.127421Z",
     "shell.execute_reply": "2022-09-06T06:46:44.126862Z"
    },
    "papermill": {
     "duration": 0.019332,
     "end_time": "2022-09-06T06:46:44.129167",
     "exception": false,
     "start_time": "2022-09-06T06:46:44.109835",
     "status": "completed"
    },
    "tags": []
   },
   "outputs": [
    {
     "data": {
      "text/plain": [
       "(200, 31)"
      ]
     },
     "execution_count": 32,
     "metadata": {},
     "output_type": "execute_result"
    }
   ],
   "source": [
    "x.shape"
   ]
  },
  {
   "cell_type": "code",
   "execution_count": 33,
   "id": "7e369491",
   "metadata": {
    "execution": {
     "iopub.execute_input": "2022-09-06T06:46:44.154232Z",
     "iopub.status.busy": "2022-09-06T06:46:44.153658Z",
     "iopub.status.idle": "2022-09-06T06:46:44.158781Z",
     "shell.execute_reply": "2022-09-06T06:46:44.157822Z"
    },
    "papermill": {
     "duration": 0.020288,
     "end_time": "2022-09-06T06:46:44.161195",
     "exception": false,
     "start_time": "2022-09-06T06:46:44.140907",
     "status": "completed"
    },
    "tags": []
   },
   "outputs": [
    {
     "data": {
      "text/plain": [
       "(200,)"
      ]
     },
     "execution_count": 33,
     "metadata": {},
     "output_type": "execute_result"
    }
   ],
   "source": [
    "y.shape"
   ]
  },
  {
   "cell_type": "code",
   "execution_count": 34,
   "id": "2ed0d66a",
   "metadata": {
    "execution": {
     "iopub.execute_input": "2022-09-06T06:46:44.187429Z",
     "iopub.status.busy": "2022-09-06T06:46:44.186430Z",
     "iopub.status.idle": "2022-09-06T06:46:44.220497Z",
     "shell.execute_reply": "2022-09-06T06:46:44.218727Z"
    },
    "papermill": {
     "duration": 0.050357,
     "end_time": "2022-09-06T06:46:44.223558",
     "exception": false,
     "start_time": "2022-09-06T06:46:44.173201",
     "status": "completed"
    },
    "tags": []
   },
   "outputs": [
    {
     "name": "stderr",
     "output_type": "stream",
     "text": [
      "/opt/conda/lib/python3.7/site-packages/sklearn/utils/validation.py:1692: FutureWarning: Feature names only support names that are all strings. Got feature names with dtypes: ['int', 'str']. An error will be raised in 1.2.\n",
      "  FutureWarning,\n",
      "/opt/conda/lib/python3.7/site-packages/sklearn/utils/validation.py:1692: FutureWarning: Feature names only support names that are all strings. Got feature names with dtypes: ['int', 'str']. An error will be raised in 1.2.\n",
      "  FutureWarning,\n"
     ]
    },
    {
     "data": {
      "text/html": [
       "<div>\n",
       "<style scoped>\n",
       "    .dataframe tbody tr th:only-of-type {\n",
       "        vertical-align: middle;\n",
       "    }\n",
       "\n",
       "    .dataframe tbody tr th {\n",
       "        vertical-align: top;\n",
       "    }\n",
       "\n",
       "    .dataframe thead th {\n",
       "        text-align: right;\n",
       "    }\n",
       "</style>\n",
       "<table border=\"1\" class=\"dataframe\">\n",
       "  <thead>\n",
       "    <tr style=\"text-align: right;\">\n",
       "      <th></th>\n",
       "      <th>symboling</th>\n",
       "      <th>normalized_losses</th>\n",
       "      <th>make</th>\n",
       "      <th>fuel_type</th>\n",
       "      <th>aspiration</th>\n",
       "      <th>num_doors</th>\n",
       "      <th>engine_location</th>\n",
       "      <th>wheel_base</th>\n",
       "      <th>length</th>\n",
       "      <th>width</th>\n",
       "      <th>...</th>\n",
       "      <th>city_mpg</th>\n",
       "      <th>highway_mpg</th>\n",
       "      <th>0</th>\n",
       "      <th>1</th>\n",
       "      <th>2</th>\n",
       "      <th>3</th>\n",
       "      <th>4</th>\n",
       "      <th>5</th>\n",
       "      <th>6</th>\n",
       "      <th>7</th>\n",
       "    </tr>\n",
       "  </thead>\n",
       "  <tbody>\n",
       "    <tr>\n",
       "      <th>0</th>\n",
       "      <td>1.742368</td>\n",
       "      <td>-0.178766</td>\n",
       "      <td>-1.996136</td>\n",
       "      <td>0.333333</td>\n",
       "      <td>-0.468521</td>\n",
       "      <td>1.163160</td>\n",
       "      <td>-0.123404</td>\n",
       "      <td>-1.701436</td>\n",
       "      <td>-0.440719</td>\n",
       "      <td>-0.857154</td>\n",
       "      <td>...</td>\n",
       "      <td>-0.654574</td>\n",
       "      <td>-0.544042</td>\n",
       "      <td>6.244998</td>\n",
       "      <td>-0.204124</td>\n",
       "      <td>-0.717741</td>\n",
       "      <td>-0.941697</td>\n",
       "      <td>-0.377964</td>\n",
       "      <td>-0.204124</td>\n",
       "      <td>-1.199593</td>\n",
       "      <td>1.304877</td>\n",
       "    </tr>\n",
       "    <tr>\n",
       "      <th>1</th>\n",
       "      <td>0.136499</td>\n",
       "      <td>-0.178766</td>\n",
       "      <td>-1.996136</td>\n",
       "      <td>0.333333</td>\n",
       "      <td>-0.468521</td>\n",
       "      <td>1.163160</td>\n",
       "      <td>-0.123404</td>\n",
       "      <td>-0.721882</td>\n",
       "      <td>-0.245855</td>\n",
       "      <td>-0.189737</td>\n",
       "      <td>...</td>\n",
       "      <td>-0.966276</td>\n",
       "      <td>-0.690882</td>\n",
       "      <td>-0.160128</td>\n",
       "      <td>-0.204124</td>\n",
       "      <td>1.393261</td>\n",
       "      <td>-0.941697</td>\n",
       "      <td>-0.377964</td>\n",
       "      <td>-0.204124</td>\n",
       "      <td>-1.199593</td>\n",
       "      <td>1.304877</td>\n",
       "    </tr>\n",
       "    <tr>\n",
       "      <th>2</th>\n",
       "      <td>0.939433</td>\n",
       "      <td>1.347283</td>\n",
       "      <td>-1.834636</td>\n",
       "      <td>0.333333</td>\n",
       "      <td>-0.468521</td>\n",
       "      <td>-0.859727</td>\n",
       "      <td>-0.123404</td>\n",
       "      <td>0.158057</td>\n",
       "      <td>0.192591</td>\n",
       "      <td>0.143971</td>\n",
       "      <td>...</td>\n",
       "      <td>-0.187021</td>\n",
       "      <td>-0.103522</td>\n",
       "      <td>-0.160128</td>\n",
       "      <td>-0.204124</td>\n",
       "      <td>-0.717741</td>\n",
       "      <td>1.061913</td>\n",
       "      <td>-0.377964</td>\n",
       "      <td>-0.204124</td>\n",
       "      <td>0.833616</td>\n",
       "      <td>-0.766356</td>\n",
       "    </tr>\n",
       "    <tr>\n",
       "      <th>3</th>\n",
       "      <td>0.939433</td>\n",
       "      <td>1.347283</td>\n",
       "      <td>-1.834636</td>\n",
       "      <td>0.333333</td>\n",
       "      <td>-0.468521</td>\n",
       "      <td>-0.859727</td>\n",
       "      <td>-0.123404</td>\n",
       "      <td>0.091646</td>\n",
       "      <td>0.192591</td>\n",
       "      <td>0.239316</td>\n",
       "      <td>...</td>\n",
       "      <td>-1.122127</td>\n",
       "      <td>-1.278241</td>\n",
       "      <td>-0.160128</td>\n",
       "      <td>-0.204124</td>\n",
       "      <td>-0.717741</td>\n",
       "      <td>1.061913</td>\n",
       "      <td>-0.377964</td>\n",
       "      <td>4.898979</td>\n",
       "      <td>-1.199593</td>\n",
       "      <td>-0.766356</td>\n",
       "    </tr>\n",
       "    <tr>\n",
       "      <th>4</th>\n",
       "      <td>0.939433</td>\n",
       "      <td>-0.178766</td>\n",
       "      <td>-1.834636</td>\n",
       "      <td>0.333333</td>\n",
       "      <td>-0.468521</td>\n",
       "      <td>1.163160</td>\n",
       "      <td>-0.123404</td>\n",
       "      <td>0.158057</td>\n",
       "      <td>0.249427</td>\n",
       "      <td>0.191644</td>\n",
       "      <td>...</td>\n",
       "      <td>-0.966276</td>\n",
       "      <td>-0.837722</td>\n",
       "      <td>-0.160128</td>\n",
       "      <td>-0.204124</td>\n",
       "      <td>-0.717741</td>\n",
       "      <td>1.061913</td>\n",
       "      <td>-0.377964</td>\n",
       "      <td>-0.204124</td>\n",
       "      <td>0.833616</td>\n",
       "      <td>-0.766356</td>\n",
       "    </tr>\n",
       "    <tr>\n",
       "      <th>...</th>\n",
       "      <td>...</td>\n",
       "      <td>...</td>\n",
       "      <td>...</td>\n",
       "      <td>...</td>\n",
       "      <td>...</td>\n",
       "      <td>...</td>\n",
       "      <td>...</td>\n",
       "      <td>...</td>\n",
       "      <td>...</td>\n",
       "      <td>...</td>\n",
       "      <td>...</td>\n",
       "      <td>...</td>\n",
       "      <td>...</td>\n",
       "      <td>...</td>\n",
       "      <td>...</td>\n",
       "      <td>...</td>\n",
       "      <td>...</td>\n",
       "      <td>...</td>\n",
       "      <td>...</td>\n",
       "      <td>...</td>\n",
       "      <td>...</td>\n",
       "    </tr>\n",
       "    <tr>\n",
       "      <th>195</th>\n",
       "      <td>-1.469370</td>\n",
       "      <td>-0.801643</td>\n",
       "      <td>1.395357</td>\n",
       "      <td>0.333333</td>\n",
       "      <td>-0.468521</td>\n",
       "      <td>-0.859727</td>\n",
       "      <td>-0.123404</td>\n",
       "      <td>1.702100</td>\n",
       "      <td>1.183155</td>\n",
       "      <td>1.431132</td>\n",
       "      <td>...</td>\n",
       "      <td>-0.342872</td>\n",
       "      <td>-0.397202</td>\n",
       "      <td>-0.160128</td>\n",
       "      <td>-0.204124</td>\n",
       "      <td>-0.717741</td>\n",
       "      <td>1.061913</td>\n",
       "      <td>-0.377964</td>\n",
       "      <td>-0.204124</td>\n",
       "      <td>-1.199593</td>\n",
       "      <td>1.304877</td>\n",
       "    </tr>\n",
       "    <tr>\n",
       "      <th>196</th>\n",
       "      <td>-1.469370</td>\n",
       "      <td>-0.801643</td>\n",
       "      <td>1.395357</td>\n",
       "      <td>0.333333</td>\n",
       "      <td>2.134375</td>\n",
       "      <td>-0.859727</td>\n",
       "      <td>-0.123404</td>\n",
       "      <td>1.702100</td>\n",
       "      <td>1.183155</td>\n",
       "      <td>1.383459</td>\n",
       "      <td>...</td>\n",
       "      <td>-0.966276</td>\n",
       "      <td>-0.837722</td>\n",
       "      <td>-0.160128</td>\n",
       "      <td>-0.204124</td>\n",
       "      <td>-0.717741</td>\n",
       "      <td>1.061913</td>\n",
       "      <td>-0.377964</td>\n",
       "      <td>-0.204124</td>\n",
       "      <td>-1.199593</td>\n",
       "      <td>1.304877</td>\n",
       "    </tr>\n",
       "    <tr>\n",
       "      <th>197</th>\n",
       "      <td>-1.469370</td>\n",
       "      <td>-0.801643</td>\n",
       "      <td>1.395357</td>\n",
       "      <td>0.333333</td>\n",
       "      <td>-0.468521</td>\n",
       "      <td>-0.859727</td>\n",
       "      <td>-0.123404</td>\n",
       "      <td>1.702100</td>\n",
       "      <td>1.183155</td>\n",
       "      <td>1.431132</td>\n",
       "      <td>...</td>\n",
       "      <td>-1.122127</td>\n",
       "      <td>-1.131402</td>\n",
       "      <td>-0.160128</td>\n",
       "      <td>-0.204124</td>\n",
       "      <td>-0.717741</td>\n",
       "      <td>1.061913</td>\n",
       "      <td>-0.377964</td>\n",
       "      <td>-0.204124</td>\n",
       "      <td>-1.199593</td>\n",
       "      <td>1.304877</td>\n",
       "    </tr>\n",
       "    <tr>\n",
       "      <th>198</th>\n",
       "      <td>-1.469370</td>\n",
       "      <td>-0.801643</td>\n",
       "      <td>1.395357</td>\n",
       "      <td>-3.000000</td>\n",
       "      <td>2.134375</td>\n",
       "      <td>-0.859727</td>\n",
       "      <td>-0.123404</td>\n",
       "      <td>1.702100</td>\n",
       "      <td>1.183155</td>\n",
       "      <td>1.431132</td>\n",
       "      <td>...</td>\n",
       "      <td>0.124681</td>\n",
       "      <td>-0.544042</td>\n",
       "      <td>-0.160128</td>\n",
       "      <td>-0.204124</td>\n",
       "      <td>-0.717741</td>\n",
       "      <td>1.061913</td>\n",
       "      <td>-0.377964</td>\n",
       "      <td>-0.204124</td>\n",
       "      <td>-1.199593</td>\n",
       "      <td>1.304877</td>\n",
       "    </tr>\n",
       "    <tr>\n",
       "      <th>199</th>\n",
       "      <td>-1.469370</td>\n",
       "      <td>-0.801643</td>\n",
       "      <td>1.395357</td>\n",
       "      <td>0.333333</td>\n",
       "      <td>2.134375</td>\n",
       "      <td>-0.859727</td>\n",
       "      <td>-0.123404</td>\n",
       "      <td>1.702100</td>\n",
       "      <td>1.183155</td>\n",
       "      <td>1.431132</td>\n",
       "      <td>...</td>\n",
       "      <td>-0.966276</td>\n",
       "      <td>-0.837722</td>\n",
       "      <td>-0.160128</td>\n",
       "      <td>-0.204124</td>\n",
       "      <td>-0.717741</td>\n",
       "      <td>1.061913</td>\n",
       "      <td>-0.377964</td>\n",
       "      <td>-0.204124</td>\n",
       "      <td>-1.199593</td>\n",
       "      <td>1.304877</td>\n",
       "    </tr>\n",
       "  </tbody>\n",
       "</table>\n",
       "<p>200 rows × 31 columns</p>\n",
       "</div>"
      ],
      "text/plain": [
       "     symboling  normalized_losses      make  fuel_type  aspiration  num_doors  \\\n",
       "0     1.742368          -0.178766 -1.996136   0.333333   -0.468521   1.163160   \n",
       "1     0.136499          -0.178766 -1.996136   0.333333   -0.468521   1.163160   \n",
       "2     0.939433           1.347283 -1.834636   0.333333   -0.468521  -0.859727   \n",
       "3     0.939433           1.347283 -1.834636   0.333333   -0.468521  -0.859727   \n",
       "4     0.939433          -0.178766 -1.834636   0.333333   -0.468521   1.163160   \n",
       "..         ...                ...       ...        ...         ...        ...   \n",
       "195  -1.469370          -0.801643  1.395357   0.333333   -0.468521  -0.859727   \n",
       "196  -1.469370          -0.801643  1.395357   0.333333    2.134375  -0.859727   \n",
       "197  -1.469370          -0.801643  1.395357   0.333333   -0.468521  -0.859727   \n",
       "198  -1.469370          -0.801643  1.395357  -3.000000    2.134375  -0.859727   \n",
       "199  -1.469370          -0.801643  1.395357   0.333333    2.134375  -0.859727   \n",
       "\n",
       "     engine_location  wheel_base    length     width  ...  city_mpg  \\\n",
       "0          -0.123404   -1.701436 -0.440719 -0.857154  ... -0.654574   \n",
       "1          -0.123404   -0.721882 -0.245855 -0.189737  ... -0.966276   \n",
       "2          -0.123404    0.158057  0.192591  0.143971  ... -0.187021   \n",
       "3          -0.123404    0.091646  0.192591  0.239316  ... -1.122127   \n",
       "4          -0.123404    0.158057  0.249427  0.191644  ... -0.966276   \n",
       "..               ...         ...       ...       ...  ...       ...   \n",
       "195        -0.123404    1.702100  1.183155  1.431132  ... -0.342872   \n",
       "196        -0.123404    1.702100  1.183155  1.383459  ... -0.966276   \n",
       "197        -0.123404    1.702100  1.183155  1.431132  ... -1.122127   \n",
       "198        -0.123404    1.702100  1.183155  1.431132  ...  0.124681   \n",
       "199        -0.123404    1.702100  1.183155  1.431132  ... -0.966276   \n",
       "\n",
       "     highway_mpg         0         1         2         3         4         5  \\\n",
       "0      -0.544042  6.244998 -0.204124 -0.717741 -0.941697 -0.377964 -0.204124   \n",
       "1      -0.690882 -0.160128 -0.204124  1.393261 -0.941697 -0.377964 -0.204124   \n",
       "2      -0.103522 -0.160128 -0.204124 -0.717741  1.061913 -0.377964 -0.204124   \n",
       "3      -1.278241 -0.160128 -0.204124 -0.717741  1.061913 -0.377964  4.898979   \n",
       "4      -0.837722 -0.160128 -0.204124 -0.717741  1.061913 -0.377964 -0.204124   \n",
       "..           ...       ...       ...       ...       ...       ...       ...   \n",
       "195    -0.397202 -0.160128 -0.204124 -0.717741  1.061913 -0.377964 -0.204124   \n",
       "196    -0.837722 -0.160128 -0.204124 -0.717741  1.061913 -0.377964 -0.204124   \n",
       "197    -1.131402 -0.160128 -0.204124 -0.717741  1.061913 -0.377964 -0.204124   \n",
       "198    -0.544042 -0.160128 -0.204124 -0.717741  1.061913 -0.377964 -0.204124   \n",
       "199    -0.837722 -0.160128 -0.204124 -0.717741  1.061913 -0.377964 -0.204124   \n",
       "\n",
       "            6         7  \n",
       "0   -1.199593  1.304877  \n",
       "1   -1.199593  1.304877  \n",
       "2    0.833616 -0.766356  \n",
       "3   -1.199593 -0.766356  \n",
       "4    0.833616 -0.766356  \n",
       "..        ...       ...  \n",
       "195 -1.199593  1.304877  \n",
       "196 -1.199593  1.304877  \n",
       "197 -1.199593  1.304877  \n",
       "198 -1.199593  1.304877  \n",
       "199 -1.199593  1.304877  \n",
       "\n",
       "[200 rows x 31 columns]"
      ]
     },
     "execution_count": 34,
     "metadata": {},
     "output_type": "execute_result"
    }
   ],
   "source": [
    "scaler = StandardScaler()\n",
    "x = pd.DataFrame(scaler.fit_transform(x))\n",
    "x.columns = cols\n",
    "x"
   ]
  },
  {
   "cell_type": "code",
   "execution_count": 35,
   "id": "2891ad65",
   "metadata": {
    "execution": {
     "iopub.execute_input": "2022-09-06T06:46:44.255638Z",
     "iopub.status.busy": "2022-09-06T06:46:44.254463Z",
     "iopub.status.idle": "2022-09-06T06:46:44.814502Z",
     "shell.execute_reply": "2022-09-06T06:46:44.812886Z"
    },
    "papermill": {
     "duration": 0.580961,
     "end_time": "2022-09-06T06:46:44.817469",
     "exception": false,
     "start_time": "2022-09-06T06:46:44.236508",
     "status": "completed"
    },
    "tags": []
   },
   "outputs": [
    {
     "data": {
      "image/png": "[encoded data removed]",
      "text/plain": [
       "<Figure size 432x288 with 1 Axes>"
      ]
     },
     "metadata": {
      "needs_background": "light"
     },
     "output_type": "display_data"
    }
   ],
   "source": [
    "plt.hist(x)\n",
    "plt.show()"
   ]
  },
  {
   "cell_type": "code",
   "execution_count": 36,
   "id": "dc4e0479",
   "metadata": {
    "execution": {
     "iopub.execute_input": "2022-09-06T06:46:44.845114Z",
     "iopub.status.busy": "2022-09-06T06:46:44.844730Z",
     "iopub.status.idle": "2022-09-06T06:46:44.879065Z",
     "shell.execute_reply": "2022-09-06T06:46:44.878015Z"
    },
    "papermill": {
     "duration": 0.05283,
     "end_time": "2022-09-06T06:46:44.883719",
     "exception": false,
     "start_time": "2022-09-06T06:46:44.830889",
     "status": "completed"
    },
    "tags": []
   },
   "outputs": [
    {
     "name": "stderr",
     "output_type": "stream",
     "text": [
      "/opt/conda/lib/python3.7/site-packages/sklearn/utils/validation.py:1692: FutureWarning: Feature names only support names that are all strings. Got feature names with dtypes: ['int', 'str']. An error will be raised in 1.2.\n",
      "  FutureWarning,\n",
      "/opt/conda/lib/python3.7/site-packages/sklearn/utils/validation.py:1692: FutureWarning: Feature names only support names that are all strings. Got feature names with dtypes: ['int', 'str']. An error will be raised in 1.2.\n",
      "  FutureWarning,\n"
     ]
    },
    {
     "data": {
      "text/plain": [
       "0.8844447312204846"
      ]
     },
     "execution_count": 36,
     "metadata": {},
     "output_type": "execute_result"
    }
   ],
   "source": [
    "x_train,x_test,y_train,y_test = train_test_split(x,y,test_size = 0.3)\n",
    "model = LinearRegression()\n",
    "model.fit(x_train,y_train)\n",
    "prediction = model.predict(x_test)\n",
    "r2_score(prediction,y_test)"
   ]
  },
  {
   "cell_type": "markdown",
   "id": "fc4111db",
   "metadata": {
    "papermill": {
     "duration": 0.013165,
     "end_time": "2022-09-06T06:46:44.910362",
     "exception": false,
     "start_time": "2022-09-06T06:46:44.897197",
     "status": "completed"
    },
    "tags": []
   },
   "source": [
    "### **Applying PCA**"
   ]
  },
  {
   "cell_type": "code",
   "execution_count": 37,
   "id": "8574f7f6",
   "metadata": {
    "execution": {
     "iopub.execute_input": "2022-09-06T06:46:44.938085Z",
     "iopub.status.busy": "2022-09-06T06:46:44.937571Z",
     "iopub.status.idle": "2022-09-06T06:46:44.946145Z",
     "shell.execute_reply": "2022-09-06T06:46:44.945367Z"
    },
    "papermill": {
     "duration": 0.024644,
     "end_time": "2022-09-06T06:46:44.948171",
     "exception": false,
     "start_time": "2022-09-06T06:46:44.923527",
     "status": "completed"
    },
    "tags": []
   },
   "outputs": [
    {
     "name": "stderr",
     "output_type": "stream",
     "text": [
      "/opt/conda/lib/python3.7/site-packages/sklearn/utils/validation.py:1692: FutureWarning: Feature names only support names that are all strings. Got feature names with dtypes: ['int', 'str']. An error will be raised in 1.2.\n",
      "  FutureWarning,\n"
     ]
    },
    {
     "data": {
      "text/plain": [
       "(200, 31)"
      ]
     },
     "execution_count": 37,
     "metadata": {},
     "output_type": "execute_result"
    }
   ],
   "source": [
    "pca=PCA(0.95)\n",
    "X_pca=pca.fit_transform(x)\n",
    "x.shape"
   ]
  },
  {
   "cell_type": "code",
   "execution_count": 38,
   "id": "0e8414da",
   "metadata": {
    "execution": {
     "iopub.execute_input": "2022-09-06T06:46:44.976313Z",
     "iopub.status.busy": "2022-09-06T06:46:44.975977Z",
     "iopub.status.idle": "2022-09-06T06:46:44.985540Z",
     "shell.execute_reply": "2022-09-06T06:46:44.983776Z"
    },
    "papermill": {
     "duration": 0.02692,
     "end_time": "2022-09-06T06:46:44.988366",
     "exception": false,
     "start_time": "2022-09-06T06:46:44.961446",
     "status": "completed"
    },
    "tags": []
   },
   "outputs": [
    {
     "data": {
      "text/plain": [
       "0.8162973033509053"
      ]
     },
     "execution_count": 38,
     "metadata": {},
     "output_type": "execute_result"
    }
   ],
   "source": [
    "X_pca.shape\n",
    "X_train,X_test,y_train,y_test=train_test_split(X_pca,y,test_size=0.3,random_state=30)\n",
    "\n",
    "lreg=LinearRegression()\n",
    "lreg.fit(X_train,y_train)\n",
    "y_pred=lreg.predict(X_test)\n",
    "r2_score(y_test,y_pred)"
   ]
  }
 ],
 "metadata": {
  "kernelspec": {
   "display_name": "Python 3",
   "language": "python",
   "name": "python3"
  },
  "language_info": {
   "codemirror_mode": {
    "name": "ipython",
    "version": 3
   },
   "file_extension": ".py",
   "mimetype": "text/x-python",
   "name": "python",
   "nbconvert_exporter": "python",
   "pygments_lexer": "ipython3",
   "version": "3.7.12"
  },
  "papermill": {
   "default_parameters": {},
   "duration": 13.137465,
   "end_time": "2022-09-06T06:46:45.723043",
   "environment_variables": {},
   "exception": null,
   "input_path": "__notebook__.ipynb",
   "output_path": "__notebook__.ipynb",
   "parameters": {},
   "start_time": "2022-09-06T06:46:32.585578",
   "version": "2.3.4"
  }
 },
 "nbformat": 4,
 "nbformat_minor": 5
}
