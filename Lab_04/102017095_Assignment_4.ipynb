{
  "cells": [
    {
      "cell_type": "markdown",
      "metadata": {
        "id": "-KBQTVldzzOg"
      },
      "source": [
        "# Question 1"
      ]
    },
    {
      "cell_type": "code",
      "execution_count": 1,
      "metadata": {
        "id": "eo7JtiyKzzOv"
      },
      "outputs": [],
      "source": [
        "import numpy as np\n",
        "import random\n",
        "from sklearn.metrics import r2_score\n",
        "import seaborn as sns\n",
        "import pandas as pd\n",
        "import matplotlib.pyplot as plt\n",
        "from sklearn.datasets import make_spd_matrix\n",
        "from sklearn.model_selection import train_test_split"
      ]
    },
    {
      "cell_type": "markdown",
      "metadata": {
        "id": "jvloG4DlzzO4"
      },
      "source": [
        "## Generate dataset"
      ]
    },
    {
      "cell_type": "code",
      "execution_count": 3,
      "metadata": {
        "colab": {
          "base_uri": "https://localhost:8080/",
          "height": 424
        },
        "id": "3Cn2fLtOzzO6",
        "outputId": "7ff4dfa0-d4d6-4b72-e7b8-af4f4404439e"
      },
      "outputs": [
        {
          "output_type": "execute_result",
          "data": {
            "text/plain": [
              "             0         1         2          3         4         5         6  \\\n",
              "0     8.957509  5.054379  2.910195   9.480900  4.058703  0.986910  8.039733   \n",
              "1     7.094815  7.525144  1.274435   8.668709  2.785100 -0.313601  8.405072   \n",
              "2    11.391662  4.530901  5.895992   7.509716  4.776738  2.665768  8.912515   \n",
              "3    11.645845  5.439163  4.796746   6.921407  4.526010  2.473019  9.744516   \n",
              "4     9.439246  8.098484  3.574289   8.130265  2.633095  0.499065  8.371009   \n",
              "..         ...       ...       ...        ...       ...       ...       ...   \n",
              "995   7.252033  7.599205  1.520344  10.531166  1.716121  1.216096  7.470193   \n",
              "996  11.349819  5.529336  5.691926   8.086103  4.922587  2.306740  9.886666   \n",
              "997  12.414198  3.162633  7.901711   6.357995  5.074839  3.574111  9.978927   \n",
              "998  11.112104  4.724347  4.708658   7.207454  3.788487  2.800688  9.082017   \n",
              "999   5.675043  6.861015 -0.071692  10.683305  2.420885  1.190133  7.539440   \n",
              "\n",
              "     output  \n",
              "0      50.0  \n",
              "1     312.0  \n",
              "2     498.0  \n",
              "3       8.0  \n",
              "4     397.0  \n",
              "..      ...  \n",
              "995   540.0  \n",
              "996    97.0  \n",
              "997   342.0  \n",
              "998    15.0  \n",
              "999    81.0  \n",
              "\n",
              "[1000 rows x 8 columns]"
            ],
            "text/html": [
              "\n",
              "  <div id=\"df-325df904-3b1c-40a4-aac9-0bbbe7439124\">\n",
              "    <div class=\"colab-df-container\">\n",
              "      <div>\n",
              "<style scoped>\n",
              "    .dataframe tbody tr th:only-of-type {\n",
              "        vertical-align: middle;\n",
              "    }\n",
              "\n",
              "    .dataframe tbody tr th {\n",
              "        vertical-align: top;\n",
              "    }\n",
              "\n",
              "    .dataframe thead th {\n",
              "        text-align: right;\n",
              "    }\n",
              "</style>\n",
              "<table border=\"1\" class=\"dataframe\">\n",
              "  <thead>\n",
              "    <tr style=\"text-align: right;\">\n",
              "      <th></th>\n",
              "      <th>0</th>\n",
              "      <th>1</th>\n",
              "      <th>2</th>\n",
              "      <th>3</th>\n",
              "      <th>4</th>\n",
              "      <th>5</th>\n",
              "      <th>6</th>\n",
              "      <th>output</th>\n",
              "    </tr>\n",
              "  </thead>\n",
              "  <tbody>\n",
              "    <tr>\n",
              "      <th>0</th>\n",
              "      <td>8.957509</td>\n",
              "      <td>5.054379</td>\n",
              "      <td>2.910195</td>\n",
              "      <td>9.480900</td>\n",
              "      <td>4.058703</td>\n",
              "      <td>0.986910</td>\n",
              "      <td>8.039733</td>\n",
              "      <td>50.0</td>\n",
              "    </tr>\n",
              "    <tr>\n",
              "      <th>1</th>\n",
              "      <td>7.094815</td>\n",
              "      <td>7.525144</td>\n",
              "      <td>1.274435</td>\n",
              "      <td>8.668709</td>\n",
              "      <td>2.785100</td>\n",
              "      <td>-0.313601</td>\n",
              "      <td>8.405072</td>\n",
              "      <td>312.0</td>\n",
              "    </tr>\n",
              "    <tr>\n",
              "      <th>2</th>\n",
              "      <td>11.391662</td>\n",
              "      <td>4.530901</td>\n",
              "      <td>5.895992</td>\n",
              "      <td>7.509716</td>\n",
              "      <td>4.776738</td>\n",
              "      <td>2.665768</td>\n",
              "      <td>8.912515</td>\n",
              "      <td>498.0</td>\n",
              "    </tr>\n",
              "    <tr>\n",
              "      <th>3</th>\n",
              "      <td>11.645845</td>\n",
              "      <td>5.439163</td>\n",
              "      <td>4.796746</td>\n",
              "      <td>6.921407</td>\n",
              "      <td>4.526010</td>\n",
              "      <td>2.473019</td>\n",
              "      <td>9.744516</td>\n",
              "      <td>8.0</td>\n",
              "    </tr>\n",
              "    <tr>\n",
              "      <th>4</th>\n",
              "      <td>9.439246</td>\n",
              "      <td>8.098484</td>\n",
              "      <td>3.574289</td>\n",
              "      <td>8.130265</td>\n",
              "      <td>2.633095</td>\n",
              "      <td>0.499065</td>\n",
              "      <td>8.371009</td>\n",
              "      <td>397.0</td>\n",
              "    </tr>\n",
              "    <tr>\n",
              "      <th>...</th>\n",
              "      <td>...</td>\n",
              "      <td>...</td>\n",
              "      <td>...</td>\n",
              "      <td>...</td>\n",
              "      <td>...</td>\n",
              "      <td>...</td>\n",
              "      <td>...</td>\n",
              "      <td>...</td>\n",
              "    </tr>\n",
              "    <tr>\n",
              "      <th>995</th>\n",
              "      <td>7.252033</td>\n",
              "      <td>7.599205</td>\n",
              "      <td>1.520344</td>\n",
              "      <td>10.531166</td>\n",
              "      <td>1.716121</td>\n",
              "      <td>1.216096</td>\n",
              "      <td>7.470193</td>\n",
              "      <td>540.0</td>\n",
              "    </tr>\n",
              "    <tr>\n",
              "      <th>996</th>\n",
              "      <td>11.349819</td>\n",
              "      <td>5.529336</td>\n",
              "      <td>5.691926</td>\n",
              "      <td>8.086103</td>\n",
              "      <td>4.922587</td>\n",
              "      <td>2.306740</td>\n",
              "      <td>9.886666</td>\n",
              "      <td>97.0</td>\n",
              "    </tr>\n",
              "    <tr>\n",
              "      <th>997</th>\n",
              "      <td>12.414198</td>\n",
              "      <td>3.162633</td>\n",
              "      <td>7.901711</td>\n",
              "      <td>6.357995</td>\n",
              "      <td>5.074839</td>\n",
              "      <td>3.574111</td>\n",
              "      <td>9.978927</td>\n",
              "      <td>342.0</td>\n",
              "    </tr>\n",
              "    <tr>\n",
              "      <th>998</th>\n",
              "      <td>11.112104</td>\n",
              "      <td>4.724347</td>\n",
              "      <td>4.708658</td>\n",
              "      <td>7.207454</td>\n",
              "      <td>3.788487</td>\n",
              "      <td>2.800688</td>\n",
              "      <td>9.082017</td>\n",
              "      <td>15.0</td>\n",
              "    </tr>\n",
              "    <tr>\n",
              "      <th>999</th>\n",
              "      <td>5.675043</td>\n",
              "      <td>6.861015</td>\n",
              "      <td>-0.071692</td>\n",
              "      <td>10.683305</td>\n",
              "      <td>2.420885</td>\n",
              "      <td>1.190133</td>\n",
              "      <td>7.539440</td>\n",
              "      <td>81.0</td>\n",
              "    </tr>\n",
              "  </tbody>\n",
              "</table>\n",
              "<p>1000 rows × 8 columns</p>\n",
              "</div>\n",
              "      <button class=\"colab-df-convert\" onclick=\"convertToInteractive('df-325df904-3b1c-40a4-aac9-0bbbe7439124')\"\n",
              "              title=\"Convert this dataframe to an interactive table.\"\n",
              "              style=\"display:none;\">\n",
              "        \n",
              "  <svg xmlns=\"http://www.w3.org/2000/svg\" height=\"24px\"viewBox=\"0 0 24 24\"\n",
              "       width=\"24px\">\n",
              "    <path d=\"M0 0h24v24H0V0z\" fill=\"none\"/>\n",
              "    <path d=\"M18.56 5.44l.94 2.06.94-2.06 2.06-.94-2.06-.94-.94-2.06-.94 2.06-2.06.94zm-11 1L8.5 8.5l.94-2.06 2.06-.94-2.06-.94L8.5 2.5l-.94 2.06-2.06.94zm10 10l.94 2.06.94-2.06 2.06-.94-2.06-.94-.94-2.06-.94 2.06-2.06.94z\"/><path d=\"M17.41 7.96l-1.37-1.37c-.4-.4-.92-.59-1.43-.59-.52 0-1.04.2-1.43.59L10.3 9.45l-7.72 7.72c-.78.78-.78 2.05 0 2.83L4 21.41c.39.39.9.59 1.41.59.51 0 1.02-.2 1.41-.59l7.78-7.78 2.81-2.81c.8-.78.8-2.07 0-2.86zM5.41 20L4 18.59l7.72-7.72 1.47 1.35L5.41 20z\"/>\n",
              "  </svg>\n",
              "      </button>\n",
              "      \n",
              "  <style>\n",
              "    .colab-df-container {\n",
              "      display:flex;\n",
              "      flex-wrap:wrap;\n",
              "      gap: 12px;\n",
              "    }\n",
              "\n",
              "    .colab-df-convert {\n",
              "      background-color: #E8F0FE;\n",
              "      border: none;\n",
              "      border-radius: 50%;\n",
              "      cursor: pointer;\n",
              "      display: none;\n",
              "      fill: #1967D2;\n",
              "      height: 32px;\n",
              "      padding: 0 0 0 0;\n",
              "      width: 32px;\n",
              "    }\n",
              "\n",
              "    .colab-df-convert:hover {\n",
              "      background-color: #E2EBFA;\n",
              "      box-shadow: 0px 1px 2px rgba(60, 64, 67, 0.3), 0px 1px 3px 1px rgba(60, 64, 67, 0.15);\n",
              "      fill: #174EA6;\n",
              "    }\n",
              "\n",
              "    [theme=dark] .colab-df-convert {\n",
              "      background-color: #3B4455;\n",
              "      fill: #D2E3FC;\n",
              "    }\n",
              "\n",
              "    [theme=dark] .colab-df-convert:hover {\n",
              "      background-color: #434B5C;\n",
              "      box-shadow: 0px 1px 3px 1px rgba(0, 0, 0, 0.15);\n",
              "      filter: drop-shadow(0px 1px 2px rgba(0, 0, 0, 0.3));\n",
              "      fill: #FFFFFF;\n",
              "    }\n",
              "  </style>\n",
              "\n",
              "      <script>\n",
              "        const buttonEl =\n",
              "          document.querySelector('#df-325df904-3b1c-40a4-aac9-0bbbe7439124 button.colab-df-convert');\n",
              "        buttonEl.style.display =\n",
              "          google.colab.kernel.accessAllowed ? 'block' : 'none';\n",
              "\n",
              "        async function convertToInteractive(key) {\n",
              "          const element = document.querySelector('#df-325df904-3b1c-40a4-aac9-0bbbe7439124');\n",
              "          const dataTable =\n",
              "            await google.colab.kernel.invokeFunction('convertToInteractive',\n",
              "                                                     [key], {});\n",
              "          if (!dataTable) return;\n",
              "\n",
              "          const docLinkHtml = 'Like what you see? Visit the ' +\n",
              "            '<a target=\"_blank\" href=https://colab.research.google.com/notebooks/data_table.ipynb>data table notebook</a>'\n",
              "            + ' to learn more about interactive tables.';\n",
              "          element.innerHTML = '';\n",
              "          dataTable['output_type'] = 'display_data';\n",
              "          await google.colab.output.renderOutput(dataTable, element);\n",
              "          const docLink = document.createElement('div');\n",
              "          docLink.innerHTML = docLinkHtml;\n",
              "          element.appendChild(docLink);\n",
              "        }\n",
              "      </script>\n",
              "    </div>\n",
              "  </div>\n",
              "  "
            ]
          },
          "metadata": {},
          "execution_count": 3
        }
      ],
      "source": [
        "mean=np.array([10, 6, 4, 8, 4, 2, 9])\n",
        "cov = np.array(make_spd_matrix(n_dim=7, random_state=0))\n",
        "\n",
        "rng=np.random.default_rng()\n",
        "X=np.array(rng.multivariate_normal(mean, cov, size=1000))\n",
        "\n",
        "Y=np.array([])\n",
        "for i in range(0, 1000):\n",
        "    Y=np.append(Y, random.randint(0, 1000))\n",
        "\n",
        "\n",
        "df=pd.DataFrame(data=X)\n",
        "df=df.join(pd.DataFrame(data=Y, columns=['output']))\n",
        "df"
      ]
    },
    {
      "cell_type": "code",
      "execution_count": 4,
      "metadata": {
        "colab": {
          "base_uri": "https://localhost:8080/",
          "height": 424
        },
        "id": "GEf_P4BfzzPB",
        "outputId": "11cdd38f-7533-48b0-8a60-faaa0ea63b91"
      },
      "outputs": [
        {
          "output_type": "execute_result",
          "data": {
            "text/plain": [
              "             0         1         2          3         4         5         6  \\\n",
              "0     8.957509  5.054379  2.910195   9.480900  4.058703  0.986910  8.039733   \n",
              "1     7.094815  7.525144  1.274435   8.668709  2.785100 -0.313601  8.405072   \n",
              "2    11.391662  4.530901  5.895992   7.509716  4.776738  2.665768  8.912515   \n",
              "3    11.645845  5.439163  4.796746   6.921407  4.526010  2.473019  9.744516   \n",
              "4     9.439246  8.098484  3.574289   8.130265  2.633095  0.499065  8.371009   \n",
              "..         ...       ...       ...        ...       ...       ...       ...   \n",
              "995   7.252033  7.599205  1.520344  10.531166  1.716121  1.216096  7.470193   \n",
              "996  11.349819  5.529336  5.691926   8.086103  4.922587  2.306740  9.886666   \n",
              "997  12.414198  3.162633  7.901711   6.357995  5.074839  3.574111  9.978927   \n",
              "998  11.112104  4.724347  4.708658   7.207454  3.788487  2.800688  9.082017   \n",
              "999   5.675043  6.861015 -0.071692  10.683305  2.420885  1.190133  7.539440   \n",
              "\n",
              "     output  \n",
              "0      50.0  \n",
              "1     312.0  \n",
              "2     498.0  \n",
              "3       8.0  \n",
              "4     397.0  \n",
              "..      ...  \n",
              "995   540.0  \n",
              "996    97.0  \n",
              "997   342.0  \n",
              "998    15.0  \n",
              "999    81.0  \n",
              "\n",
              "[1000 rows x 8 columns]"
            ],
            "text/html": [
              "\n",
              "  <div id=\"df-3df089c5-f339-4438-9f5f-3326fa4604cb\">\n",
              "    <div class=\"colab-df-container\">\n",
              "      <div>\n",
              "<style scoped>\n",
              "    .dataframe tbody tr th:only-of-type {\n",
              "        vertical-align: middle;\n",
              "    }\n",
              "\n",
              "    .dataframe tbody tr th {\n",
              "        vertical-align: top;\n",
              "    }\n",
              "\n",
              "    .dataframe thead th {\n",
              "        text-align: right;\n",
              "    }\n",
              "</style>\n",
              "<table border=\"1\" class=\"dataframe\">\n",
              "  <thead>\n",
              "    <tr style=\"text-align: right;\">\n",
              "      <th></th>\n",
              "      <th>0</th>\n",
              "      <th>1</th>\n",
              "      <th>2</th>\n",
              "      <th>3</th>\n",
              "      <th>4</th>\n",
              "      <th>5</th>\n",
              "      <th>6</th>\n",
              "      <th>output</th>\n",
              "    </tr>\n",
              "  </thead>\n",
              "  <tbody>\n",
              "    <tr>\n",
              "      <th>0</th>\n",
              "      <td>8.957509</td>\n",
              "      <td>5.054379</td>\n",
              "      <td>2.910195</td>\n",
              "      <td>9.480900</td>\n",
              "      <td>4.058703</td>\n",
              "      <td>0.986910</td>\n",
              "      <td>8.039733</td>\n",
              "      <td>50.0</td>\n",
              "    </tr>\n",
              "    <tr>\n",
              "      <th>1</th>\n",
              "      <td>7.094815</td>\n",
              "      <td>7.525144</td>\n",
              "      <td>1.274435</td>\n",
              "      <td>8.668709</td>\n",
              "      <td>2.785100</td>\n",
              "      <td>-0.313601</td>\n",
              "      <td>8.405072</td>\n",
              "      <td>312.0</td>\n",
              "    </tr>\n",
              "    <tr>\n",
              "      <th>2</th>\n",
              "      <td>11.391662</td>\n",
              "      <td>4.530901</td>\n",
              "      <td>5.895992</td>\n",
              "      <td>7.509716</td>\n",
              "      <td>4.776738</td>\n",
              "      <td>2.665768</td>\n",
              "      <td>8.912515</td>\n",
              "      <td>498.0</td>\n",
              "    </tr>\n",
              "    <tr>\n",
              "      <th>3</th>\n",
              "      <td>11.645845</td>\n",
              "      <td>5.439163</td>\n",
              "      <td>4.796746</td>\n",
              "      <td>6.921407</td>\n",
              "      <td>4.526010</td>\n",
              "      <td>2.473019</td>\n",
              "      <td>9.744516</td>\n",
              "      <td>8.0</td>\n",
              "    </tr>\n",
              "    <tr>\n",
              "      <th>4</th>\n",
              "      <td>9.439246</td>\n",
              "      <td>8.098484</td>\n",
              "      <td>3.574289</td>\n",
              "      <td>8.130265</td>\n",
              "      <td>2.633095</td>\n",
              "      <td>0.499065</td>\n",
              "      <td>8.371009</td>\n",
              "      <td>397.0</td>\n",
              "    </tr>\n",
              "    <tr>\n",
              "      <th>...</th>\n",
              "      <td>...</td>\n",
              "      <td>...</td>\n",
              "      <td>...</td>\n",
              "      <td>...</td>\n",
              "      <td>...</td>\n",
              "      <td>...</td>\n",
              "      <td>...</td>\n",
              "      <td>...</td>\n",
              "    </tr>\n",
              "    <tr>\n",
              "      <th>995</th>\n",
              "      <td>7.252033</td>\n",
              "      <td>7.599205</td>\n",
              "      <td>1.520344</td>\n",
              "      <td>10.531166</td>\n",
              "      <td>1.716121</td>\n",
              "      <td>1.216096</td>\n",
              "      <td>7.470193</td>\n",
              "      <td>540.0</td>\n",
              "    </tr>\n",
              "    <tr>\n",
              "      <th>996</th>\n",
              "      <td>11.349819</td>\n",
              "      <td>5.529336</td>\n",
              "      <td>5.691926</td>\n",
              "      <td>8.086103</td>\n",
              "      <td>4.922587</td>\n",
              "      <td>2.306740</td>\n",
              "      <td>9.886666</td>\n",
              "      <td>97.0</td>\n",
              "    </tr>\n",
              "    <tr>\n",
              "      <th>997</th>\n",
              "      <td>12.414198</td>\n",
              "      <td>3.162633</td>\n",
              "      <td>7.901711</td>\n",
              "      <td>6.357995</td>\n",
              "      <td>5.074839</td>\n",
              "      <td>3.574111</td>\n",
              "      <td>9.978927</td>\n",
              "      <td>342.0</td>\n",
              "    </tr>\n",
              "    <tr>\n",
              "      <th>998</th>\n",
              "      <td>11.112104</td>\n",
              "      <td>4.724347</td>\n",
              "      <td>4.708658</td>\n",
              "      <td>7.207454</td>\n",
              "      <td>3.788487</td>\n",
              "      <td>2.800688</td>\n",
              "      <td>9.082017</td>\n",
              "      <td>15.0</td>\n",
              "    </tr>\n",
              "    <tr>\n",
              "      <th>999</th>\n",
              "      <td>5.675043</td>\n",
              "      <td>6.861015</td>\n",
              "      <td>-0.071692</td>\n",
              "      <td>10.683305</td>\n",
              "      <td>2.420885</td>\n",
              "      <td>1.190133</td>\n",
              "      <td>7.539440</td>\n",
              "      <td>81.0</td>\n",
              "    </tr>\n",
              "  </tbody>\n",
              "</table>\n",
              "<p>1000 rows × 8 columns</p>\n",
              "</div>\n",
              "      <button class=\"colab-df-convert\" onclick=\"convertToInteractive('df-3df089c5-f339-4438-9f5f-3326fa4604cb')\"\n",
              "              title=\"Convert this dataframe to an interactive table.\"\n",
              "              style=\"display:none;\">\n",
              "        \n",
              "  <svg xmlns=\"http://www.w3.org/2000/svg\" height=\"24px\"viewBox=\"0 0 24 24\"\n",
              "       width=\"24px\">\n",
              "    <path d=\"M0 0h24v24H0V0z\" fill=\"none\"/>\n",
              "    <path d=\"M18.56 5.44l.94 2.06.94-2.06 2.06-.94-2.06-.94-.94-2.06-.94 2.06-2.06.94zm-11 1L8.5 8.5l.94-2.06 2.06-.94-2.06-.94L8.5 2.5l-.94 2.06-2.06.94zm10 10l.94 2.06.94-2.06 2.06-.94-2.06-.94-.94-2.06-.94 2.06-2.06.94z\"/><path d=\"M17.41 7.96l-1.37-1.37c-.4-.4-.92-.59-1.43-.59-.52 0-1.04.2-1.43.59L10.3 9.45l-7.72 7.72c-.78.78-.78 2.05 0 2.83L4 21.41c.39.39.9.59 1.41.59.51 0 1.02-.2 1.41-.59l7.78-7.78 2.81-2.81c.8-.78.8-2.07 0-2.86zM5.41 20L4 18.59l7.72-7.72 1.47 1.35L5.41 20z\"/>\n",
              "  </svg>\n",
              "      </button>\n",
              "      \n",
              "  <style>\n",
              "    .colab-df-container {\n",
              "      display:flex;\n",
              "      flex-wrap:wrap;\n",
              "      gap: 12px;\n",
              "    }\n",
              "\n",
              "    .colab-df-convert {\n",
              "      background-color: #E8F0FE;\n",
              "      border: none;\n",
              "      border-radius: 50%;\n",
              "      cursor: pointer;\n",
              "      display: none;\n",
              "      fill: #1967D2;\n",
              "      height: 32px;\n",
              "      padding: 0 0 0 0;\n",
              "      width: 32px;\n",
              "    }\n",
              "\n",
              "    .colab-df-convert:hover {\n",
              "      background-color: #E2EBFA;\n",
              "      box-shadow: 0px 1px 2px rgba(60, 64, 67, 0.3), 0px 1px 3px 1px rgba(60, 64, 67, 0.15);\n",
              "      fill: #174EA6;\n",
              "    }\n",
              "\n",
              "    [theme=dark] .colab-df-convert {\n",
              "      background-color: #3B4455;\n",
              "      fill: #D2E3FC;\n",
              "    }\n",
              "\n",
              "    [theme=dark] .colab-df-convert:hover {\n",
              "      background-color: #434B5C;\n",
              "      box-shadow: 0px 1px 3px 1px rgba(0, 0, 0, 0.15);\n",
              "      filter: drop-shadow(0px 1px 2px rgba(0, 0, 0, 0.3));\n",
              "      fill: #FFFFFF;\n",
              "    }\n",
              "  </style>\n",
              "\n",
              "      <script>\n",
              "        const buttonEl =\n",
              "          document.querySelector('#df-3df089c5-f339-4438-9f5f-3326fa4604cb button.colab-df-convert');\n",
              "        buttonEl.style.display =\n",
              "          google.colab.kernel.accessAllowed ? 'block' : 'none';\n",
              "\n",
              "        async function convertToInteractive(key) {\n",
              "          const element = document.querySelector('#df-3df089c5-f339-4438-9f5f-3326fa4604cb');\n",
              "          const dataTable =\n",
              "            await google.colab.kernel.invokeFunction('convertToInteractive',\n",
              "                                                     [key], {});\n",
              "          if (!dataTable) return;\n",
              "\n",
              "          const docLinkHtml = 'Like what you see? Visit the ' +\n",
              "            '<a target=\"_blank\" href=https://colab.research.google.com/notebooks/data_table.ipynb>data table notebook</a>'\n",
              "            + ' to learn more about interactive tables.';\n",
              "          element.innerHTML = '';\n",
              "          dataTable['output_type'] = 'display_data';\n",
              "          await google.colab.output.renderOutput(dataTable, element);\n",
              "          const docLink = document.createElement('div');\n",
              "          docLink.innerHTML = docLinkHtml;\n",
              "          element.appendChild(docLink);\n",
              "        }\n",
              "      </script>\n",
              "    </div>\n",
              "  </div>\n",
              "  "
            ]
          },
          "metadata": {},
          "execution_count": 4
        }
      ],
      "source": [
        "df"
      ]
    },
    {
      "cell_type": "code",
      "execution_count": 5,
      "metadata": {
        "colab": {
          "base_uri": "https://localhost:8080/",
          "height": 417
        },
        "id": "s0CK0XwxzzPH",
        "outputId": "437d3951-ad21-44f9-9c94-5718d29edbb2"
      },
      "outputs": [
        {
          "output_type": "execute_result",
          "data": {
            "text/plain": [
              "Text(0.5, 1.0, 'Pearson Correlation Heatmap')"
            ]
          },
          "metadata": {},
          "execution_count": 5
        },
        {
          "output_type": "display_data",
          "data": {
            "text/plain": [
              "<Figure size 1152x432 with 2 Axes>"
            ],
            "image/png": "[encoded data removed]"
          },
          "metadata": {
            "needs_background": "light"
          }
        }
      ],
      "source": [
        "plt.figure(figsize=(16,6))\n",
        "heatmap=sns.heatmap(df.iloc[:,0:7].corr(),vmin=-1,vmax=1,annot=True,cmap='BrBG')\n",
        "heatmap.set_title('Pearson Correlation Heatmap',fontdict={'fontsize':18},pad=12)"
      ]
    },
    {
      "cell_type": "markdown",
      "metadata": {
        "id": "1dv6EapwzzPt"
      },
      "source": [
        "## Ridge Regression using Gradient Descent"
      ]
    },
    {
      "cell_type": "code",
      "execution_count": 6,
      "metadata": {
        "colab": {
          "base_uri": "https://localhost:8080/"
        },
        "id": "fmNikGRszzPx",
        "outputId": "0ae62b6b-c5a0-4c72-b814-f2c61cbd6872"
      },
      "outputs": [
        {
          "output_type": "execute_result",
          "data": {
            "text/plain": [
              "array([[ 8.95750948,  5.05437942,  2.91019469, ...,  4.05870349,\n",
              "         0.98691004,  8.03973298],\n",
              "       [ 7.09481479,  7.52514372,  1.2744355 , ...,  2.78509991,\n",
              "        -0.31360129,  8.40507179],\n",
              "       [11.39166159,  4.53090129,  5.8959916 , ...,  4.7767383 ,\n",
              "         2.66576839,  8.91251507],\n",
              "       ...,\n",
              "       [12.41419802,  3.16263252,  7.9017105 , ...,  5.07483942,\n",
              "         3.57411064,  9.97892709],\n",
              "       [11.11210363,  4.72434676,  4.70865781, ...,  3.78848653,\n",
              "         2.80068834,  9.08201703],\n",
              "       [ 5.67504347,  6.86101501, -0.07169201, ...,  2.42088505,\n",
              "         1.19013285,  7.53944035]])"
            ]
          },
          "metadata": {},
          "execution_count": 6
        }
      ],
      "source": [
        "X"
      ]
    },
    {
      "cell_type": "code",
      "source": [
        "Y"
      ],
      "metadata": {
        "colab": {
          "base_uri": "https://localhost:8080/"
        },
        "id": "F8Po3TAi0Dzn",
        "outputId": "8e3728ea-2e49-447b-f969-760b4ab6232e"
      },
      "execution_count": 7,
      "outputs": [
        {
          "output_type": "execute_result",
          "data": {
            "text/plain": [
              "array([ 50., 312., 498.,   8., 397., 415., 808., 964., 507., 717., 254.,\n",
              "       763., 738., 431., 814., 844., 267., 161., 811., 516., 782., 697.,\n",
              "       983., 243., 247., 172., 271., 380., 440., 622., 593., 197.,  81.,\n",
              "       506.,  84.,  85., 909., 864., 348., 791., 353., 616.,  44., 882.,\n",
              "       164., 359., 230., 146., 436.,  57., 398.,  22., 391., 931., 106.,\n",
              "       283., 730., 722.,  63., 722., 440., 309., 180., 767., 923.,   0.,\n",
              "       882., 305., 587., 218., 915., 418., 156., 747., 304., 519., 349.,\n",
              "        97., 953., 282., 603., 456.,  57., 535., 320., 199., 627., 348.,\n",
              "       580., 286., 952., 611., 926., 193., 874., 744.,  43., 533.,  94.,\n",
              "       347., 661., 150., 408., 882., 474.,  30., 516., 869., 227., 494.,\n",
              "       796., 389., 845., 170.,  12., 857., 828., 399.,  78., 822., 632.,\n",
              "       935., 174., 707.,  56., 431., 366., 841., 698.,  29., 480., 483.,\n",
              "       142., 438., 362., 763., 812., 904., 913., 290., 437., 305., 144.,\n",
              "       930., 404., 862., 562., 463., 723., 378., 108., 286., 810., 420.,\n",
              "       629., 591., 556., 639., 355.,  48., 619., 169., 849., 294., 398.,\n",
              "       993., 957.,  65., 168., 581., 669., 784., 263., 427., 902., 178.,\n",
              "        35., 289., 280., 900., 950.,  96., 676., 153., 737., 623., 720.,\n",
              "       132.,  59., 640., 630., 651., 796., 873., 578., 326., 334., 220.,\n",
              "       946., 454., 565., 833., 821., 460., 986.,  73., 540., 445., 664.,\n",
              "       150., 308., 427., 512., 671., 426.,  27., 735., 935., 967., 946.,\n",
              "       742., 780.,  94., 620., 157., 319.,  20., 471.,  10., 310., 285.,\n",
              "       992., 196., 574.,  66.,  99., 930., 361., 538., 114., 335.,  28.,\n",
              "       532., 674., 811., 374., 351., 994., 873., 329., 163., 294., 361.,\n",
              "       492., 251.,  17., 971., 346., 982., 152., 666.,  14., 440.,  61.,\n",
              "       667.,  83., 645., 675., 227., 691., 405., 382., 306.,  35., 532.,\n",
              "       809., 633., 459., 320., 174., 694., 393., 293., 709., 690.,  30.,\n",
              "       291., 290., 248., 402., 249., 830.,  17., 783., 796., 218., 814.,\n",
              "       724., 779., 536., 375., 174., 347., 618., 905., 501., 627., 387.,\n",
              "       579.,  67., 181., 508., 707., 683.,  71., 619., 487., 724., 273.,\n",
              "       711., 741., 188., 812., 432., 464., 803., 890., 511., 207., 759.,\n",
              "        78., 151., 193., 485., 723., 391., 123., 682., 167., 601., 261.,\n",
              "       614., 142., 519., 269., 319., 301., 833., 646., 508., 480., 582.,\n",
              "       696., 611., 220., 632., 228., 220., 184., 889., 225., 946., 661.,\n",
              "       959., 863., 547., 540.,  91.,  16., 185., 302., 731., 872.,  87.,\n",
              "       308.,  19., 851.,  82., 529., 161., 714., 516., 977., 513., 956.,\n",
              "       503., 401., 845., 665., 634., 491., 799.,  60.,  43., 489., 966.,\n",
              "       339., 322., 902., 369., 261., 496., 956., 526., 716., 826., 761.,\n",
              "       433., 853., 184., 628., 901.,  80.,   9., 152., 310., 267., 960.,\n",
              "       236., 630., 271., 778., 241., 774., 150., 716., 960., 307., 915.,\n",
              "       352., 617., 661., 618.,  97., 319., 903.,  78., 895.,  74., 505.,\n",
              "       302., 964., 986.,  52., 527., 376., 103., 135., 546., 628., 475.,\n",
              "       268., 525.,  20., 297., 430., 928., 181., 296., 188., 617., 382.,\n",
              "       469., 735., 309., 995., 941., 501., 690., 664., 593.,  78., 464.,\n",
              "        92., 966., 837., 911., 832., 237., 468., 250., 782., 989., 378.,\n",
              "       446., 341., 566., 618., 482., 264., 963., 729., 148., 105., 432.,\n",
              "       127., 883., 654., 631.,  56., 736., 186.,  22., 880., 596., 668.,\n",
              "       799.,  70., 399., 166., 241.,  96., 176., 880., 784., 670., 574.,\n",
              "       982., 619., 501., 646., 454., 695., 231., 708., 206., 902., 570.,\n",
              "        37., 621., 520., 312., 616., 724., 600., 711., 644., 221., 651.,\n",
              "       564., 607., 155., 519., 490., 570., 865., 742., 636., 418., 546.,\n",
              "       480., 903., 451.,  99.,  37., 354., 308., 531., 862., 235., 709.,\n",
              "        42., 538., 641., 194., 484., 744., 817., 878., 961., 682., 596.,\n",
              "       965., 493., 904., 185., 419.,  74., 352., 482., 403., 572., 194.,\n",
              "       660., 837., 326., 519., 968., 368., 615., 672., 155., 584., 709.,\n",
              "       853., 493.,  17., 911., 629., 486., 314., 386., 392., 866., 202.,\n",
              "       870., 198., 522.,  58., 284., 580., 310., 709., 831., 646., 518.,\n",
              "       287., 457., 368., 238., 490., 123., 174., 164., 793., 355., 957.,\n",
              "       269., 244., 511., 664., 122., 873.,  61., 318., 558., 776., 805.,\n",
              "       972., 994., 595., 209., 379., 608., 885., 346., 297., 744., 700.,\n",
              "       749., 414., 289., 664., 344., 466.,   2., 262., 671., 250., 521.,\n",
              "       638., 135., 302., 652., 706., 604., 198.,  56., 726., 485.,   2.,\n",
              "       531., 968., 108., 590., 467., 688., 740., 112., 925., 900., 262.,\n",
              "       207.,  73.,  14., 500., 761., 202., 198.,  25., 129., 795., 561.,\n",
              "       585., 639., 403., 690., 494., 324., 717., 977., 625., 297., 284.,\n",
              "       451., 823., 219., 853., 344., 774., 752.,  44.,  13.,  46., 531.,\n",
              "       324., 359., 216., 190., 239., 905., 376., 184., 296., 257., 305.,\n",
              "       992., 714.,  82., 212., 799., 387., 285., 395., 456., 429., 162.,\n",
              "       301., 190.,  40.,  60., 195.,  95., 377., 545., 106., 839., 705.,\n",
              "       883., 993., 557., 331., 989., 220., 644., 713., 120., 506., 340.,\n",
              "       793., 257., 416., 582., 637., 132., 661., 555., 891.,  15., 196.,\n",
              "       747., 110., 463., 383., 665., 426., 406., 562., 557., 415., 704.,\n",
              "       758., 573., 999., 423., 365., 969., 850., 207., 981., 411.,  37.,\n",
              "       145., 103.,  38., 319., 197., 946., 210., 223.,  53., 296., 896.,\n",
              "       453., 809., 475., 818., 501., 392., 602., 863.,  38., 131., 945.,\n",
              "       700., 264., 648., 147., 624., 249., 355., 836., 772., 276., 214.,\n",
              "       301., 158., 846., 928., 665., 327., 437., 406., 873., 592., 143.,\n",
              "       750., 137., 236., 547., 227.,  98.,  79., 278., 971., 430., 617.,\n",
              "       449., 229., 268.,  31., 715., 110., 810., 943., 630.,  53., 430.,\n",
              "       799., 287., 743., 507., 886., 335., 219., 684., 764., 386., 497.,\n",
              "       120., 347., 204., 999., 594., 532., 519., 198., 728., 837., 733.,\n",
              "       498., 347., 435., 891., 582., 399., 934., 844., 700., 581., 886.,\n",
              "        48., 732., 452., 452., 256., 715.,  70., 356.,  38.,  54., 627.,\n",
              "       328., 186., 684., 792., 453., 212., 980.,  76.,  34.,  52., 365.,\n",
              "       407., 348., 186., 982., 758., 721., 625., 712.,  24., 236., 521.,\n",
              "       248., 891.,  93., 880., 888., 770.,  17., 480., 471., 781., 459.,\n",
              "        55., 602., 587., 919., 441., 231., 183., 699., 661., 822., 871.,\n",
              "       805., 456., 403.,  82., 385., 767., 575., 892., 167., 643., 431.,\n",
              "       341., 428., 185., 332., 603., 303., 918., 327., 184., 815., 140.,\n",
              "       878., 937., 159., 416., 528., 491., 933., 691., 463.,  96., 809.,\n",
              "        49., 352., 620., 636., 931., 325., 571., 947., 759.,   4.,  87.,\n",
              "       134., 617., 354.,  15., 219., 540.,  97., 342.,  15.,  81.])"
            ]
          },
          "metadata": {},
          "execution_count": 7
        }
      ]
    },
    {
      "cell_type": "code",
      "execution_count": 30,
      "metadata": {
        "colab": {
          "base_uri": "https://localhost:8080/"
        },
        "id": "PeI6RolezzPy",
        "outputId": "bbff2daf-4371-4fe7-cd1e-5d262cc566ee"
      },
      "outputs": [
        {
          "output_type": "stream",
          "name": "stdout",
          "text": [
            "alpha=0.0001\tlambda=1e-15\tCost=103308.8632359552\t\tR2 Score=-1.5360476358438482\n",
            "alpha=0.0001\tlambda=1e-10\tCost=103308.86323595651\t\tR2 Score=-1.5360476358438482\n",
            "alpha=0.0001\tlambda=1e-05\tCost=103308.86346545079\t\tR2 Score=-1.5360476358508701\n",
            "alpha=0.0001\tlambda=0.001\tCost=103308.88618543476\t\tR2 Score=-1.5360476365460403\n",
            "alpha=0.0001\tlambda=0.1\tCost=103311.15818377645\t\tR2 Score=-1.5360477060630822\n",
            "alpha=0.0001\tlambda=10\tCost=103538.35548229814\t\tR2 Score=-1.5360546577488443\n",
            "alpha=0.0001\tlambda=20\tCost=103767.84260619798\t\tR2 Score=-1.5360616796165916\n",
            "\n",
            "alpha=0.001\tlambda=1e-15\tCost=39249.63432660727\t\tR2 Score=-0.030148405525942445\n",
            "alpha=0.001\tlambda=1e-10\tCost=39249.634326640866\t\tR2 Score=-0.030148405525942668\n",
            "alpha=0.001\tlambda=1e-05\tCost=39249.63771165455\t\tR2 Score=-0.030148405534194955\n",
            "alpha=0.001\tlambda=0.001\tCost=39249.97283139178\t\tR2 Score=-0.03014840635121585\n",
            "alpha=0.001\tlambda=0.1\tCost=39283.484779132115\t\tR2 Score=-0.030148488053667988\n",
            "alpha=0.001\tlambda=10\tCost=42634.41999826872\t\tR2 Score=-0.030156662260545142\n",
            "alpha=0.001\tlambda=20\tCost=46018.68131719562\t\tR2 Score=-0.03016492699813389\n",
            "\n",
            "alpha=0.01\tlambda=1e-15\tCost=133987566311.06511\t\tR2 Score=-15205022.768154576\n",
            "alpha=0.01\tlambda=1e-10\tCost=133987566311.10931\t\tR2 Score=-15205022.768154768\n",
            "alpha=0.01\tlambda=1e-05\tCost=133987570687.84743\t\tR2 Score=-15205022.786776356\n",
            "alpha=0.01\tlambda=0.001\tCost=133988003989.37016\t\tR2 Score=-15205024.630343838\n",
            "alpha=0.01\tlambda=0.1\tCost=134031334606.34448\t\tR2 Score=-15205208.988152968\n",
            "alpha=0.01\tlambda=10\tCost=138369046425.61765\t\tR2 Score=-15223655.440862717\n",
            "alpha=0.01\tlambda=20\tCost=142759931195.32675\t\tR2 Score=-15242309.69051959\n",
            "\n",
            "alpha=0.1\tlambda=1e-15\tCost=6.8537238287054545e+31\t\tR2 Score=-1.555350854569927e+30\n",
            "alpha=0.1\tlambda=1e-10\tCost=6.8537238287076775e+31\t\tR2 Score=-1.5553508545699416e+30\n",
            "alpha=0.1\tlambda=1e-05\tCost=6.85372404981229e+31\t\tR2 Score=-1.5553508558758945e+30\n",
            "alpha=0.1\tlambda=0.001\tCost=6.853745939387537e+31\t\tR2 Score=-1.5553509851668717e+30\n",
            "alpha=0.1\tlambda=0.1\tCost=6.85593491305625e+31\t\tR2 Score=-1.5553639143159743e+30\n",
            "alpha=0.1\tlambda=10\tCost=7.074993758579471e+31\t\tR2 Score=-1.5566573419552904e+30\n",
            "alpha=0.1\tlambda=20\tCost=7.2965901669455865e+31\t\tR2 Score=-1.5579648657738966e+30\n",
            "\n",
            "alpha=1\tlambda=1e-15\tCost=1.1523197374378027e+50\t\tR2 Score=-2.770426256884406e+50\n",
            "alpha=1\tlambda=1e-10\tCost=1.1523197374381591e+50\t\tR2 Score=-2.7704262568844294e+50\n",
            "alpha=1\tlambda=1e-05\tCost=1.1523197745851672e+50\t\tR2 Score=-2.770426259137334e+50\n",
            "alpha=1\tlambda=0.001\tCost=1.1523234521735924e+50\t\tR2 Score=-2.7704264821782508e+50\n",
            "alpha=1\tlambda=0.1\tCost=1.1526912136444507e+50\t\tR2 Score=-2.770448786354518e+50\n",
            "alpha=1\tlambda=10\tCost=1.1894936350927632e+50\t\tR2 Score=-2.7726800606157083e+50\n",
            "alpha=1\tlambda=20\tCost=1.226720653238097e+50\t\tR2 Score=-2.774935595926433e+50\n",
            "\n",
            "alpha=10\tlambda=1e-15\tCost=1.2127841301691925e+68\t\tR2 Score=-2.932411629025568e+70\n",
            "alpha=10\tlambda=1e-10\tCost=1.2127841301695692e+68\t\tR2 Score=-2.932411629025585e+70\n",
            "alpha=10\tlambda=1e-05\tCost=1.2127841692629332e+68\t\tR2 Score=-2.932411631402727e+70\n",
            "alpha=10\tlambda=0.001\tCost=1.2127880395444763e+68\t\tR2 Score=-2.932411866740732e+70\n",
            "alpha=10\tlambda=0.1\tCost=1.2131750704532258e+68\t\tR2 Score=-2.9324354006333295e+70\n",
            "alpha=10\tlambda=10\tCost=1.2519057251614428e+68\t\tR2 Score=-2.9347896909078404e+70\n",
            "alpha=10\tlambda=20\tCost=1.291083047528597e+68\t\tR2 Score=-2.937169574076426e+70\n",
            "\n"
          ]
        }
      ],
      "source": [
        "learning_rates=[0.0001, 0.001, 0.01, 0.1, 1, 10]\n",
        "regularization_parameters=[1e-15, 1e-10, 1e-5, 1e-3, 0.1, 10, 20]\n",
        "\n",
        "\n",
        "X_train, X_test, Y_train, Y_test = train_test_split(X, Y, test_size = 0.3, random_state = 1)\n",
        "\n",
        "# X_test.shape  -> 300, 7\n",
        "# X_train.shape -> 700, 7\n",
        "# Y_train.shape  -> 700,\n",
        "# Y_test.shape   -> 300,\n",
        "#Prepend X_test with a column of 1s\n",
        "# X_test\n",
        "no_of_rows, no_of_columns=X_test.shape\n",
        "# X_test\n",
        "X_ones=np.ones((no_of_rows, 1))\n",
        "# X_ones\n",
        "# np.stack - > Split an array into multiple sub-arrays horizontally (column-wise).\n",
        "X_test_with_ones=np.hstack((X_ones, X_test))\n",
        "# X_test_with_ones\n",
        "\n",
        "#Prepend X_train with a column of 1s\n",
        "no_of_rows, no_of_columns=X_train.shape\n",
        "X_ones=np.ones((no_of_rows, 1))\n",
        "X_train_with_ones=np.hstack((X_ones, X_train))\n",
        "\n",
        "\n",
        "\n",
        "no_of_iterations=10\n",
        "alpha=1e-5\n",
        "lamda=0\n",
        "\n",
        "for alpha in learning_rates:\n",
        "    for lamda in regularization_parameters:\n",
        "        B=[0]*(no_of_columns+1)\n",
        "        for iteration in range(0, no_of_iterations):\n",
        "            \n",
        "            new_B=[]\n",
        "            for beta_index in range(0, len(B)):\n",
        "                \n",
        "                cost=0\n",
        "                sum=0\n",
        "                for row_index in range(0, no_of_rows):\n",
        "                    \n",
        "                    BX_sum=0\n",
        "                    for i in range(0, len(B)):\n",
        "                        BX_sum=BX_sum + B[i]*X_train_with_ones[row_index][i]                            \n",
        "                    \n",
        "                    cost=cost+ pow(Y_train[row_index]-BX_sum, 2) + lamda*np.sum(np.square(B))    \n",
        "                    sum = sum + (BX_sum - Y_train[row_index]) * X_train_with_ones[row_index][beta_index]   \n",
        "                \n",
        "                cost=(1/(2*no_of_rows)) * cost\n",
        "                new_B_val = B[beta_index]*(1-alpha*lamda/no_of_rows) - (alpha/no_of_rows)*sum\n",
        "                new_B.append(new_B_val)\n",
        "\n",
        "            B=new_B\n",
        "            B\n",
        "        #Calculate Y_predicted\n",
        "        Y_predicted=np.matmul(X_test_with_ones, B)\n",
        "        print(f\"alpha={alpha}\\tlambda={lamda}\\tCost={cost}\\t\\tR2 Score={r2_score(Y_test, Y_predicted)}\")\n",
        "    print(\"\")\n"
      ]
    },
    {
      "cell_type": "code",
      "source": [
        "B"
      ],
      "metadata": {
        "colab": {
          "base_uri": "https://localhost:8080/"
        },
        "id": "-HWIA15y6NRS",
        "outputId": "74db0c8b-53c1-4a27-e700-2a0fe5c6c260"
      },
      "execution_count": 28,
      "outputs": [
        {
          "output_type": "execute_result",
          "data": {
            "text/plain": [
              "[-1.5551950491785537e+35,\n",
              " -1.5558734920060065e+36,\n",
              " -9.363985158867144e+35,\n",
              " -6.300645291189052e+35,\n",
              " -1.2416747596212372e+36,\n",
              " -6.198583854385638e+35,\n",
              " -3.055672982174149e+35,\n",
              " -1.402244142453959e+36]"
            ]
          },
          "metadata": {},
          "execution_count": 28
        }
      ]
    },
    {
      "cell_type": "code",
      "source": [
        "X_test"
      ],
      "metadata": {
        "colab": {
          "base_uri": "https://localhost:8080/"
        },
        "id": "bbVF8uQ921VI",
        "outputId": "daa06f68-f99b-495d-fe64-7210f1ea5f3c"
      },
      "execution_count": 24,
      "outputs": [
        {
          "output_type": "execute_result",
          "data": {
            "text/plain": [
              "array([[ 8.77540678,  7.96784833,  2.52988277, ...,  3.03109358,\n",
              "         2.31532717,  8.2770502 ],\n",
              "       [11.19428629,  6.6522285 ,  5.09999916, ...,  4.26734667,\n",
              "         1.56682265,  9.16014272],\n",
              "       [ 8.8143312 ,  6.37879623,  3.19183557, ...,  3.51493507,\n",
              "         2.44335825,  9.66766797],\n",
              "       ...,\n",
              "       [10.66289143,  5.98340086,  5.20464003, ...,  4.75980806,\n",
              "         1.88287766,  9.61400562],\n",
              "       [ 9.69998591,  3.87946301,  4.049897  , ...,  4.37817254,\n",
              "         2.58452714, 10.48161762],\n",
              "       [ 9.23978535,  7.64635575,  3.15818293, ...,  2.8954742 ,\n",
              "         1.89800848,  7.80179874]])"
            ]
          },
          "metadata": {},
          "execution_count": 24
        }
      ]
    },
    {
      "cell_type": "markdown",
      "metadata": {
        "id": "jtlfwwEuzzP_"
      },
      "source": [
        "### The best parameters are alpha=0.001 and lambda=1e-15"
      ]
    },
    {
      "cell_type": "markdown",
      "metadata": {
        "id": "zFEAXtDMzzQB"
      },
      "source": [
        "# Question 2"
      ]
    },
    {
      "cell_type": "code",
      "execution_count": 39,
      "metadata": {
        "id": "kd_duUY8zzQC"
      },
      "outputs": [],
      "source": [
        "import pandas as pd\n",
        "import matplotlib.pyplot as plt\n",
        "from scipy import stats\n",
        "import numpy as np\n",
        "from sklearn.linear_model import Ridge, Lasso\n",
        "from sklearn.model_selection import train_test_split\n",
        "from sklearn.preprocessing import StandardScaler"
      ]
    },
    {
      "cell_type": "code",
      "execution_count": 34,
      "metadata": {
        "colab": {
          "base_uri": "https://localhost:8080/",
          "height": 488
        },
        "id": "KVfaBKC9zzQM",
        "outputId": "073b13a1-d6f0-440d-816e-b9d24cad155c"
      },
      "outputs": [
        {
          "output_type": "execute_result",
          "data": {
            "text/plain": [
              "     AtBat  Hits  HmRun  Runs  RBI  Walks  Years  CAtBat  CHits  CHmRun  \\\n",
              "0      293    66      1    30   29     14      1     293     66       1   \n",
              "1      315    81      7    24   38     39     14    3449    835      69   \n",
              "2      479   130     18    66   72     76      3    1624    457      63   \n",
              "3      496   141     20    65   78     37     11    5628   1575     225   \n",
              "4      321    87     10    39   42     30      2     396    101      12   \n",
              "..     ...   ...    ...   ...  ...    ...    ...     ...    ...     ...   \n",
              "317    497   127      7    65   48     37      5    2703    806      32   \n",
              "318    492   136      5    76   50     94     12    5511   1511      39   \n",
              "319    475   126      3    61   43     52      6    1700    433       7   \n",
              "320    573   144      9    85   60     78      8    3198    857      97   \n",
              "321    631   170      9    77   44     31     11    4908   1457      30   \n",
              "\n",
              "     CRuns  CRBI  CWalks League Division  PutOuts  Assists  Errors  Salary  \\\n",
              "0       30    29      14      A        E      446       33      20     NaN   \n",
              "1      321   414     375      N        W      632       43      10   475.0   \n",
              "2      224   266     263      A        W      880       82      14   480.0   \n",
              "3      828   838     354      N        E      200       11       3   500.0   \n",
              "4       48    46      33      N        E      805       40       4    91.5   \n",
              "..     ...   ...     ...    ...      ...      ...      ...     ...     ...   \n",
              "317    379   311     138      N        E      325        9       3   700.0   \n",
              "318    897   451     875      A        E      313      381      20   875.0   \n",
              "319    217    93     146      A        W       37      113       7   385.0   \n",
              "320    470   420     332      A        E     1314      131      12   960.0   \n",
              "321    775   357     249      A        W      408        4       3  1000.0   \n",
              "\n",
              "    NewLeague  \n",
              "0           A  \n",
              "1           N  \n",
              "2           A  \n",
              "3           N  \n",
              "4           N  \n",
              "..        ...  \n",
              "317         N  \n",
              "318         A  \n",
              "319         A  \n",
              "320         A  \n",
              "321         A  \n",
              "\n",
              "[322 rows x 20 columns]"
            ],
            "text/html": [
              "\n",
              "  <div id=\"df-a1143de9-d411-4d64-b67d-24639ef12d52\">\n",
              "    <div class=\"colab-df-container\">\n",
              "      <div>\n",
              "<style scoped>\n",
              "    .dataframe tbody tr th:only-of-type {\n",
              "        vertical-align: middle;\n",
              "    }\n",
              "\n",
              "    .dataframe tbody tr th {\n",
              "        vertical-align: top;\n",
              "    }\n",
              "\n",
              "    .dataframe thead th {\n",
              "        text-align: right;\n",
              "    }\n",
              "</style>\n",
              "<table border=\"1\" class=\"dataframe\">\n",
              "  <thead>\n",
              "    <tr style=\"text-align: right;\">\n",
              "      <th></th>\n",
              "      <th>AtBat</th>\n",
              "      <th>Hits</th>\n",
              "      <th>HmRun</th>\n",
              "      <th>Runs</th>\n",
              "      <th>RBI</th>\n",
              "      <th>Walks</th>\n",
              "      <th>Years</th>\n",
              "      <th>CAtBat</th>\n",
              "      <th>CHits</th>\n",
              "      <th>CHmRun</th>\n",
              "      <th>CRuns</th>\n",
              "      <th>CRBI</th>\n",
              "      <th>CWalks</th>\n",
              "      <th>League</th>\n",
              "      <th>Division</th>\n",
              "      <th>PutOuts</th>\n",
              "      <th>Assists</th>\n",
              "      <th>Errors</th>\n",
              "      <th>Salary</th>\n",
              "      <th>NewLeague</th>\n",
              "    </tr>\n",
              "  </thead>\n",
              "  <tbody>\n",
              "    <tr>\n",
              "      <th>0</th>\n",
              "      <td>293</td>\n",
              "      <td>66</td>\n",
              "      <td>1</td>\n",
              "      <td>30</td>\n",
              "      <td>29</td>\n",
              "      <td>14</td>\n",
              "      <td>1</td>\n",
              "      <td>293</td>\n",
              "      <td>66</td>\n",
              "      <td>1</td>\n",
              "      <td>30</td>\n",
              "      <td>29</td>\n",
              "      <td>14</td>\n",
              "      <td>A</td>\n",
              "      <td>E</td>\n",
              "      <td>446</td>\n",
              "      <td>33</td>\n",
              "      <td>20</td>\n",
              "      <td>NaN</td>\n",
              "      <td>A</td>\n",
              "    </tr>\n",
              "    <tr>\n",
              "      <th>1</th>\n",
              "      <td>315</td>\n",
              "      <td>81</td>\n",
              "      <td>7</td>\n",
              "      <td>24</td>\n",
              "      <td>38</td>\n",
              "      <td>39</td>\n",
              "      <td>14</td>\n",
              "      <td>3449</td>\n",
              "      <td>835</td>\n",
              "      <td>69</td>\n",
              "      <td>321</td>\n",
              "      <td>414</td>\n",
              "      <td>375</td>\n",
              "      <td>N</td>\n",
              "      <td>W</td>\n",
              "      <td>632</td>\n",
              "      <td>43</td>\n",
              "      <td>10</td>\n",
              "      <td>475.0</td>\n",
              "      <td>N</td>\n",
              "    </tr>\n",
              "    <tr>\n",
              "      <th>2</th>\n",
              "      <td>479</td>\n",
              "      <td>130</td>\n",
              "      <td>18</td>\n",
              "      <td>66</td>\n",
              "      <td>72</td>\n",
              "      <td>76</td>\n",
              "      <td>3</td>\n",
              "      <td>1624</td>\n",
              "      <td>457</td>\n",
              "      <td>63</td>\n",
              "      <td>224</td>\n",
              "      <td>266</td>\n",
              "      <td>263</td>\n",
              "      <td>A</td>\n",
              "      <td>W</td>\n",
              "      <td>880</td>\n",
              "      <td>82</td>\n",
              "      <td>14</td>\n",
              "      <td>480.0</td>\n",
              "      <td>A</td>\n",
              "    </tr>\n",
              "    <tr>\n",
              "      <th>3</th>\n",
              "      <td>496</td>\n",
              "      <td>141</td>\n",
              "      <td>20</td>\n",
              "      <td>65</td>\n",
              "      <td>78</td>\n",
              "      <td>37</td>\n",
              "      <td>11</td>\n",
              "      <td>5628</td>\n",
              "      <td>1575</td>\n",
              "      <td>225</td>\n",
              "      <td>828</td>\n",
              "      <td>838</td>\n",
              "      <td>354</td>\n",
              "      <td>N</td>\n",
              "      <td>E</td>\n",
              "      <td>200</td>\n",
              "      <td>11</td>\n",
              "      <td>3</td>\n",
              "      <td>500.0</td>\n",
              "      <td>N</td>\n",
              "    </tr>\n",
              "    <tr>\n",
              "      <th>4</th>\n",
              "      <td>321</td>\n",
              "      <td>87</td>\n",
              "      <td>10</td>\n",
              "      <td>39</td>\n",
              "      <td>42</td>\n",
              "      <td>30</td>\n",
              "      <td>2</td>\n",
              "      <td>396</td>\n",
              "      <td>101</td>\n",
              "      <td>12</td>\n",
              "      <td>48</td>\n",
              "      <td>46</td>\n",
              "      <td>33</td>\n",
              "      <td>N</td>\n",
              "      <td>E</td>\n",
              "      <td>805</td>\n",
              "      <td>40</td>\n",
              "      <td>4</td>\n",
              "      <td>91.5</td>\n",
              "      <td>N</td>\n",
              "    </tr>\n",
              "    <tr>\n",
              "      <th>...</th>\n",
              "      <td>...</td>\n",
              "      <td>...</td>\n",
              "      <td>...</td>\n",
              "      <td>...</td>\n",
              "      <td>...</td>\n",
              "      <td>...</td>\n",
              "      <td>...</td>\n",
              "      <td>...</td>\n",
              "      <td>...</td>\n",
              "      <td>...</td>\n",
              "      <td>...</td>\n",
              "      <td>...</td>\n",
              "      <td>...</td>\n",
              "      <td>...</td>\n",
              "      <td>...</td>\n",
              "      <td>...</td>\n",
              "      <td>...</td>\n",
              "      <td>...</td>\n",
              "      <td>...</td>\n",
              "      <td>...</td>\n",
              "    </tr>\n",
              "    <tr>\n",
              "      <th>317</th>\n",
              "      <td>497</td>\n",
              "      <td>127</td>\n",
              "      <td>7</td>\n",
              "      <td>65</td>\n",
              "      <td>48</td>\n",
              "      <td>37</td>\n",
              "      <td>5</td>\n",
              "      <td>2703</td>\n",
              "      <td>806</td>\n",
              "      <td>32</td>\n",
              "      <td>379</td>\n",
              "      <td>311</td>\n",
              "      <td>138</td>\n",
              "      <td>N</td>\n",
              "      <td>E</td>\n",
              "      <td>325</td>\n",
              "      <td>9</td>\n",
              "      <td>3</td>\n",
              "      <td>700.0</td>\n",
              "      <td>N</td>\n",
              "    </tr>\n",
              "    <tr>\n",
              "      <th>318</th>\n",
              "      <td>492</td>\n",
              "      <td>136</td>\n",
              "      <td>5</td>\n",
              "      <td>76</td>\n",
              "      <td>50</td>\n",
              "      <td>94</td>\n",
              "      <td>12</td>\n",
              "      <td>5511</td>\n",
              "      <td>1511</td>\n",
              "      <td>39</td>\n",
              "      <td>897</td>\n",
              "      <td>451</td>\n",
              "      <td>875</td>\n",
              "      <td>A</td>\n",
              "      <td>E</td>\n",
              "      <td>313</td>\n",
              "      <td>381</td>\n",
              "      <td>20</td>\n",
              "      <td>875.0</td>\n",
              "      <td>A</td>\n",
              "    </tr>\n",
              "    <tr>\n",
              "      <th>319</th>\n",
              "      <td>475</td>\n",
              "      <td>126</td>\n",
              "      <td>3</td>\n",
              "      <td>61</td>\n",
              "      <td>43</td>\n",
              "      <td>52</td>\n",
              "      <td>6</td>\n",
              "      <td>1700</td>\n",
              "      <td>433</td>\n",
              "      <td>7</td>\n",
              "      <td>217</td>\n",
              "      <td>93</td>\n",
              "      <td>146</td>\n",
              "      <td>A</td>\n",
              "      <td>W</td>\n",
              "      <td>37</td>\n",
              "      <td>113</td>\n",
              "      <td>7</td>\n",
              "      <td>385.0</td>\n",
              "      <td>A</td>\n",
              "    </tr>\n",
              "    <tr>\n",
              "      <th>320</th>\n",
              "      <td>573</td>\n",
              "      <td>144</td>\n",
              "      <td>9</td>\n",
              "      <td>85</td>\n",
              "      <td>60</td>\n",
              "      <td>78</td>\n",
              "      <td>8</td>\n",
              "      <td>3198</td>\n",
              "      <td>857</td>\n",
              "      <td>97</td>\n",
              "      <td>470</td>\n",
              "      <td>420</td>\n",
              "      <td>332</td>\n",
              "      <td>A</td>\n",
              "      <td>E</td>\n",
              "      <td>1314</td>\n",
              "      <td>131</td>\n",
              "      <td>12</td>\n",
              "      <td>960.0</td>\n",
              "      <td>A</td>\n",
              "    </tr>\n",
              "    <tr>\n",
              "      <th>321</th>\n",
              "      <td>631</td>\n",
              "      <td>170</td>\n",
              "      <td>9</td>\n",
              "      <td>77</td>\n",
              "      <td>44</td>\n",
              "      <td>31</td>\n",
              "      <td>11</td>\n",
              "      <td>4908</td>\n",
              "      <td>1457</td>\n",
              "      <td>30</td>\n",
              "      <td>775</td>\n",
              "      <td>357</td>\n",
              "      <td>249</td>\n",
              "      <td>A</td>\n",
              "      <td>W</td>\n",
              "      <td>408</td>\n",
              "      <td>4</td>\n",
              "      <td>3</td>\n",
              "      <td>1000.0</td>\n",
              "      <td>A</td>\n",
              "    </tr>\n",
              "  </tbody>\n",
              "</table>\n",
              "<p>322 rows × 20 columns</p>\n",
              "</div>\n",
              "      <button class=\"colab-df-convert\" onclick=\"convertToInteractive('df-a1143de9-d411-4d64-b67d-24639ef12d52')\"\n",
              "              title=\"Convert this dataframe to an interactive table.\"\n",
              "              style=\"display:none;\">\n",
              "        \n",
              "  <svg xmlns=\"http://www.w3.org/2000/svg\" height=\"24px\"viewBox=\"0 0 24 24\"\n",
              "       width=\"24px\">\n",
              "    <path d=\"M0 0h24v24H0V0z\" fill=\"none\"/>\n",
              "    <path d=\"M18.56 5.44l.94 2.06.94-2.06 2.06-.94-2.06-.94-.94-2.06-.94 2.06-2.06.94zm-11 1L8.5 8.5l.94-2.06 2.06-.94-2.06-.94L8.5 2.5l-.94 2.06-2.06.94zm10 10l.94 2.06.94-2.06 2.06-.94-2.06-.94-.94-2.06-.94 2.06-2.06.94z\"/><path d=\"M17.41 7.96l-1.37-1.37c-.4-.4-.92-.59-1.43-.59-.52 0-1.04.2-1.43.59L10.3 9.45l-7.72 7.72c-.78.78-.78 2.05 0 2.83L4 21.41c.39.39.9.59 1.41.59.51 0 1.02-.2 1.41-.59l7.78-7.78 2.81-2.81c.8-.78.8-2.07 0-2.86zM5.41 20L4 18.59l7.72-7.72 1.47 1.35L5.41 20z\"/>\n",
              "  </svg>\n",
              "      </button>\n",
              "      \n",
              "  <style>\n",
              "    .colab-df-container {\n",
              "      display:flex;\n",
              "      flex-wrap:wrap;\n",
              "      gap: 12px;\n",
              "    }\n",
              "\n",
              "    .colab-df-convert {\n",
              "      background-color: #E8F0FE;\n",
              "      border: none;\n",
              "      border-radius: 50%;\n",
              "      cursor: pointer;\n",
              "      display: none;\n",
              "      fill: #1967D2;\n",
              "      height: 32px;\n",
              "      padding: 0 0 0 0;\n",
              "      width: 32px;\n",
              "    }\n",
              "\n",
              "    .colab-df-convert:hover {\n",
              "      background-color: #E2EBFA;\n",
              "      box-shadow: 0px 1px 2px rgba(60, 64, 67, 0.3), 0px 1px 3px 1px rgba(60, 64, 67, 0.15);\n",
              "      fill: #174EA6;\n",
              "    }\n",
              "\n",
              "    [theme=dark] .colab-df-convert {\n",
              "      background-color: #3B4455;\n",
              "      fill: #D2E3FC;\n",
              "    }\n",
              "\n",
              "    [theme=dark] .colab-df-convert:hover {\n",
              "      background-color: #434B5C;\n",
              "      box-shadow: 0px 1px 3px 1px rgba(0, 0, 0, 0.15);\n",
              "      filter: drop-shadow(0px 1px 2px rgba(0, 0, 0, 0.3));\n",
              "      fill: #FFFFFF;\n",
              "    }\n",
              "  </style>\n",
              "\n",
              "      <script>\n",
              "        const buttonEl =\n",
              "          document.querySelector('#df-a1143de9-d411-4d64-b67d-24639ef12d52 button.colab-df-convert');\n",
              "        buttonEl.style.display =\n",
              "          google.colab.kernel.accessAllowed ? 'block' : 'none';\n",
              "\n",
              "        async function convertToInteractive(key) {\n",
              "          const element = document.querySelector('#df-a1143de9-d411-4d64-b67d-24639ef12d52');\n",
              "          const dataTable =\n",
              "            await google.colab.kernel.invokeFunction('convertToInteractive',\n",
              "                                                     [key], {});\n",
              "          if (!dataTable) return;\n",
              "\n",
              "          const docLinkHtml = 'Like what you see? Visit the ' +\n",
              "            '<a target=\"_blank\" href=https://colab.research.google.com/notebooks/data_table.ipynb>data table notebook</a>'\n",
              "            + ' to learn more about interactive tables.';\n",
              "          element.innerHTML = '';\n",
              "          dataTable['output_type'] = 'display_data';\n",
              "          await google.colab.output.renderOutput(dataTable, element);\n",
              "          const docLink = document.createElement('div');\n",
              "          docLink.innerHTML = docLinkHtml;\n",
              "          element.appendChild(docLink);\n",
              "        }\n",
              "      </script>\n",
              "    </div>\n",
              "  </div>\n",
              "  "
            ]
          },
          "metadata": {},
          "execution_count": 34
        }
      ],
      "source": [
        "df=pd.read_csv('/content/Hitters (1).csv')\n",
        "df"
      ]
    },
    {
      "cell_type": "markdown",
      "metadata": {
        "id": "9gnrDmq6zzQP"
      },
      "source": [
        "## (a) Data Preprocessing"
      ]
    },
    {
      "cell_type": "markdown",
      "metadata": {
        "id": "A20BDTUDzzQQ"
      },
      "source": [
        "### Null values"
      ]
    },
    {
      "cell_type": "code",
      "source": [
        "import missingno as msn"
      ],
      "metadata": {
        "id": "hzUlygkU9kwt"
      },
      "execution_count": 43,
      "outputs": []
    },
    {
      "cell_type": "code",
      "source": [
        "msn.bar(df)"
      ],
      "metadata": {
        "colab": {
          "base_uri": "https://localhost:8080/",
          "height": 567
        },
        "id": "EBxSfFDd9VpR",
        "outputId": "f237da30-a5b3-4ddf-f443-3b1d31dfc7ff"
      },
      "execution_count": 44,
      "outputs": [
        {
          "output_type": "execute_result",
          "data": {
            "text/plain": [
              "<matplotlib.axes._subplots.AxesSubplot at 0x7f145e29cc50>"
            ]
          },
          "metadata": {},
          "execution_count": 44
        },
        {
          "output_type": "display_data",
          "data": {
            "text/plain": [
              "<Figure size 1800x720 with 3 Axes>"
            ],
            "image/png": "[encoded data removed]"
          },
          "metadata": {
            "needs_background": "light"
          }
        }
      ]
    },
    {
      "cell_type": "code",
      "source": [
        "for feature in df.columns:\n",
        "  if  df[feature].isnull().sum()>0:\n",
        "    df.fillna(df[feature].mean(),inplace=True) # replacce it with mean "
      ],
      "metadata": {
        "id": "3zqKHkDs9x-w"
      },
      "execution_count": 45,
      "outputs": []
    },
    {
      "cell_type": "code",
      "source": [
        "print(df.NewLeague.unique())\n",
        "print(df.League.unique())\n",
        "print(df.Division.unique())"
      ],
      "metadata": {
        "colab": {
          "base_uri": "https://localhost:8080/"
        },
        "id": "X2X79WRx98ZN",
        "outputId": "b669f152-1666-47e9-9b7d-cca59fcda119"
      },
      "execution_count": 47,
      "outputs": [
        {
          "output_type": "stream",
          "name": "stdout",
          "text": [
            "['A' 'N']\n",
            "['A' 'N']\n",
            "['E' 'W']\n"
          ]
        }
      ]
    },
    {
      "cell_type": "code",
      "source": [],
      "metadata": {
        "id": "r8jm_cZI-KJQ"
      },
      "execution_count": 47,
      "outputs": []
    },
    {
      "cell_type": "code",
      "source": [
        "for feature in df.columns:\n",
        "  if df[feature].dtype == object:\n",
        "    print(feature)"
      ],
      "metadata": {
        "colab": {
          "base_uri": "https://localhost:8080/"
        },
        "id": "HJOz3Jdv-Jn9",
        "outputId": "67178264-5918-4162-acbd-6cb2cc707f3e"
      },
      "execution_count": 48,
      "outputs": [
        {
          "output_type": "stream",
          "name": "stdout",
          "text": [
            "League\n",
            "Division\n",
            "NewLeague\n"
          ]
        }
      ]
    },
    {
      "cell_type": "code",
      "source": [
        "# A = 1, N = 0 \n",
        "# E = 1, W = 0\n",
        "df['League'].replace('A',1,inplace=True)\n",
        "df['League'].replace('N',0,inplace=True)\n",
        "df['NewLeague'].replace('A',1,inplace=True)\n",
        "df['NewLeague'].replace('N',0,inplace=True)\n",
        "df['Division'].replace('E',1,inplace=True)\n",
        "df['Division'].replace('W',0,inplace=True)"
      ],
      "metadata": {
        "id": "mrBzDOj3-Y77"
      },
      "execution_count": 50,
      "outputs": []
    },
    {
      "cell_type": "code",
      "source": [
        "df.info()"
      ],
      "metadata": {
        "colab": {
          "base_uri": "https://localhost:8080/"
        },
        "id": "T4fx2cvC-d6d",
        "outputId": "b3f79c4c-d015-4305-c425-b9583c24ffac"
      },
      "execution_count": 52,
      "outputs": [
        {
          "output_type": "stream",
          "name": "stdout",
          "text": [
            "<class 'pandas.core.frame.DataFrame'>\n",
            "RangeIndex: 322 entries, 0 to 321\n",
            "Data columns (total 20 columns):\n",
            " #   Column     Non-Null Count  Dtype  \n",
            "---  ------     --------------  -----  \n",
            " 0   AtBat      322 non-null    int64  \n",
            " 1   Hits       322 non-null    int64  \n",
            " 2   HmRun      322 non-null    int64  \n",
            " 3   Runs       322 non-null    int64  \n",
            " 4   RBI        322 non-null    int64  \n",
            " 5   Walks      322 non-null    int64  \n",
            " 6   Years      322 non-null    int64  \n",
            " 7   CAtBat     322 non-null    int64  \n",
            " 8   CHits      322 non-null    int64  \n",
            " 9   CHmRun     322 non-null    int64  \n",
            " 10  CRuns      322 non-null    int64  \n",
            " 11  CRBI       322 non-null    int64  \n",
            " 12  CWalks     322 non-null    int64  \n",
            " 13  League     322 non-null    int64  \n",
            " 14  Division   322 non-null    int64  \n",
            " 15  PutOuts    322 non-null    int64  \n",
            " 16  Assists    322 non-null    int64  \n",
            " 17  Errors     322 non-null    int64  \n",
            " 18  Salary     322 non-null    float64\n",
            " 19  NewLeague  322 non-null    int64  \n",
            "dtypes: float64(1), int64(19)\n",
            "memory usage: 50.4 KB\n"
          ]
        }
      ]
    },
    {
      "cell_type": "markdown",
      "metadata": {
        "id": "wkwozniVzzQx"
      },
      "source": [
        "## (b) Separate X & Y and Perform Scaling"
      ]
    },
    {
      "cell_type": "code",
      "source": [
        "X = df.iloc[:,:-1]\n",
        "Y = df.iloc[:,-1]"
      ],
      "metadata": {
        "id": "hMy5zfsA_eJt"
      },
      "execution_count": 54,
      "outputs": []
    },
    {
      "cell_type": "code",
      "source": [
        "from sklearn.model_selection import train_test_split\n",
        "X_train,X_test,Y_train,Y_test = train_test_split(X,Y,random_state=42,test_size=0.25)"
      ],
      "metadata": {
        "id": "q7ObNczD_i8g"
      },
      "execution_count": 55,
      "outputs": []
    },
    {
      "cell_type": "code",
      "source": [
        "from sklearn.preprocessing import StandardScaler\n",
        "ss = StandardScaler()\n",
        "X_train_scaled = ss.fit_transform(X_train)\n",
        "X_test_scaled = ss.transform(X_test)"
      ],
      "metadata": {
        "id": "kolO4w5Y_nbR"
      },
      "execution_count": 56,
      "outputs": []
    },
    {
      "cell_type": "code",
      "source": [
        "# Appening a column of 1 to consider beta[0][0]\n",
        "X_train_inserting = np.insert(X_train_scaled,0,1,axis=1)\n",
        "X_test_inserting = np.insert(X_test_scaled,0,1,axis=1)"
      ],
      "metadata": {
        "id": "s_IUsLqK_q5S"
      },
      "execution_count": 57,
      "outputs": []
    },
    {
      "cell_type": "code",
      "source": [
        "X_train_scaled"
      ],
      "metadata": {
        "colab": {
          "base_uri": "https://localhost:8080/"
        },
        "id": "PPrt6UclAFM-",
        "outputId": "fa2a2058-1783-4349-e1ce-525518579c0a"
      },
      "execution_count": 59,
      "outputs": [
        {
          "output_type": "execute_result",
          "data": {
            "text/plain": [
              "array([[-0.39752209, -0.56485126, -0.67097354, ..., -0.65436448,\n",
              "        -0.77786898, -1.0395114 ],\n",
              "       [ 0.78043454,  0.79170311, -0.43729634, ...,  1.8317234 ,\n",
              "         0.31568516,  0.81893145],\n",
              "       [ 1.29174538,  1.45921399, -0.32045774, ..., -0.67682913,\n",
              "         0.00324112, -0.78837047],\n",
              "       ...,\n",
              "       [ 0.28206827, -0.09113386,  1.43212127, ..., -0.69180556,\n",
              "        -0.1529809 ,  0.0301628 ],\n",
              "       [-0.47518956, -0.32799256, -0.78781214, ..., -0.72924664,\n",
              "        -0.77786898,  0.0301628 ],\n",
              "       [-0.9282498 , -1.08163388, -1.02148934, ...,  0.22175685,\n",
              "         0.31568516, -0.37398795]])"
            ]
          },
          "metadata": {},
          "execution_count": 59
        }
      ]
    },
    {
      "cell_type": "markdown",
      "source": [
        "c)Fit a Linear, Ridge (use regularization parameter as 0.5748), and LASSO (use regularization parameter as 0.5748) regression function on the dataset. (d) Evaluate the performance of each trained model on test set. Which model performs the best and Why?"
      ],
      "metadata": {
        "id": "GxSkrtKd_w_Z"
      }
    },
    {
      "cell_type": "code",
      "source": [
        "def r2Score(Y_pred,Y_test=Y_test):\n",
        "  error = Y_pred - Y_test\n",
        "  sse = np.sum(error**2)\n",
        "  # getting the total variance of the model\n",
        "  sst = np.sum((Y_test - np.mean(Y_test))**2)\n",
        "  # r2score = 1- (SSE)/(SST)  1 - unexplained/total\n",
        "  r2score = 1- ((sse)/(sst))\n",
        "  return r2score*100"
      ],
      "metadata": {
        "id": "Th0OZUV-ALdG"
      },
      "execution_count": 60,
      "outputs": []
    },
    {
      "cell_type": "code",
      "source": [
        "## LINEAR\n",
        "A = X_train_inserting.T.dot(X_train_inserting)\n",
        "B = np.linalg.inv(A)\n",
        "C = B.dot(X_train_inserting.T)\n",
        "beta_linear = C.dot(Y_train)"
      ],
      "metadata": {
        "id": "8T81qzH3AZ60"
      },
      "execution_count": 61,
      "outputs": []
    },
    {
      "cell_type": "code",
      "source": [
        "Y_pred_linear = X_test_inserting.dot(beta_linear)"
      ],
      "metadata": {
        "id": "dKxf-AS0Ab9Z"
      },
      "execution_count": 62,
      "outputs": []
    },
    {
      "cell_type": "code",
      "source": [
        "r2Score(Y_pred_linear)"
      ],
      "metadata": {
        "colab": {
          "base_uri": "https://localhost:8080/"
        },
        "id": "C-1o-ltlAeZu",
        "outputId": "442bbaa5-4e6c-4dc1-f3a2-b00bd73579ac"
      },
      "execution_count": 63,
      "outputs": [
        {
          "output_type": "execute_result",
          "data": {
            "text/plain": [
              "72.88508942850825"
            ]
          },
          "metadata": {},
          "execution_count": 63
        }
      ]
    },
    {
      "cell_type": "code",
      "source": [
        "## RIDGE\n",
        "lamda = 0.5784\n",
        "A = X_train_inserting.T.dot(X_train_inserting)\n",
        "I = np.identity(A.shape[0])\n",
        "B = np.linalg.inv(np.add(A,lamda*I))\n",
        "C = B.dot(X_train_inserting.T)\n",
        "beta_ridge = C.dot(Y_train)"
      ],
      "metadata": {
        "id": "4As8UchQAiL7"
      },
      "execution_count": 64,
      "outputs": []
    },
    {
      "cell_type": "code",
      "source": [
        "Y_pred_ridge = X_test_inserting.dot(beta_ridge)"
      ],
      "metadata": {
        "id": "-dx6WNYpAkyc"
      },
      "execution_count": 68,
      "outputs": []
    },
    {
      "cell_type": "code",
      "source": [
        "r2Score(Y_pred_ridge)"
      ],
      "metadata": {
        "colab": {
          "base_uri": "https://localhost:8080/"
        },
        "id": "V5phFhrFAm0O",
        "outputId": "637e608e-59f3-496b-dbd9-e2175df1da03"
      },
      "execution_count": 66,
      "outputs": [
        {
          "output_type": "execute_result",
          "data": {
            "text/plain": [
              "72.74283125003879"
            ]
          },
          "metadata": {},
          "execution_count": 66
        }
      ]
    },
    {
      "cell_type": "code",
      "source": [
        "## LASSO\n",
        "from sklearn.linear_model import LassoCV\n",
        "lasso = LassoCV(alphas=[0.5748]).fit(X_train_inserting, Y_train)\n",
        "lasso.score(X_test_inserting, Y_test)"
      ],
      "metadata": {
        "colab": {
          "base_uri": "https://localhost:8080/"
        },
        "id": "I2iVuP1KAp7f",
        "outputId": "7c34d217-f998-4ff3-f1a7-36cc40213507"
      },
      "execution_count": 67,
      "outputs": [
        {
          "output_type": "execute_result",
          "data": {
            "text/plain": [
              "-0.008305736934343333"
            ]
          },
          "metadata": {},
          "execution_count": 67
        }
      ]
    },
    {
      "cell_type": "markdown",
      "metadata": {
        "id": "Kz-ysgd6zzQ2"
      },
      "source": [
        "### Ridge performs slightly better"
      ]
    },
    {
      "cell_type": "code",
      "source": [
        "from sklearn.datasets import load_boston\n",
        "X,Y = load_boston(return_X_y=True)\n",
        "X\n",
        "Y"
      ],
      "metadata": {
        "colab": {
          "base_uri": "https://localhost:8080/"
        },
        "id": "y8GvyJmlB6xY",
        "outputId": "5238f291-5e3b-4bfa-f99c-d0f3312c29dc"
      },
      "execution_count": 70,
      "outputs": [
        {
          "output_type": "stream",
          "name": "stderr",
          "text": [
            "/usr/local/lib/python3.7/dist-packages/sklearn/utils/deprecation.py:87: FutureWarning: Function load_boston is deprecated; `load_boston` is deprecated in 1.0 and will be removed in 1.2.\n",
            "\n",
            "    The Boston housing prices dataset has an ethical problem. You can refer to\n",
            "    the documentation of this function for further details.\n",
            "\n",
            "    The scikit-learn maintainers therefore strongly discourage the use of this\n",
            "    dataset unless the purpose of the code is to study and educate about\n",
            "    ethical issues in data science and machine learning.\n",
            "\n",
            "    In this special case, you can fetch the dataset from the original\n",
            "    source::\n",
            "\n",
            "        import pandas as pd\n",
            "        import numpy as np\n",
            "\n",
            "\n",
            "        data_url = \"http://lib.stat.cmu.edu/datasets/boston\"\n",
            "        raw_df = pd.read_csv(data_url, sep=\"\\s+\", skiprows=22, header=None)\n",
            "        data = np.hstack([raw_df.values[::2, :], raw_df.values[1::2, :2]])\n",
            "        target = raw_df.values[1::2, 2]\n",
            "\n",
            "    Alternative datasets include the California housing dataset (i.e.\n",
            "    :func:`~sklearn.datasets.fetch_california_housing`) and the Ames housing\n",
            "    dataset. You can load the datasets as follows::\n",
            "\n",
            "        from sklearn.datasets import fetch_california_housing\n",
            "        housing = fetch_california_housing()\n",
            "\n",
            "    for the California housing dataset and::\n",
            "\n",
            "        from sklearn.datasets import fetch_openml\n",
            "        housing = fetch_openml(name=\"house_prices\", as_frame=True)\n",
            "\n",
            "    for the Ames housing dataset.\n",
            "    \n",
            "  warnings.warn(msg, category=FutureWarning)\n"
          ]
        },
        {
          "output_type": "execute_result",
          "data": {
            "text/plain": [
              "array([24. , 21.6, 34.7, 33.4, 36.2, 28.7, 22.9, 27.1, 16.5, 18.9, 15. ,\n",
              "       18.9, 21.7, 20.4, 18.2, 19.9, 23.1, 17.5, 20.2, 18.2, 13.6, 19.6,\n",
              "       15.2, 14.5, 15.6, 13.9, 16.6, 14.8, 18.4, 21. , 12.7, 14.5, 13.2,\n",
              "       13.1, 13.5, 18.9, 20. , 21. , 24.7, 30.8, 34.9, 26.6, 25.3, 24.7,\n",
              "       21.2, 19.3, 20. , 16.6, 14.4, 19.4, 19.7, 20.5, 25. , 23.4, 18.9,\n",
              "       35.4, 24.7, 31.6, 23.3, 19.6, 18.7, 16. , 22.2, 25. , 33. , 23.5,\n",
              "       19.4, 22. , 17.4, 20.9, 24.2, 21.7, 22.8, 23.4, 24.1, 21.4, 20. ,\n",
              "       20.8, 21.2, 20.3, 28. , 23.9, 24.8, 22.9, 23.9, 26.6, 22.5, 22.2,\n",
              "       23.6, 28.7, 22.6, 22. , 22.9, 25. , 20.6, 28.4, 21.4, 38.7, 43.8,\n",
              "       33.2, 27.5, 26.5, 18.6, 19.3, 20.1, 19.5, 19.5, 20.4, 19.8, 19.4,\n",
              "       21.7, 22.8, 18.8, 18.7, 18.5, 18.3, 21.2, 19.2, 20.4, 19.3, 22. ,\n",
              "       20.3, 20.5, 17.3, 18.8, 21.4, 15.7, 16.2, 18. , 14.3, 19.2, 19.6,\n",
              "       23. , 18.4, 15.6, 18.1, 17.4, 17.1, 13.3, 17.8, 14. , 14.4, 13.4,\n",
              "       15.6, 11.8, 13.8, 15.6, 14.6, 17.8, 15.4, 21.5, 19.6, 15.3, 19.4,\n",
              "       17. , 15.6, 13.1, 41.3, 24.3, 23.3, 27. , 50. , 50. , 50. , 22.7,\n",
              "       25. , 50. , 23.8, 23.8, 22.3, 17.4, 19.1, 23.1, 23.6, 22.6, 29.4,\n",
              "       23.2, 24.6, 29.9, 37.2, 39.8, 36.2, 37.9, 32.5, 26.4, 29.6, 50. ,\n",
              "       32. , 29.8, 34.9, 37. , 30.5, 36.4, 31.1, 29.1, 50. , 33.3, 30.3,\n",
              "       34.6, 34.9, 32.9, 24.1, 42.3, 48.5, 50. , 22.6, 24.4, 22.5, 24.4,\n",
              "       20. , 21.7, 19.3, 22.4, 28.1, 23.7, 25. , 23.3, 28.7, 21.5, 23. ,\n",
              "       26.7, 21.7, 27.5, 30.1, 44.8, 50. , 37.6, 31.6, 46.7, 31.5, 24.3,\n",
              "       31.7, 41.7, 48.3, 29. , 24. , 25.1, 31.5, 23.7, 23.3, 22. , 20.1,\n",
              "       22.2, 23.7, 17.6, 18.5, 24.3, 20.5, 24.5, 26.2, 24.4, 24.8, 29.6,\n",
              "       42.8, 21.9, 20.9, 44. , 50. , 36. , 30.1, 33.8, 43.1, 48.8, 31. ,\n",
              "       36.5, 22.8, 30.7, 50. , 43.5, 20.7, 21.1, 25.2, 24.4, 35.2, 32.4,\n",
              "       32. , 33.2, 33.1, 29.1, 35.1, 45.4, 35.4, 46. , 50. , 32.2, 22. ,\n",
              "       20.1, 23.2, 22.3, 24.8, 28.5, 37.3, 27.9, 23.9, 21.7, 28.6, 27.1,\n",
              "       20.3, 22.5, 29. , 24.8, 22. , 26.4, 33.1, 36.1, 28.4, 33.4, 28.2,\n",
              "       22.8, 20.3, 16.1, 22.1, 19.4, 21.6, 23.8, 16.2, 17.8, 19.8, 23.1,\n",
              "       21. , 23.8, 23.1, 20.4, 18.5, 25. , 24.6, 23. , 22.2, 19.3, 22.6,\n",
              "       19.8, 17.1, 19.4, 22.2, 20.7, 21.1, 19.5, 18.5, 20.6, 19. , 18.7,\n",
              "       32.7, 16.5, 23.9, 31.2, 17.5, 17.2, 23.1, 24.5, 26.6, 22.9, 24.1,\n",
              "       18.6, 30.1, 18.2, 20.6, 17.8, 21.7, 22.7, 22.6, 25. , 19.9, 20.8,\n",
              "       16.8, 21.9, 27.5, 21.9, 23.1, 50. , 50. , 50. , 50. , 50. , 13.8,\n",
              "       13.8, 15. , 13.9, 13.3, 13.1, 10.2, 10.4, 10.9, 11.3, 12.3,  8.8,\n",
              "        7.2, 10.5,  7.4, 10.2, 11.5, 15.1, 23.2,  9.7, 13.8, 12.7, 13.1,\n",
              "       12.5,  8.5,  5. ,  6.3,  5.6,  7.2, 12.1,  8.3,  8.5,  5. , 11.9,\n",
              "       27.9, 17.2, 27.5, 15. , 17.2, 17.9, 16.3,  7. ,  7.2,  7.5, 10.4,\n",
              "        8.8,  8.4, 16.7, 14.2, 20.8, 13.4, 11.7,  8.3, 10.2, 10.9, 11. ,\n",
              "        9.5, 14.5, 14.1, 16.1, 14.3, 11.7, 13.4,  9.6,  8.7,  8.4, 12.8,\n",
              "       10.5, 17.1, 18.4, 15.4, 10.8, 11.8, 14.9, 12.6, 14.1, 13. , 13.4,\n",
              "       15.2, 16.1, 17.8, 14.9, 14.1, 12.7, 13.5, 14.9, 20. , 16.4, 17.7,\n",
              "       19.5, 20.2, 21.4, 19.9, 19. , 19.1, 19.1, 20.1, 19.9, 19.6, 23.2,\n",
              "       29.8, 13.8, 13.3, 16.7, 12. , 14.6, 21.4, 23. , 23.7, 25. , 21.8,\n",
              "       20.6, 21.2, 19.1, 20.6, 15.2,  7. ,  8.1, 13.6, 20.1, 21.8, 24.5,\n",
              "       23.1, 19.7, 18.3, 21.2, 17.5, 16.8, 22.4, 20.6, 23.9, 22. , 11.9])"
            ]
          },
          "metadata": {},
          "execution_count": 70
        }
      ]
    },
    {
      "cell_type": "code",
      "source": [
        "from sklearn.model_selection import train_test_split\n",
        "X_train,X_test,Y_train,Y_test = train_test_split(X,Y,random_state=1,test_size=0.20)"
      ],
      "metadata": {
        "id": "WjrUTKwMB6tP"
      },
      "execution_count": 71,
      "outputs": []
    },
    {
      "cell_type": "code",
      "source": [
        "from sklearn.linear_model import RidgeCV\n",
        "ridge = RidgeCV([1e-3, 1e-2, 1e-1, 1],cv=5).fit(X_train, Y_train)\n",
        "print(ridge.score(X_test, Y_test)*100)"
      ],
      "metadata": {
        "colab": {
          "base_uri": "https://localhost:8080/"
        },
        "id": "Focz83h7DIqk",
        "outputId": "e6eed1cb-5839-4d04-b250-b63e9f586234"
      },
      "execution_count": 72,
      "outputs": [
        {
          "output_type": "stream",
          "name": "stdout",
          "text": [
            "76.35045352106553\n"
          ]
        }
      ]
    },
    {
      "cell_type": "code",
      "source": [
        "from sklearn.linear_model import LassoCV\n",
        "lasso = LassoCV(alphas=[1e-3, 1e-2, 1e-1, 1]).fit(X_train, Y_train)\n",
        "print(lasso.score(X_test, Y_test)*100)"
      ],
      "metadata": {
        "colab": {
          "base_uri": "https://localhost:8080/"
        },
        "id": "0PobdS11DLke",
        "outputId": "6e3ebf42-6662-42b8-d718-a57d7b5375e1"
      },
      "execution_count": 73,
      "outputs": [
        {
          "output_type": "stream",
          "name": "stdout",
          "text": [
            "76.35005632846243\n"
          ]
        }
      ]
    }
  ],
  "metadata": {
    "kernelspec": {
      "display_name": "Python 3.10.6 64-bit",
      "language": "python",
      "name": "python3"
    },
    "language_info": {
      "codemirror_mode": {
        "name": "ipython",
        "version": 3
      },
      "file_extension": ".py",
      "mimetype": "text/x-python",
      "name": "python",
      "nbconvert_exporter": "python",
      "pygments_lexer": "ipython3",
      "version": "3.10.6"
    },
    "orig_nbformat": 4,
    "vscode": {
      "interpreter": {
        "hash": "27f6fea6f47ae512550f0b8facdbd035a93e1dd89633f7bf2dd00a2502c71d0d"
      }
    },
    "colab": {
      "provenance": [],
      "collapsed_sections": [
        "jvloG4DlzzO4",
        "1dv6EapwzzPt",
        "jtlfwwEuzzP_"
      ]
    }
  },
  "nbformat": 4,
  "nbformat_minor": 0
}