{
  "cells": [
    {
      "cell_type": "markdown",
      "metadata": {
        "id": "zUuTfsYxxLfF"
      },
      "source": [
        "Q1 (a) Reverse the NumPy array: arr = np.array([1, 2, 3, 6, 4, 5]) "
      ]
    },
    {
      "cell_type": "code",
      "execution_count": 2,
      "metadata": {
        "colab": {
          "base_uri": "https://localhost:8080/"
        },
        "id": "PlLn6p4wumew",
        "outputId": "44243a26-0b65-42bd-ffe0-9519d320ee43"
      },
      "outputs": [
        {
          "name": "stdout",
          "output_type": "stream",
          "text": [
            "Initial Array: [1 2 3 4 5 6]\n",
            "Reversed Array: [6 5 4 3 2 1]\n"
          ]
        }
      ],
      "source": [
        "import numpy as np\n",
        "import math\n",
        "arr = np.array([1,2,3,4,5,6])\n",
        "print('Initial Array:',arr)\n",
        "\n",
        "n = len(arr)\n",
        "n1 = math.floor(n/2)\n",
        "\n",
        "for i in range(n1):\n",
        "  arr[i], arr[n-i-1] = arr[n-i-1], arr[i]\n",
        "\n",
        "# arr = np.flipud(arr)\n",
        "print('Reversed Array:',arr)\n"
      ]
    },
    {
      "cell_type": "markdown",
      "metadata": {
        "id": "Mv_EKQudxPsc"
      },
      "source": [
        "Q1 (b) Flatten the NumPy arr: array1 = np.array([[1, 2, 3], [2, 4, 5], [1, 2, 3]]) using any two NumPy in-built methods"
      ]
    },
    {
      "cell_type": "code",
      "execution_count": 3,
      "metadata": {
        "colab": {
          "base_uri": "https://localhost:8080/"
        },
        "id": "7JLha36-wGQ2",
        "outputId": "b2233926-9b43-4069-c7c8-21ac3bbe6321"
      },
      "outputs": [
        {
          "name": "stdout",
          "output_type": "stream",
          "text": [
            "Initial Array: [[1 2 3]\n",
            " [2 4 5]\n",
            " [1 2 3]]\n",
            "Flattened Array: [1 2 3 2 4 5 1 2 3]\n"
          ]
        }
      ],
      "source": [
        "import numpy as np\n",
        "array1 = np.array([[1,2,3],[2,4,5],[1,2,3]])\n",
        "print('Initial Array:',array1)\n",
        "array1 = array1.flatten()\n",
        "print('Flattened Array:',array1)"
      ]
    },
    {
      "cell_type": "markdown",
      "metadata": {
        "id": "IKLb1T1XxQwi"
      },
      "source": [
        "Q1 (c) Compare the following numpy arrays:\n",
        "arr1 = np.array([[1, 2], [3, 4]])\n",
        "arr2 = np.array([[1, 2], [3, 4]])"
      ]
    },
    {
      "cell_type": "code",
      "execution_count": 4,
      "metadata": {
        "colab": {
          "base_uri": "https://localhost:8080/"
        },
        "id": "YwPzuwhtxKUs",
        "outputId": "55b74b08-8092-41e1-dcab-3b721ac7caf2"
      },
      "outputs": [
        {
          "name": "stdout",
          "output_type": "stream",
          "text": [
            "Array 1:  [[1 2]\n",
            " [3 4]]\n",
            "\n",
            "Array 2:  [[1 2]\n",
            " [3 4]]\n",
            "\n",
            "Arrays are equal\n"
          ]
        }
      ],
      "source": [
        "import numpy as np\n",
        "arr1 = np.array([[1,2],[3,4]])\n",
        "arr2 = np.array([[1,2],[3,4]])\n",
        "print('Array 1: ', arr1)\n",
        "print('\\nArray 2: ', arr2)\n",
        "\n",
        "comparison = arr1 == arr2\n",
        "if(comparison.all()):\n",
        "  print('\\nArrays are equal')\n",
        "# print('\\n',comparison.all())\n",
        " \n",
        "# print(\"arr1 > arr2\")\n",
        "# print(np.greater(arr1, arr2))\n",
        " \n",
        "# print(\"arr1 >= arr2\")\n",
        "# print(np.greater_equal(arr1, arr2))\n",
        " \n",
        "# print(\"arr1 < arr2\")\n",
        "# print(np.less(arr1, arr2))\n",
        " \n",
        "# print(\"arr1 <= arr2\")\n",
        "# print(np.less_equal(arr1, arr2))\n"
      ]
    },
    {
      "cell_type": "markdown",
      "metadata": {
        "id": "D_yBfUCGxh6C"
      },
      "source": [
        "Q1 (d) Find the most frequent value and their indice(s) in the following arrays:\n",
        "i. x = np.array([1,2,3,4,5,1,2,1,1,1])\n",
        "ii. y = np.array([1, 1, 1, 2, 3, 4, 2, 4, 3, 3, ])"
      ]
    },
    {
      "cell_type": "code",
      "execution_count": 5,
      "metadata": {
        "colab": {
          "base_uri": "https://localhost:8080/"
        },
        "id": "v4M7GjfYx2Lb",
        "outputId": "dfe141a0-42ee-46e5-8caf-28fc536ae308"
      },
      "outputs": [
        {
          "name": "stdout",
          "output_type": "stream",
          "text": [
            "Highest frequency element in array X is: 1 with frequency: 5 and indices: [0. 5. 7. 8. 9.]\n",
            "Highest frequency element in array Y is: 1 with frequency: 3 and indices: [4. 8. 9.]\n"
          ]
        }
      ],
      "source": [
        "import numpy\n",
        "import numpy as np\n",
        "x = np.array([1,2,3,4,5,1,2,1,1,1]) \n",
        "y = np.array([1, 1, 1, 2, 3, 4, 2, 4, 3, 3])\n",
        "maxcount_x = 0;\n",
        "el_max_x = 0;\n",
        "for i in range(0,10):\n",
        "  count_x = 0\n",
        "  indices_x = []\n",
        "  for j in range(0,10):\n",
        "    if(x[i]==x[j]):\n",
        "      count_x += 1\n",
        "      indices_x = np.append(indices_x,j)\n",
        "      if(count_x > maxcount_x):\n",
        "        maxcount_x = count_x\n",
        "        el_max_x = x[i]\n",
        "print('Highest frequency element in array X is:',el_max_x,'with frequency:',maxcount_x,'and indices:',indices_x)\n",
        "\n",
        "maxcount_y = 0\n",
        "el_max_y = 0\n",
        "for k in range(0,10):\n",
        "  count_y = 0\n",
        "  indices_y = []\n",
        "  for l in range(0,10):\n",
        "    if(y[k]==y[l]):\n",
        "      count_y += 1\n",
        "      indices_y = np.append(indices_y,l)\n",
        "      if(count_y > maxcount_y):\n",
        "        maxcount_y = count_y\n",
        "        el_max_y = y[k]\n",
        "print('Highest frequency element in array Y is:',el_max_y,'with frequency:',maxcount_y,'and indices:',indices_y)\n"
      ]
    },
    {
      "cell_type": "markdown",
      "metadata": {
        "id": "kzIuBEWZx2hD"
      },
      "source": [
        "Q1 (e) For the array gfg = np.matrix('[4, 1, 9; 12, 3, 1; 4, 5, 6]'), find\n",
        "i. Sum of all elements\n",
        "ii. Sum of all elements row-wise\n",
        "iii. Sum of all elements column-wise"
      ]
    },
    {
      "cell_type": "code",
      "execution_count": 6,
      "metadata": {
        "colab": {
          "base_uri": "https://localhost:8080/"
        },
        "id": "Qd6s8l3Jx25T",
        "outputId": "8af7bde6-1ad7-40fa-d58e-7e821a777c21"
      },
      "outputs": [
        {
          "name": "stdout",
          "output_type": "stream",
          "text": [
            "Sum of all elements of the matrix: 45\n",
            "\n",
            "\n",
            "Sum of row 1 is: 14\n",
            "Sum of row 2 is: 14\n",
            "Sum of row 3 is: 16\n",
            "\n",
            "\n",
            "Sum of col 1 is: 4\n",
            "Sum of col 2 is: 15\n",
            "Sum of col 3 is: 15\n"
          ]
        }
      ],
      "source": [
        "import numpy as np\n",
        "gfg = np.matrix('[4, 1, 9; 12, 3, 1; 4, 5, 6]')\n",
        "sum = 0\n",
        "for i in range(0,3):\n",
        "  for j in range(0,3):\n",
        "    sum += gfg[i,j]\n",
        "print('Sum of all elements of the matrix:',sum)\n",
        "print('\\n')\n",
        "\n",
        "sum = 0\n",
        "row = 1\n",
        "while row < 4:\n",
        "  for i in range(0,row):\n",
        "    for j in range(0,3):\n",
        "      sum += gfg[i,j]\n",
        "    print('Sum of row',row,'is:',sum)\n",
        "    sum = 0\n",
        "    row +=1\n",
        "print('\\n')\n",
        "\n",
        "sum = 0\n",
        "col = 1\n",
        "while col < 4:\n",
        "  for i in range(0,3):\n",
        "    for j in range(0,col):\n",
        "      sum += gfg[i,j]\n",
        "    print('Sum of col',col,'is:',sum)\n",
        "    sum = 0\n",
        "    col +=1"
      ]
    },
    {
      "cell_type": "markdown",
      "metadata": {
        "id": "eCt2zwqqx3Kj"
      },
      "source": [
        "Q1 (f) For the matrix: n_array = np.array([[55, 25, 15],[30, 44, 2],[11, 45, 77]]), find\n",
        "i. Sum of diagonal elements\n",
        "ii. Eigen values of matrix\n",
        "iii. Eigen vectors of matrix\n",
        "iv. Inverse of matrix\n",
        "v. Determinant of matrix"
      ]
    },
    {
      "cell_type": "code",
      "execution_count": 7,
      "metadata": {
        "colab": {
          "base_uri": "https://localhost:8080/"
        },
        "id": "s7YFHiYxx3zT",
        "outputId": "819e50d7-ccdb-4ca9-be3b-20354b0313c0"
      },
      "outputs": [
        {
          "name": "stdout",
          "output_type": "stream",
          "text": [
            "A is:  [[55 25 15]\n",
            " [30 44  2]\n",
            " [11 45 77]]\n",
            "\n",
            "Sum of all diagonal elements of the matrix: 176\n",
            "\n",
            "Eigen values of matrix are:  [98.16835147 28.097044   49.73460452]\n",
            "\n",
            "Eigen vector of matrix is:  [[ 0.4574917   0.34637121 -0.15017693]\n",
            " [ 0.28447814 -0.72784061 -0.4852124 ]\n",
            " [ 0.84248058  0.59184038  0.8614034 ]]\n",
            "\n",
            "Inverse of matrix A is:  [[ 0.02404141 -0.00911212 -0.00444671]\n",
            " [-0.01667882  0.02966905  0.0024785 ]\n",
            " [ 0.00631287 -0.01603732  0.01217379]]\n",
            "\n",
            "Determinent of matrix A is: 137180.0000000001\n"
          ]
        }
      ],
      "source": [
        "import numpy as np\n",
        "from numpy import linalg as la\n",
        "A = np.array([[55, 25, 15],[30, 44, 2],[11, 45, 77]])\n",
        "print('A is: ',A)\n",
        "\n",
        "sum = 0\n",
        "for i in range(0,3):\n",
        "  for j in range(0,3):\n",
        "    if(i==j):\n",
        "      sum += A[i,j]\n",
        "print('\\nSum of all diagonal elements of the matrix:',sum)\n",
        "\n",
        "eig_val,eig_vec = la.eig(A)\n",
        "print('\\nEigen values of matrix are: ',eig_val)\n",
        "print('\\nEigen vector of matrix is: ',eig_vec)\n",
        "\n",
        "inv_matrix = la.inv(A);\n",
        "print('\\nInverse of matrix A is: ',inv_matrix)\n",
        "\n",
        "det_matrix = la.det(A)\n",
        "print('\\nDeterminent of matrix A is:',det_matrix)"
      ]
    },
    {
      "cell_type": "markdown",
      "metadata": {
        "id": "_WtCa_wJx4Cr"
      },
      "source": [
        "Q1 (g) Multiply the following matrices and also find covariance between matrices using NumPy:\n",
        "i. p = [[1, 2], [2, 3]]\n",
        "q = [[4, 5], [6, 7]]\n",
        "ii. p = [[1, 2], [2, 3], [4, 5]]\n",
        "q = [[4, 5, 1], [6, 7, 2]]"
      ]
    },
    {
      "cell_type": "code",
      "execution_count": 8,
      "metadata": {
        "colab": {
          "base_uri": "https://localhost:8080/"
        },
        "id": "rZdmDV87x4ZL",
        "outputId": "c576b069-0ad5-4e02-c3e6-74766c854feb"
      },
      "outputs": [
        {
          "name": "stdout",
          "output_type": "stream",
          "text": [
            "Multiplied matrices: [[16, 19], [26, 31]]\n",
            "\n",
            "Covariance of matrix P: [[0.5 0.5]\n",
            " [0.5 0.5]]\n",
            "\n",
            "Covariance of matrix P: [[0.5 0.5]\n",
            " [0.5 0.5]]\n",
            "Multiplied matrices: [[16 19  5]\n",
            " [26 31  8]\n",
            " [46 55 14]]\n",
            "\n",
            "Covariance of matrix P: 2.166666666666667\n",
            "\n",
            "Covariance of matrix P: 2.166666666666667\n"
          ]
        }
      ],
      "source": [
        "import numpy as np\n",
        "p = [[1, 2], [2, 3]]\n",
        "q = [[4, 5], [6, 7]]\n",
        "mul_matrix = [[0,0],[0,0]]\n",
        "\n",
        "for i in range(len(p)):\n",
        "    for j in range(len(q[0])):\n",
        "        for k in range(len(q)):\n",
        "            mul_matrix[i][j] += p[i][k] * q[k][j]\n",
        "print('Multiplied matrices:',mul_matrix)\n",
        "\n",
        "cov_p = np.cov(p)\n",
        "print('\\nCovariance of matrix P:',cov_p)\n",
        "cov_q = np.cov(q)\n",
        "print('\\nCovariance of matrix P:',cov_p)\n",
        "\n",
        "p = [[1, 2], [2, 3], [4, 5]]\n",
        "q = [[4, 5, 1], [6, 7, 2]]\n",
        "mul_matrix = [[0,0],[0,0]]\n",
        "\n",
        "mul_matrix = np.dot(p,q)\n",
        "print('Multiplied matrices:',mul_matrix)\n",
        "\n",
        "p = np.array([[1, 2], [2, 3], [4, 5]])\n",
        "q = np.array([[4, 5, 1], [6, 7, 2]])\n",
        "p = p.flatten()\n",
        "q = q.flatten()\n",
        "\n",
        "cov_p = np.cov(p)\n",
        "print('\\nCovariance of matrix P:',cov_p)\n",
        "cov_q = np.cov(q)\n",
        "print('\\nCovariance of matrix P:',cov_p)\n",
        "\n",
        "\n"
      ]
    },
    {
      "cell_type": "markdown",
      "metadata": {
        "id": "wmJVTK4zx4ob"
      },
      "source": [
        "Q1 (h) For the matrices: x = np.array([[2, 3, 4], [3, 2, 9]]); y = np.array([[1, 5, 0], [5, 10, 3]]), find inner, outer and cartesian product?"
      ]
    },
    {
      "cell_type": "code",
      "execution_count": 9,
      "metadata": {
        "colab": {
          "base_uri": "https://localhost:8080/"
        },
        "id": "n6WGXAnY-dHz",
        "outputId": "ad98800c-0697-4324-ffc3-97eadcac9e59"
      },
      "outputs": [
        {
          "name": "stdout",
          "output_type": "stream",
          "text": [
            "Inner product: [[ 17  40   9]\n",
            " [ 13  35   6]\n",
            " [ 49 110  27]]\n",
            "Outer product: [[17 52]\n",
            " [13 62]]\n",
            "Cartesian product: [array([[2, 3, 4, 2, 3, 4],\n",
            "        [3, 2, 9, 3, 2, 9]])\n",
            " array([ 1,  1,  5,  5,  0,  0,  5,  5, 10, 10,  3,  3])]\n"
          ]
        },
        {
          "name": "stderr",
          "output_type": "stream",
          "text": [
            "c:\\Users\\parth\\AppData\\Local\\Programs\\Python\\Python310\\lib\\site-packages\\numpy\\core\\fromnumeric.py:43: VisibleDeprecationWarning: Creating an ndarray from ragged nested sequences (which is a list-or-tuple of lists-or-tuples-or ndarrays with different lengths or shapes) is deprecated. If you meant to do this, you must specify 'dtype=object' when creating the ndarray.\n",
            "  result = getattr(asarray(obj), method)(*args, **kwds)\n"
          ]
        }
      ],
      "source": [
        "import numpy as np \n",
        "x = np.array([[2, 3, 4], [3, 2, 9]])\n",
        "y = np.array([[1, 5, 0], [5, 10, 3]])\n",
        "\n",
        "x_trans = np.zeros((3,2),dtype=int)\n",
        "y_trans = np.zeros((3,2),dtype=int)\n",
        "# q = np.zeros((3,2),dtype=int)\n",
        "\n",
        "# transpose of array x\n",
        "for i in range(len(x[0])):\n",
        "  for j in range(len(x)):\n",
        "    x_trans[i][j]= x[j][i]\n",
        "\n",
        "# transpose of array y\n",
        "for i in range(len(y[0])):\n",
        "  for j in range(len(y)):\n",
        "    y_trans[i][j]= y[j][i]  \n",
        "\n",
        "inner_pro = [[0,0,0],[0,0,0]]\n",
        "inner_pro = np.dot(x_trans,y)\n",
        "print('Inner product:',inner_pro)\n",
        "\n",
        "outer_pro = [[0,0,0],[0,0,0]]\n",
        "outer_pro = np.dot(x,y_trans)\n",
        "print('Outer product:',outer_pro)\n",
        "\n",
        "q = np.zeros((3,2),dtype=int)\n",
        "\n",
        "cartesian_pro = [[0,0,0],[0,0,0]]\n",
        "cartesian_pro = np.transpose([np.tile(x, len(y)),np.repeat(y,len(x))])\n",
        "print('Cartesian product:',cartesian_pro)\n",
        "\n",
        "\n"
      ]
    },
    {
      "cell_type": "markdown",
      "metadata": {
        "id": "gtm9mfsQFtCa"
      },
      "source": [
        "Q2) (a) For the array: array = np.array([[1, -2, 3],[-4, 5, -6]])\n",
        "i. Find element-wise absolute value\n",
        "ii. Find the 25th, 50th, and 75th percentile of flattened array, for each      column, for each row.\n",
        "iii. Mean, Median and Standard Deviation of flattened array, of each column, and each row"
      ]
    },
    {
      "cell_type": "code",
      "execution_count": 10,
      "metadata": {
        "colab": {
          "base_uri": "https://localhost:8080/"
        },
        "id": "2vTbYZciFvqu",
        "outputId": "3d38b568-a7d1-46a1-d1bd-12ea80345f23"
      },
      "outputs": [
        {
          "name": "stdout",
          "output_type": "stream",
          "text": [
            "\n",
            "Part (i)\n",
            "1\n",
            "2\n",
            "3\n",
            "4\n",
            "5\n",
            "6\n",
            "\n",
            "Part (ii)\n",
            "(Percentile for each row)\n",
            "25th Percentile of Flattened array for row 1 is: 1.0\n",
            "25th Percentile of Flattened array for row 2 is: -2.0\n",
            "25th Percentile of Flattened array for row 3 is: 3.0\n",
            "\n",
            "\n",
            "50th Percentile of Flattened array for row 1 is: 1.0\n",
            "50th Percentile of Flattened array for row 2 is: -2.0\n",
            "50th Percentile of Flattened array for row 3 is: 3.0\n",
            "\n",
            "\n",
            "75th Percentile of Flattened array for row 1 is: 1.0\n",
            "75th Percentile of Flattened array for row 2 is: -2.0\n",
            "75th Percentile of Flattened array for row 3 is: 3.0\n",
            "\n",
            "\n",
            "\n",
            "(Percentile for each Column)\n",
            "25th Percentile of Flattened array for col 1 is: -2.75\n",
            "25th Percentile of Flattened array for col 2 is: -0.25\n",
            "25th Percentile of Flattened array for col 3 is: -3.75\n",
            "\n",
            "\n",
            "50th Percentile of Flattened array for col 1 is: -1.5\n",
            "50th Percentile of Flattened array for col 2 is: 1.5\n",
            "50th Percentile of Flattened array for col 3 is: -1.5\n",
            "\n",
            "\n",
            "75th Percentile of Flattened array for col 1 is: -0.25\n",
            "75th Percentile of Flattened array for col 2 is: 3.25\n",
            "75th Percentile of Flattened array for col 3 is: 0.75\n",
            "\n",
            "Part (iii)\n",
            "(Mean row-wise)\n",
            "Mean of row 1 is: 0.6666666666666666\n",
            "Mean of row 2 is: -1.0\n",
            "\n",
            "(Mean column-wise)\n",
            "Mean of column 1 is: -1.5\n",
            "Mean of column 2 is: 0.0\n",
            "Mean of column 3 is: -1.5\n",
            "\n",
            "(Median row-wise)\n",
            "Median of row 1 of array is: 3\n",
            "Median of row 2 of array is: 5\n",
            "\n",
            "(Median column-wise)\n",
            "Median of column 1 of array is: 1\n",
            "Median of column 2 of array is: 5\n",
            "Median of column 3 of array is: 3\n",
            "\n",
            "Standard Devaition for the array is: 1.7320508075688772\n"
          ]
        }
      ],
      "source": [
        "import numpy as np\n",
        "import math\n",
        "import statistics as st\n",
        "array = np.array([[1, -2, 3],[-4, 5, -6]])\n",
        "# array = np.abs(array)\n",
        "# print('Absolute array is: ',array)\n",
        "\n",
        "print('\\nPart (i)')\n",
        "for i in range(0,2):\n",
        "  for j in range(0,3):\n",
        "    print(np.abs(array[i][j]))\n",
        "print('\\nPart (ii)')\n",
        "\n",
        "array = array.flatten()\n",
        "\n",
        "print('(Percentile for each row)')\n",
        "\n",
        "row = 0\n",
        "while row < 3:\n",
        "  per_25 = np.percentile(array[row],25)\n",
        "  print('25th Percentile of Flattened array for row',row+1,'is:',per_25)\n",
        "  row += 1\n",
        "print('\\n')\n",
        "\n",
        "row = 0\n",
        "while row < 3:\n",
        "  per_50 = np.percentile(array[row],50)\n",
        "  print('50th Percentile of Flattened array for row',row+1,'is:',per_50)\n",
        "  row += 1\n",
        "print('\\n')\n",
        "\n",
        "row = 0\n",
        "while row < 3:\n",
        "  per_75 = np.percentile(array[row],75)\n",
        "  print('75th Percentile of Flattened array for row',row+1,'is:',per_75)\n",
        "  row += 1\n",
        "print('\\n')\n",
        "\n",
        "array = np.array([[1, -2, 3],[-4, 5, -6]])\n",
        "arr_trans = np.zeros((3,2),dtype=int)\n",
        "for i in range (len(array[0])):\n",
        "  for j in range(len(array)):\n",
        "    arr_trans[i][j]= array[j][i] \n",
        "\n",
        "print('\\n(Percentile for each Column)')\n",
        "\n",
        "row = 0\n",
        "while row < 3:\n",
        "  per_25_col = np.percentile(arr_trans[row],25)\n",
        "  print('25th Percentile of Flattened array for col',row+1,'is:',per_25_col)\n",
        "  row += 1\n",
        "print('\\n')\n",
        "\n",
        "row = 0\n",
        "while row < 3:\n",
        "  per_50_col = np.percentile(arr_trans[row],50)\n",
        "  print('50th Percentile of Flattened array for col',row+1,'is:',per_50_col)\n",
        "  row += 1\n",
        "print('\\n')    \n",
        "\n",
        "row = 0\n",
        "while row < 3:\n",
        "  per_75_col = np.percentile(arr_trans[row],75)\n",
        "  print('75th Percentile of Flattened array for col',row+1,'is:',per_75_col)\n",
        "  row += 1\n",
        "\n",
        "print('\\nPart (iii)')\n",
        "# sum = 0\n",
        "# for i in range(len(arr)):\n",
        "#   for j in range(len(arr[0])):\n",
        "#     sum += arr[i][j]\n",
        "# mean = sum/len(arr)\n",
        "# print()  \n",
        "\n",
        "# arr = np.array([[1, -2, 3],[-4, 5, -6]])\n",
        "\n",
        "print('(Mean row-wise)')\n",
        "sum = 0\n",
        "mean = 0\n",
        "i = 0\n",
        "while i < len(array):\n",
        "  for j in range(len(array[0])):\n",
        "    sum += array[i][j]\n",
        "  mean = sum/len(array[0])\n",
        "  print('Mean of row',i+1,'is:',mean)\n",
        "  i += 1\n",
        "\n",
        "print('\\n(Mean column-wise)')\n",
        "sum = 0\n",
        "mean = 0\n",
        "i = 0\n",
        "while i < len(arr_trans):\n",
        "  for j in range(len(arr_trans[0])):\n",
        "    sum += arr_trans[i][j]\n",
        "  mean = sum/len(arr_trans[0])\n",
        "  print('Mean of column',i+1,'is:',mean)\n",
        "  i += 1\n",
        "\n",
        "def arr_sort(arr):\n",
        "  for i in range(len(arr)-1):\n",
        "    for j in range(i+1,len(arr)):\n",
        "      if(arr[j] < arr[i]):\n",
        "        temp=arr[i]\n",
        "        arr[i]=arr[j]\n",
        "        arr[j]=temp\n",
        "  return arr\n",
        "\n",
        "print('\\n(Median row-wise)')\n",
        "for i in range(len(array)):\n",
        "  med_arr = []\n",
        "  for j in range(len(array[0])):\n",
        "    med_arr.append(array[i][j])\n",
        "  med_arr = arr_sort(med_arr)\n",
        "  length = len(med_arr)\n",
        "  med = 0\n",
        "  med = math.floor(1/2*(length+1))\n",
        "  print('Median of row',i+1,'of array is:',med_arr[med])\n",
        "\n",
        "print('\\n(Median column-wise)')\n",
        "for i in range(len(arr_trans)):\n",
        "  med_arr = []\n",
        "  for j in range(len(arr_trans[0])):\n",
        "    med_arr.append(arr_trans[i][j])\n",
        "  med_arr = arr_sort(med_arr)\n",
        "  length = len(med_arr)\n",
        "  med = 0\n",
        "  med = math.floor(1/2*(length+1))\n",
        "  print('Median of column',i+1,'of array is:',med_arr[med])\n",
        "\n",
        "print('\\nStandard Devaition for the array is:',st.stdev(arr))"
      ]
    },
    {
      "cell_type": "markdown",
      "metadata": {
        "id": "Gw0flq8nF1_d"
      },
      "source": [
        "Q2) (b) For the array: a = np.array([-1.8, -1.6, -0.5, 0.5,1.6, 1.8, 3.0]). Find floor, ceiling and truncated value, rounded values"
      ]
    },
    {
      "cell_type": "code",
      "execution_count": 11,
      "metadata": {
        "colab": {
          "base_uri": "https://localhost:8080/"
        },
        "id": "sajfhkdYF6aR",
        "outputId": "3d1e293c-d060-4a63-e032-f4990fde8198"
      },
      "outputs": [
        {
          "name": "stdout",
          "output_type": "stream",
          "text": [
            "Array with floor values: [-2, -2, -1, 0, 1, 1, 3]\n",
            "Array with Ceil values: [-1, -1, 0, 1, 2, 2, 3]\n",
            "Array with Truncate values: [-1, -1, 0, 0, 1, 1, 3]\n",
            "Array with Rounded values: [-1.8, -1.6, -0.5, 0.5, 1.6, 1.8, 3.0]\n"
          ]
        }
      ],
      "source": [
        "import numpy as np\n",
        "import math\n",
        "\n",
        "a = np.array([-1.8, -1.6, -0.5, 0.5,1.6, 1.8, 3.0])\n",
        "b = []\n",
        "for i in range(len(a)):\n",
        "  b.append(math.floor(a[i]))\n",
        "print('Array with floor values:',b)\n",
        "\n",
        "b = []\n",
        "for i in range(len(a)):\n",
        "  b.append(math.ceil(a[i]))\n",
        "print('Array with Ceil values:',b)\n",
        "\n",
        "b = []\n",
        "for i in range(len(a)):\n",
        "  b.append(math.trunc(a[i]))\n",
        "print('Array with Truncate values:',b)\n",
        "\n",
        "b = []\n",
        "for i in range(len(a)):\n",
        "  b.append(round(a[i],2))\n",
        "print('Array with Rounded values:',b)\n"
      ]
    },
    {
      "cell_type": "markdown",
      "metadata": {
        "id": "8UZioGxkBr2j"
      },
      "source": [
        "Q3) (a) For the array: array = np.array([10, 52, 62, 16, 16, 54, 453]), find\n",
        "i. Sorted array\n",
        "ii. Indices of sorted array\n",
        "iii. 4 smallest elements\n",
        "iv. 5 largest elements"
      ]
    },
    {
      "cell_type": "code",
      "execution_count": 12,
      "metadata": {
        "colab": {
          "base_uri": "https://localhost:8080/"
        },
        "id": "uVdIWX118vVk",
        "outputId": "481ba228-2349-49a2-c113-29d9309aa8ca"
      },
      "outputs": [
        {
          "name": "stdout",
          "output_type": "stream",
          "text": [
            "Sorted array is:  [ 10  16  16  52  54  62 453]\n",
            "Smallest four elements are:  [10, 16, 16, 52]\n",
            "Largest five elements are:  [62, 54, 52, 16, 16]\n"
          ]
        }
      ],
      "source": [
        "import numpy as np\n",
        "array = np.array([10, 52, 62, 16, 16, 54, 453])\n",
        "def arr_sort(arr):\n",
        "  for i in range(len(arr)-1):\n",
        "    for j in range(i+1,len(arr)):\n",
        "      if(arr[j] < arr[i]):\n",
        "        temp=arr[i]\n",
        "        arr[i]=arr[j]\n",
        "        arr[j]=temp\n",
        "  return arr \n",
        "\n",
        "sorted_arr = arr_sort(array)\n",
        "print('Sorted array is: ',sorted_arr)     \n",
        "\n",
        "small_ele = []\n",
        "for i in range(4):\n",
        "  small_ele.append(sorted_arr[i])\n",
        "print('Smallest four elements are: ',small_ele)\n",
        "\n",
        "large_ele = []\n",
        "for i in range(5,0,-1):\n",
        "  large_ele.append(sorted_arr[i])\n",
        "print('Largest five elements are: ',large_ele)"
      ]
    },
    {
      "cell_type": "markdown",
      "metadata": {},
      "source": [
        "Q3) b)"
      ]
    },
    {
      "cell_type": "code",
      "execution_count": 1,
      "metadata": {},
      "outputs": [
        {
          "name": "stdout",
          "output_type": "stream",
          "text": [
            "Integer elements only are: [1. 2. 3. 2.]\n",
            "Float elements only are: [1.2 2.2]\n"
          ]
        }
      ],
      "source": [
        "import numpy as np\n",
        "array = np.array([1.0, 1.2, 2.2, 2.0, 3.0, 2.0])\n",
        "\n",
        "result = array[array== array.astype(int)]\n",
        "print('Integer elements only are:',result)\n",
        "result = array[array != array.astype(int)]\n",
        "print('Float elements only are:',result)"
      ]
    }
  ],
  "metadata": {
    "colab": {
      "collapsed_sections": [],
      "name": "Ass_1_ML.ipynb",
      "provenance": []
    },
    "kernelspec": {
      "display_name": "Python 3.10.5 64-bit",
      "language": "python",
      "name": "python3"
    },
    "language_info": {
      "codemirror_mode": {
        "name": "ipython",
        "version": 3
      },
      "file_extension": ".py",
      "mimetype": "text/x-python",
      "name": "python",
      "nbconvert_exporter": "python",
      "pygments_lexer": "ipython3",
      "version": "3.10.5"
    },
    "vscode": {
      "interpreter": {
        "hash": "b1f570cb91817614ef5c059314506ddd1665cb272bc6d56c14d46da724343f92"
      }
    }
  },
  "nbformat": 4,
  "nbformat_minor": 0
}
